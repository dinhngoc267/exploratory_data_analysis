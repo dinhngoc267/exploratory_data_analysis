{
  "cells": [
    {
      "cell_type": "markdown",
      "metadata": {
        "id": "view-in-github",
        "colab_type": "text"
      },
      "source": [
        "<a href=\"https://colab.research.google.com/github/dinhngoc267/exploratory_data_analysis/blob/main/articles_recomendation.ipynb\" target=\"_parent\"><img src=\"https://colab.research.google.com/assets/colab-badge.svg\" alt=\"Open In Colab\"/></a>"
      ]
    },
    {
      "cell_type": "code",
      "source": [
        "from google.colab import drive\n",
        "drive.mount('/content/drive')"
      ],
      "metadata": {
        "colab": {
          "base_uri": "https://localhost:8080/",
          "height": 0
        },
        "id": "MPuBSBYUGobX",
        "outputId": "818f219e-371b-4e98-b117-198294568302"
      },
      "execution_count": 3,
      "outputs": [
        {
          "output_type": "stream",
          "name": "stdout",
          "text": [
            "Mounted at /content/drive\n"
          ]
        }
      ]
    },
    {
      "cell_type": "code",
      "execution_count": 4,
      "metadata": {
        "colab": {
          "base_uri": "https://localhost:8080/",
          "height": 0
        },
        "id": "DWkQb8Nk-1Qq",
        "outputId": "7979e5d2-c094-4889-d5d6-ce329c13b38d"
      },
      "outputs": [
        {
          "output_type": "stream",
          "name": "stdout",
          "text": [
            "Archive:  /content/drive/MyDrive/OneDrive_1_6-26-2023.zip\n",
            " extracting: /content/articles.csv.gz  \n",
            " extracting: /content/reading.csv.gz  \n",
            " extracting: /content/users.csv.gz   \n"
          ]
        }
      ],
      "source": [
        "!unzip  /content/drive/MyDrive/OneDrive_1_6-26-2023.zip -d '/content/'"
      ]
    },
    {
      "cell_type": "markdown",
      "metadata": {
        "id": "bCvk_euvEcOE"
      },
      "source": [
        "### Import Lib"
      ]
    },
    {
      "cell_type": "code",
      "execution_count": 1,
      "metadata": {
        "id": "FVFMraUQw5w7",
        "colab": {
          "base_uri": "https://localhost:8080/",
          "height": 0
        },
        "outputId": "36280f5e-2c92-4ee6-bcd2-79056e03c081"
      },
      "outputs": [
        {
          "output_type": "stream",
          "name": "stdout",
          "text": [
            "\u001b[2K     \u001b[90m━━━━━━━━━━━━━━━━━━━━━━━━━━━━━━━━━━━━━━━━\u001b[0m \u001b[32m19.2/19.2 MB\u001b[0m \u001b[31m97.1 MB/s\u001b[0m eta \u001b[36m0:00:00\u001b[0m\n",
            "\u001b[2K     \u001b[90m━━━━━━━━━━━━━━━━━━━━━━━━━━━━━━━━━━━━━━\u001b[0m \u001b[32m993.5/993.5 kB\u001b[0m \u001b[31m73.2 MB/s\u001b[0m eta \u001b[36m0:00:00\u001b[0m\n",
            "\u001b[2K     \u001b[90m━━━━━━━━━━━━━━━━━━━━━━━━━━━━━━━━━━━━━━\u001b[0m \u001b[32m599.6/599.6 kB\u001b[0m \u001b[31m53.4 MB/s\u001b[0m eta \u001b[36m0:00:00\u001b[0m\n",
            "\u001b[?25h"
          ]
        }
      ],
      "source": [
        "!pip install -q underthesea"
      ]
    },
    {
      "cell_type": "code",
      "execution_count": null,
      "metadata": {
        "id": "NamV3Swvw8Hu"
      },
      "outputs": [],
      "source": [
        "!pip install -q wordcloud"
      ]
    },
    {
      "cell_type": "code",
      "execution_count": 2,
      "metadata": {
        "id": "GEBXWa0LEa4D"
      },
      "outputs": [],
      "source": [
        "import pandas as pd\n",
        "import gzip\n",
        "import seaborn as sns\n",
        "import matplotlib.pyplot as plt\n",
        "from wordcloud import WordCloud, STOPWORDS, ImageColorGenerator\n",
        "from tqdm import tqdm\n",
        "from underthesea import word_tokenize\n",
        "import datetime\n",
        "from sklearn.metrics.pairwise import linear_kernel\n",
        "from sklearn.feature_extraction.text import TfidfVectorizer\n",
        "import plotly.express as px\n"
      ]
    },
    {
      "cell_type": "markdown",
      "metadata": {
        "id": "B6ayQ2YIEfxZ"
      },
      "source": [
        "### Load Data"
      ]
    },
    {
      "cell_type": "code",
      "execution_count": 6,
      "metadata": {
        "colab": {
          "base_uri": "https://localhost:8080/",
          "height": 206
        },
        "id": "arj00Mvt_rtk",
        "outputId": "f77baaa7-e590-44be-e953-0123de8c713b"
      },
      "outputs": [
        {
          "output_type": "execute_result",
          "data": {
            "text/plain": [
              "            article_id       published_time  \\\n",
              "0   280665035534066165  2022-04-13 15:22:08   \n",
              "1   553165162239741497  2022-04-08 04:40:00   \n",
              "2  4936028575939004693  2022-04-08 08:25:00   \n",
              "3  5371965639343924869  2022-04-12 15:07:43   \n",
              "4  6042543455069651737  2022-04-11 07:14:34   \n",
              "\n",
              "                                               title          domain  category  \n",
              "0  Đổ xăng xong nhưng bùng tiền, tài xế méo mặt k...  giadinh.net.vn  Đời sống  \n",
              "1  Sài Gòn: Chán màu xanh dương, Mercedes-AMG G63...        xehay.vn        Xe  \n",
              "2  Khai mạc Kỳ họp thứ Tư, HĐND thành phố Hà Nội ...  kinhtedothi.vn    Xã hội  \n",
              "3  Lão nông đào được viên đá lạ đem bán 2000 đồng...  giadinh.net.vn  Khoa học  \n",
              "4  Cưu mang chú chó 3 chân không ngờ chú chó cứu ...  giadinh.net.vn  Đời sống  "
            ],
            "text/html": [
              "\n",
              "  <div id=\"df-1687d996-98de-4876-a1ae-0ad40e86cbaf\">\n",
              "    <div class=\"colab-df-container\">\n",
              "      <div>\n",
              "<style scoped>\n",
              "    .dataframe tbody tr th:only-of-type {\n",
              "        vertical-align: middle;\n",
              "    }\n",
              "\n",
              "    .dataframe tbody tr th {\n",
              "        vertical-align: top;\n",
              "    }\n",
              "\n",
              "    .dataframe thead th {\n",
              "        text-align: right;\n",
              "    }\n",
              "</style>\n",
              "<table border=\"1\" class=\"dataframe\">\n",
              "  <thead>\n",
              "    <tr style=\"text-align: right;\">\n",
              "      <th></th>\n",
              "      <th>article_id</th>\n",
              "      <th>published_time</th>\n",
              "      <th>title</th>\n",
              "      <th>domain</th>\n",
              "      <th>category</th>\n",
              "    </tr>\n",
              "  </thead>\n",
              "  <tbody>\n",
              "    <tr>\n",
              "      <th>0</th>\n",
              "      <td>280665035534066165</td>\n",
              "      <td>2022-04-13 15:22:08</td>\n",
              "      <td>Đổ xăng xong nhưng bùng tiền, tài xế méo mặt k...</td>\n",
              "      <td>giadinh.net.vn</td>\n",
              "      <td>Đời sống</td>\n",
              "    </tr>\n",
              "    <tr>\n",
              "      <th>1</th>\n",
              "      <td>553165162239741497</td>\n",
              "      <td>2022-04-08 04:40:00</td>\n",
              "      <td>Sài Gòn: Chán màu xanh dương, Mercedes-AMG G63...</td>\n",
              "      <td>xehay.vn</td>\n",
              "      <td>Xe</td>\n",
              "    </tr>\n",
              "    <tr>\n",
              "      <th>2</th>\n",
              "      <td>4936028575939004693</td>\n",
              "      <td>2022-04-08 08:25:00</td>\n",
              "      <td>Khai mạc Kỳ họp thứ Tư, HĐND thành phố Hà Nội ...</td>\n",
              "      <td>kinhtedothi.vn</td>\n",
              "      <td>Xã hội</td>\n",
              "    </tr>\n",
              "    <tr>\n",
              "      <th>3</th>\n",
              "      <td>5371965639343924869</td>\n",
              "      <td>2022-04-12 15:07:43</td>\n",
              "      <td>Lão nông đào được viên đá lạ đem bán 2000 đồng...</td>\n",
              "      <td>giadinh.net.vn</td>\n",
              "      <td>Khoa học</td>\n",
              "    </tr>\n",
              "    <tr>\n",
              "      <th>4</th>\n",
              "      <td>6042543455069651737</td>\n",
              "      <td>2022-04-11 07:14:34</td>\n",
              "      <td>Cưu mang chú chó 3 chân không ngờ chú chó cứu ...</td>\n",
              "      <td>giadinh.net.vn</td>\n",
              "      <td>Đời sống</td>\n",
              "    </tr>\n",
              "  </tbody>\n",
              "</table>\n",
              "</div>\n",
              "      <button class=\"colab-df-convert\" onclick=\"convertToInteractive('df-1687d996-98de-4876-a1ae-0ad40e86cbaf')\"\n",
              "              title=\"Convert this dataframe to an interactive table.\"\n",
              "              style=\"display:none;\">\n",
              "        \n",
              "  <svg xmlns=\"http://www.w3.org/2000/svg\" height=\"24px\"viewBox=\"0 0 24 24\"\n",
              "       width=\"24px\">\n",
              "    <path d=\"M0 0h24v24H0V0z\" fill=\"none\"/>\n",
              "    <path d=\"M18.56 5.44l.94 2.06.94-2.06 2.06-.94-2.06-.94-.94-2.06-.94 2.06-2.06.94zm-11 1L8.5 8.5l.94-2.06 2.06-.94-2.06-.94L8.5 2.5l-.94 2.06-2.06.94zm10 10l.94 2.06.94-2.06 2.06-.94-2.06-.94-.94-2.06-.94 2.06-2.06.94z\"/><path d=\"M17.41 7.96l-1.37-1.37c-.4-.4-.92-.59-1.43-.59-.52 0-1.04.2-1.43.59L10.3 9.45l-7.72 7.72c-.78.78-.78 2.05 0 2.83L4 21.41c.39.39.9.59 1.41.59.51 0 1.02-.2 1.41-.59l7.78-7.78 2.81-2.81c.8-.78.8-2.07 0-2.86zM5.41 20L4 18.59l7.72-7.72 1.47 1.35L5.41 20z\"/>\n",
              "  </svg>\n",
              "      </button>\n",
              "      \n",
              "  <style>\n",
              "    .colab-df-container {\n",
              "      display:flex;\n",
              "      flex-wrap:wrap;\n",
              "      gap: 12px;\n",
              "    }\n",
              "\n",
              "    .colab-df-convert {\n",
              "      background-color: #E8F0FE;\n",
              "      border: none;\n",
              "      border-radius: 50%;\n",
              "      cursor: pointer;\n",
              "      display: none;\n",
              "      fill: #1967D2;\n",
              "      height: 32px;\n",
              "      padding: 0 0 0 0;\n",
              "      width: 32px;\n",
              "    }\n",
              "\n",
              "    .colab-df-convert:hover {\n",
              "      background-color: #E2EBFA;\n",
              "      box-shadow: 0px 1px 2px rgba(60, 64, 67, 0.3), 0px 1px 3px 1px rgba(60, 64, 67, 0.15);\n",
              "      fill: #174EA6;\n",
              "    }\n",
              "\n",
              "    [theme=dark] .colab-df-convert {\n",
              "      background-color: #3B4455;\n",
              "      fill: #D2E3FC;\n",
              "    }\n",
              "\n",
              "    [theme=dark] .colab-df-convert:hover {\n",
              "      background-color: #434B5C;\n",
              "      box-shadow: 0px 1px 3px 1px rgba(0, 0, 0, 0.15);\n",
              "      filter: drop-shadow(0px 1px 2px rgba(0, 0, 0, 0.3));\n",
              "      fill: #FFFFFF;\n",
              "    }\n",
              "  </style>\n",
              "\n",
              "      <script>\n",
              "        const buttonEl =\n",
              "          document.querySelector('#df-1687d996-98de-4876-a1ae-0ad40e86cbaf button.colab-df-convert');\n",
              "        buttonEl.style.display =\n",
              "          google.colab.kernel.accessAllowed ? 'block' : 'none';\n",
              "\n",
              "        async function convertToInteractive(key) {\n",
              "          const element = document.querySelector('#df-1687d996-98de-4876-a1ae-0ad40e86cbaf');\n",
              "          const dataTable =\n",
              "            await google.colab.kernel.invokeFunction('convertToInteractive',\n",
              "                                                     [key], {});\n",
              "          if (!dataTable) return;\n",
              "\n",
              "          const docLinkHtml = 'Like what you see? Visit the ' +\n",
              "            '<a target=\"_blank\" href=https://colab.research.google.com/notebooks/data_table.ipynb>data table notebook</a>'\n",
              "            + ' to learn more about interactive tables.';\n",
              "          element.innerHTML = '';\n",
              "          dataTable['output_type'] = 'display_data';\n",
              "          await google.colab.output.renderOutput(dataTable, element);\n",
              "          const docLink = document.createElement('div');\n",
              "          docLink.innerHTML = docLinkHtml;\n",
              "          element.appendChild(docLink);\n",
              "        }\n",
              "      </script>\n",
              "    </div>\n",
              "  </div>\n",
              "  "
            ]
          },
          "metadata": {},
          "execution_count": 6
        }
      ],
      "source": [
        "with gzip.open('/content/articles.csv.gz') as f:\n",
        "    articles_df = pd.read_csv(f)\n",
        "articles_df.head()"
      ]
    },
    {
      "cell_type": "code",
      "execution_count": 7,
      "metadata": {
        "colab": {
          "base_uri": "https://localhost:8080/",
          "height": 206
        },
        "id": "wd_TMGH2_xlx",
        "outputId": "c4b85346-86b6-402f-dea5-1ead35bae3f9"
      },
      "outputs": [
        {
          "output_type": "execute_result",
          "data": {
            "text/plain": [
              "                user_id            article_id           event_time\n",
              "0  13214459406561935989  14810025847983156880  2022-04-06 00:00:00\n",
              "1   1289026229861087090  17510905596044558175  2022-04-06 00:00:00\n",
              "2   3001758567334363234   9741355532714246116  2022-04-06 00:00:00\n",
              "3   9935763984618015567   7546671372785216919  2022-04-06 00:00:00\n",
              "4  10238108363219256632  13307914094188214671  2022-04-06 00:00:01"
            ],
            "text/html": [
              "\n",
              "  <div id=\"df-5404dfdc-3987-457d-8dd2-3c5ee2e7b00d\">\n",
              "    <div class=\"colab-df-container\">\n",
              "      <div>\n",
              "<style scoped>\n",
              "    .dataframe tbody tr th:only-of-type {\n",
              "        vertical-align: middle;\n",
              "    }\n",
              "\n",
              "    .dataframe tbody tr th {\n",
              "        vertical-align: top;\n",
              "    }\n",
              "\n",
              "    .dataframe thead th {\n",
              "        text-align: right;\n",
              "    }\n",
              "</style>\n",
              "<table border=\"1\" class=\"dataframe\">\n",
              "  <thead>\n",
              "    <tr style=\"text-align: right;\">\n",
              "      <th></th>\n",
              "      <th>user_id</th>\n",
              "      <th>article_id</th>\n",
              "      <th>event_time</th>\n",
              "    </tr>\n",
              "  </thead>\n",
              "  <tbody>\n",
              "    <tr>\n",
              "      <th>0</th>\n",
              "      <td>13214459406561935989</td>\n",
              "      <td>14810025847983156880</td>\n",
              "      <td>2022-04-06 00:00:00</td>\n",
              "    </tr>\n",
              "    <tr>\n",
              "      <th>1</th>\n",
              "      <td>1289026229861087090</td>\n",
              "      <td>17510905596044558175</td>\n",
              "      <td>2022-04-06 00:00:00</td>\n",
              "    </tr>\n",
              "    <tr>\n",
              "      <th>2</th>\n",
              "      <td>3001758567334363234</td>\n",
              "      <td>9741355532714246116</td>\n",
              "      <td>2022-04-06 00:00:00</td>\n",
              "    </tr>\n",
              "    <tr>\n",
              "      <th>3</th>\n",
              "      <td>9935763984618015567</td>\n",
              "      <td>7546671372785216919</td>\n",
              "      <td>2022-04-06 00:00:00</td>\n",
              "    </tr>\n",
              "    <tr>\n",
              "      <th>4</th>\n",
              "      <td>10238108363219256632</td>\n",
              "      <td>13307914094188214671</td>\n",
              "      <td>2022-04-06 00:00:01</td>\n",
              "    </tr>\n",
              "  </tbody>\n",
              "</table>\n",
              "</div>\n",
              "      <button class=\"colab-df-convert\" onclick=\"convertToInteractive('df-5404dfdc-3987-457d-8dd2-3c5ee2e7b00d')\"\n",
              "              title=\"Convert this dataframe to an interactive table.\"\n",
              "              style=\"display:none;\">\n",
              "        \n",
              "  <svg xmlns=\"http://www.w3.org/2000/svg\" height=\"24px\"viewBox=\"0 0 24 24\"\n",
              "       width=\"24px\">\n",
              "    <path d=\"M0 0h24v24H0V0z\" fill=\"none\"/>\n",
              "    <path d=\"M18.56 5.44l.94 2.06.94-2.06 2.06-.94-2.06-.94-.94-2.06-.94 2.06-2.06.94zm-11 1L8.5 8.5l.94-2.06 2.06-.94-2.06-.94L8.5 2.5l-.94 2.06-2.06.94zm10 10l.94 2.06.94-2.06 2.06-.94-2.06-.94-.94-2.06-.94 2.06-2.06.94z\"/><path d=\"M17.41 7.96l-1.37-1.37c-.4-.4-.92-.59-1.43-.59-.52 0-1.04.2-1.43.59L10.3 9.45l-7.72 7.72c-.78.78-.78 2.05 0 2.83L4 21.41c.39.39.9.59 1.41.59.51 0 1.02-.2 1.41-.59l7.78-7.78 2.81-2.81c.8-.78.8-2.07 0-2.86zM5.41 20L4 18.59l7.72-7.72 1.47 1.35L5.41 20z\"/>\n",
              "  </svg>\n",
              "      </button>\n",
              "      \n",
              "  <style>\n",
              "    .colab-df-container {\n",
              "      display:flex;\n",
              "      flex-wrap:wrap;\n",
              "      gap: 12px;\n",
              "    }\n",
              "\n",
              "    .colab-df-convert {\n",
              "      background-color: #E8F0FE;\n",
              "      border: none;\n",
              "      border-radius: 50%;\n",
              "      cursor: pointer;\n",
              "      display: none;\n",
              "      fill: #1967D2;\n",
              "      height: 32px;\n",
              "      padding: 0 0 0 0;\n",
              "      width: 32px;\n",
              "    }\n",
              "\n",
              "    .colab-df-convert:hover {\n",
              "      background-color: #E2EBFA;\n",
              "      box-shadow: 0px 1px 2px rgba(60, 64, 67, 0.3), 0px 1px 3px 1px rgba(60, 64, 67, 0.15);\n",
              "      fill: #174EA6;\n",
              "    }\n",
              "\n",
              "    [theme=dark] .colab-df-convert {\n",
              "      background-color: #3B4455;\n",
              "      fill: #D2E3FC;\n",
              "    }\n",
              "\n",
              "    [theme=dark] .colab-df-convert:hover {\n",
              "      background-color: #434B5C;\n",
              "      box-shadow: 0px 1px 3px 1px rgba(0, 0, 0, 0.15);\n",
              "      filter: drop-shadow(0px 1px 2px rgba(0, 0, 0, 0.3));\n",
              "      fill: #FFFFFF;\n",
              "    }\n",
              "  </style>\n",
              "\n",
              "      <script>\n",
              "        const buttonEl =\n",
              "          document.querySelector('#df-5404dfdc-3987-457d-8dd2-3c5ee2e7b00d button.colab-df-convert');\n",
              "        buttonEl.style.display =\n",
              "          google.colab.kernel.accessAllowed ? 'block' : 'none';\n",
              "\n",
              "        async function convertToInteractive(key) {\n",
              "          const element = document.querySelector('#df-5404dfdc-3987-457d-8dd2-3c5ee2e7b00d');\n",
              "          const dataTable =\n",
              "            await google.colab.kernel.invokeFunction('convertToInteractive',\n",
              "                                                     [key], {});\n",
              "          if (!dataTable) return;\n",
              "\n",
              "          const docLinkHtml = 'Like what you see? Visit the ' +\n",
              "            '<a target=\"_blank\" href=https://colab.research.google.com/notebooks/data_table.ipynb>data table notebook</a>'\n",
              "            + ' to learn more about interactive tables.';\n",
              "          element.innerHTML = '';\n",
              "          dataTable['output_type'] = 'display_data';\n",
              "          await google.colab.output.renderOutput(dataTable, element);\n",
              "          const docLink = document.createElement('div');\n",
              "          docLink.innerHTML = docLinkHtml;\n",
              "          element.appendChild(docLink);\n",
              "        }\n",
              "      </script>\n",
              "    </div>\n",
              "  </div>\n",
              "  "
            ]
          },
          "metadata": {},
          "execution_count": 7
        }
      ],
      "source": [
        "with gzip.open('/content/reading.csv.gz') as f:\n",
        "    reading_df = pd.read_csv(f)\n",
        "reading_df.head()"
      ]
    },
    {
      "cell_type": "code",
      "execution_count": 8,
      "metadata": {
        "colab": {
          "base_uri": "https://localhost:8080/",
          "height": 206
        },
        "id": "jvmC0OM1AbDE",
        "outputId": "c6396581-01a0-47a5-c890-8e19cc952234"
      },
      "outputs": [
        {
          "output_type": "execute_result",
          "data": {
            "text/plain": [
              "                user_id  gender  age  os_name\n",
              "0   4716260340891938377  Female  <18  windows\n",
              "1  15290165232401343976    Male  <18  windows\n",
              "2  13521408200001072707  Female  <18  windows\n",
              "3  12660877307552158199  Female  <18  windows\n",
              "4  13273334199460270956  Female  <18  windows"
            ],
            "text/html": [
              "\n",
              "  <div id=\"df-6205b9c3-e902-4832-921b-5d8608561bb8\">\n",
              "    <div class=\"colab-df-container\">\n",
              "      <div>\n",
              "<style scoped>\n",
              "    .dataframe tbody tr th:only-of-type {\n",
              "        vertical-align: middle;\n",
              "    }\n",
              "\n",
              "    .dataframe tbody tr th {\n",
              "        vertical-align: top;\n",
              "    }\n",
              "\n",
              "    .dataframe thead th {\n",
              "        text-align: right;\n",
              "    }\n",
              "</style>\n",
              "<table border=\"1\" class=\"dataframe\">\n",
              "  <thead>\n",
              "    <tr style=\"text-align: right;\">\n",
              "      <th></th>\n",
              "      <th>user_id</th>\n",
              "      <th>gender</th>\n",
              "      <th>age</th>\n",
              "      <th>os_name</th>\n",
              "    </tr>\n",
              "  </thead>\n",
              "  <tbody>\n",
              "    <tr>\n",
              "      <th>0</th>\n",
              "      <td>4716260340891938377</td>\n",
              "      <td>Female</td>\n",
              "      <td>&lt;18</td>\n",
              "      <td>windows</td>\n",
              "    </tr>\n",
              "    <tr>\n",
              "      <th>1</th>\n",
              "      <td>15290165232401343976</td>\n",
              "      <td>Male</td>\n",
              "      <td>&lt;18</td>\n",
              "      <td>windows</td>\n",
              "    </tr>\n",
              "    <tr>\n",
              "      <th>2</th>\n",
              "      <td>13521408200001072707</td>\n",
              "      <td>Female</td>\n",
              "      <td>&lt;18</td>\n",
              "      <td>windows</td>\n",
              "    </tr>\n",
              "    <tr>\n",
              "      <th>3</th>\n",
              "      <td>12660877307552158199</td>\n",
              "      <td>Female</td>\n",
              "      <td>&lt;18</td>\n",
              "      <td>windows</td>\n",
              "    </tr>\n",
              "    <tr>\n",
              "      <th>4</th>\n",
              "      <td>13273334199460270956</td>\n",
              "      <td>Female</td>\n",
              "      <td>&lt;18</td>\n",
              "      <td>windows</td>\n",
              "    </tr>\n",
              "  </tbody>\n",
              "</table>\n",
              "</div>\n",
              "      <button class=\"colab-df-convert\" onclick=\"convertToInteractive('df-6205b9c3-e902-4832-921b-5d8608561bb8')\"\n",
              "              title=\"Convert this dataframe to an interactive table.\"\n",
              "              style=\"display:none;\">\n",
              "        \n",
              "  <svg xmlns=\"http://www.w3.org/2000/svg\" height=\"24px\"viewBox=\"0 0 24 24\"\n",
              "       width=\"24px\">\n",
              "    <path d=\"M0 0h24v24H0V0z\" fill=\"none\"/>\n",
              "    <path d=\"M18.56 5.44l.94 2.06.94-2.06 2.06-.94-2.06-.94-.94-2.06-.94 2.06-2.06.94zm-11 1L8.5 8.5l.94-2.06 2.06-.94-2.06-.94L8.5 2.5l-.94 2.06-2.06.94zm10 10l.94 2.06.94-2.06 2.06-.94-2.06-.94-.94-2.06-.94 2.06-2.06.94z\"/><path d=\"M17.41 7.96l-1.37-1.37c-.4-.4-.92-.59-1.43-.59-.52 0-1.04.2-1.43.59L10.3 9.45l-7.72 7.72c-.78.78-.78 2.05 0 2.83L4 21.41c.39.39.9.59 1.41.59.51 0 1.02-.2 1.41-.59l7.78-7.78 2.81-2.81c.8-.78.8-2.07 0-2.86zM5.41 20L4 18.59l7.72-7.72 1.47 1.35L5.41 20z\"/>\n",
              "  </svg>\n",
              "      </button>\n",
              "      \n",
              "  <style>\n",
              "    .colab-df-container {\n",
              "      display:flex;\n",
              "      flex-wrap:wrap;\n",
              "      gap: 12px;\n",
              "    }\n",
              "\n",
              "    .colab-df-convert {\n",
              "      background-color: #E8F0FE;\n",
              "      border: none;\n",
              "      border-radius: 50%;\n",
              "      cursor: pointer;\n",
              "      display: none;\n",
              "      fill: #1967D2;\n",
              "      height: 32px;\n",
              "      padding: 0 0 0 0;\n",
              "      width: 32px;\n",
              "    }\n",
              "\n",
              "    .colab-df-convert:hover {\n",
              "      background-color: #E2EBFA;\n",
              "      box-shadow: 0px 1px 2px rgba(60, 64, 67, 0.3), 0px 1px 3px 1px rgba(60, 64, 67, 0.15);\n",
              "      fill: #174EA6;\n",
              "    }\n",
              "\n",
              "    [theme=dark] .colab-df-convert {\n",
              "      background-color: #3B4455;\n",
              "      fill: #D2E3FC;\n",
              "    }\n",
              "\n",
              "    [theme=dark] .colab-df-convert:hover {\n",
              "      background-color: #434B5C;\n",
              "      box-shadow: 0px 1px 3px 1px rgba(0, 0, 0, 0.15);\n",
              "      filter: drop-shadow(0px 1px 2px rgba(0, 0, 0, 0.3));\n",
              "      fill: #FFFFFF;\n",
              "    }\n",
              "  </style>\n",
              "\n",
              "      <script>\n",
              "        const buttonEl =\n",
              "          document.querySelector('#df-6205b9c3-e902-4832-921b-5d8608561bb8 button.colab-df-convert');\n",
              "        buttonEl.style.display =\n",
              "          google.colab.kernel.accessAllowed ? 'block' : 'none';\n",
              "\n",
              "        async function convertToInteractive(key) {\n",
              "          const element = document.querySelector('#df-6205b9c3-e902-4832-921b-5d8608561bb8');\n",
              "          const dataTable =\n",
              "            await google.colab.kernel.invokeFunction('convertToInteractive',\n",
              "                                                     [key], {});\n",
              "          if (!dataTable) return;\n",
              "\n",
              "          const docLinkHtml = 'Like what you see? Visit the ' +\n",
              "            '<a target=\"_blank\" href=https://colab.research.google.com/notebooks/data_table.ipynb>data table notebook</a>'\n",
              "            + ' to learn more about interactive tables.';\n",
              "          element.innerHTML = '';\n",
              "          dataTable['output_type'] = 'display_data';\n",
              "          await google.colab.output.renderOutput(dataTable, element);\n",
              "          const docLink = document.createElement('div');\n",
              "          docLink.innerHTML = docLinkHtml;\n",
              "          element.appendChild(docLink);\n",
              "        }\n",
              "      </script>\n",
              "    </div>\n",
              "  </div>\n",
              "  "
            ]
          },
          "metadata": {},
          "execution_count": 8
        }
      ],
      "source": [
        "with gzip.open('/content/users.csv.gz') as f:\n",
        "    users_df = pd.read_csv(f)\n",
        "users_df.head()"
      ]
    },
    {
      "cell_type": "markdown",
      "metadata": {
        "id": "IYoOBHU1FItT"
      },
      "source": [
        "### EDA"
      ]
    },
    {
      "cell_type": "markdown",
      "metadata": {
        "id": "R0b4r8NnHNxO"
      },
      "source": [
        "#### Articles"
      ]
    },
    {
      "cell_type": "code",
      "execution_count": 9,
      "metadata": {
        "colab": {
          "base_uri": "https://localhost:8080/",
          "height": 0
        },
        "id": "4fH1gd_-L-2u",
        "outputId": "d9078d0d-2826-4ff5-89d1-0e0d74bd197d"
      },
      "outputs": [
        {
          "output_type": "execute_result",
          "data": {
            "text/plain": [
              "(84066, 5)"
            ]
          },
          "metadata": {},
          "execution_count": 9
        }
      ],
      "source": [
        "articles_df.shape"
      ]
    },
    {
      "cell_type": "code",
      "execution_count": 10,
      "metadata": {
        "colab": {
          "base_uri": "https://localhost:8080/",
          "height": 0
        },
        "id": "3-0BkUyFMCGb",
        "outputId": "4ec5605d-b5e0-4270-cdeb-5d61b614a2f9"
      },
      "outputs": [
        {
          "output_type": "execute_result",
          "data": {
            "text/plain": [
              "article_id        84066\n",
              "published_time    51246\n",
              "title             84017\n",
              "domain              150\n",
              "category             14\n",
              "dtype: int64"
            ]
          },
          "metadata": {},
          "execution_count": 10
        }
      ],
      "source": [
        "articles_df.nunique(axis=0)"
      ]
    },
    {
      "cell_type": "code",
      "execution_count": 11,
      "metadata": {
        "colab": {
          "base_uri": "https://localhost:8080/",
          "height": 0
        },
        "id": "90N8pxlNAqqb",
        "outputId": "b5f2d20b-be6b-4bc7-f3ac-e298240d922e"
      },
      "outputs": [
        {
          "output_type": "stream",
          "name": "stdout",
          "text": [
            "<class 'pandas.core.frame.DataFrame'>\n",
            "RangeIndex: 84066 entries, 0 to 84065\n",
            "Data columns (total 5 columns):\n",
            " #   Column          Non-Null Count  Dtype \n",
            "---  ------          --------------  ----- \n",
            " 0   article_id      84066 non-null  uint64\n",
            " 1   published_time  84066 non-null  object\n",
            " 2   title           84066 non-null  object\n",
            " 3   domain          84066 non-null  object\n",
            " 4   category        84066 non-null  object\n",
            "dtypes: object(4), uint64(1)\n",
            "memory usage: 3.2+ MB\n"
          ]
        }
      ],
      "source": [
        "articles_df.info()"
      ]
    },
    {
      "cell_type": "code",
      "execution_count": 12,
      "metadata": {
        "id": "VPfzKJSQGWf3"
      },
      "outputs": [],
      "source": [
        "articles_df['published_time'] = pd.to_datetime(articles_df['published_time'], format= \"%Y-%m-%d %H:%M:%S\")"
      ]
    },
    {
      "cell_type": "markdown",
      "metadata": {
        "id": "cJU-jr91Gf7u"
      },
      "source": [
        "> There is no missing value and all the features in `articles_df` are categorical"
      ]
    },
    {
      "cell_type": "code",
      "execution_count": 13,
      "metadata": {
        "colab": {
          "base_uri": "https://localhost:8080/",
          "height": 0
        },
        "id": "mapt9f4iFtS-",
        "outputId": "a899d598-c94d-4d22-8482-3e3fd2c75edf"
      },
      "outputs": [
        {
          "output_type": "stream",
          "name": "stdout",
          "text": [
            "2022-04-03 00:00:00\n",
            "2022-04-13 23:59:13\n"
          ]
        }
      ],
      "source": [
        "print(articles_df['published_time'].min())\n",
        "print(articles_df['published_time'].max())"
      ]
    },
    {
      "cell_type": "markdown",
      "metadata": {
        "id": "5tXOf5thKBqv"
      },
      "source": [
        "> The dataset is extracted from 03-04 to 13-4"
      ]
    },
    {
      "cell_type": "markdown",
      "metadata": {
        "id": "2_9ro-s3IFi7"
      },
      "source": [
        "> The articles come from 150 domains."
      ]
    },
    {
      "cell_type": "markdown",
      "metadata": {
        "id": "LWGukdv5Ma52"
      },
      "source": [
        "##### **Which domain have the most publications?**"
      ]
    },
    {
      "cell_type": "code",
      "execution_count": 14,
      "metadata": {
        "colab": {
          "base_uri": "https://localhost:8080/",
          "height": 0
        },
        "id": "y9PUj_fGHzaD",
        "outputId": "0246eabc-38fa-4c1d-a85d-07f1c908aa42"
      },
      "outputs": [
        {
          "output_type": "execute_result",
          "data": {
            "text/plain": [
              "vietgiaitri.com        4559\n",
              "toquoc.vn              4278\n",
              "thanhnien.vn           2874\n",
              "vnexpress.net          2757\n",
              "vtv.vn                 2580\n",
              "                       ... \n",
              "tapchiqptd.vn             9\n",
              "plo.vn                    7\n",
              "congnghe.tuoitre.vn       6\n",
              "guu.vn                    4\n",
              "baodansinh.vn             1\n",
              "Name: domain, Length: 150, dtype: int64"
            ]
          },
          "metadata": {},
          "execution_count": 14
        }
      ],
      "source": [
        "articles_df['domain'].value_counts()"
      ]
    },
    {
      "cell_type": "code",
      "execution_count": 15,
      "metadata": {
        "colab": {
          "base_uri": "https://localhost:8080/",
          "height": 550
        },
        "id": "71GGlyY5H309",
        "outputId": "b7e91ce6-74c4-4ddb-940a-5c645c738ca6"
      },
      "outputs": [
        {
          "output_type": "display_data",
          "data": {
            "text/plain": [
              "<Figure size 1500x600 with 1 Axes>"
            ],
            "image/png": "[encoded data removed]"
          },
          "metadata": {}
        }
      ],
      "source": [
        "domain_group = articles_df.groupby(['domain']).agg({\"article_id\": \"count\"}).reset_index().rename(columns={\"article_id\": \"count\"}).sort_values(by=['count'], ascending=False)\n",
        "\n",
        "sns.set(rc={'figure.figsize':(15,6)})\n",
        "\n",
        "p = sns.barplot(data=domain_group[:10], x='domain', y='count')\n",
        "p.set(xlabel= \"domain\", ylabel=\"number of publications\")\n",
        "plt.show()"
      ]
    },
    {
      "cell_type": "markdown",
      "metadata": {
        "id": "hSOa2v3nGWf5"
      },
      "source": [
        "> **`vietgiaitri.com` ; `toquoc.vn` ; `thanhnien.vn` are top domains have most publications**"
      ]
    },
    {
      "cell_type": "markdown",
      "metadata": {
        "id": "mQFeAXeCPNrg"
      },
      "source": [
        "##### **Which category has the most publications?**"
      ]
    },
    {
      "cell_type": "code",
      "execution_count": 16,
      "metadata": {
        "colab": {
          "base_uri": "https://localhost:8080/",
          "height": 552
        },
        "id": "dCSJxIFCKQ2s",
        "outputId": "0fd331ab-a55b-4ec1-9a89-80f3d13e1498"
      },
      "outputs": [
        {
          "output_type": "display_data",
          "data": {
            "text/plain": [
              "<Figure size 1500x600 with 1 Axes>"
            ],
            "image/png": "[encoded data removed]"
          },
          "metadata": {}
        }
      ],
      "source": [
        "cat_group = articles_df.groupby(['category']).agg({\"article_id\": \"count\"}).reset_index().rename(columns={\"article_id\": \"count\"}).sort_values(by=['count'], ascending=False)\n",
        "sns.set(rc={'figure.figsize':(15,6)})\n",
        "\n",
        "p = sns.barplot(data=cat_group[:10], x='category', y='count')\n",
        "p.set(xlabel= \"category\", ylabel=\"number of publications\")\n",
        "plt.show()"
      ]
    },
    {
      "cell_type": "markdown",
      "metadata": {
        "id": "hRFF-E9zP3EF"
      },
      "source": [
        "#### Users"
      ]
    },
    {
      "cell_type": "code",
      "execution_count": 17,
      "metadata": {
        "colab": {
          "base_uri": "https://localhost:8080/",
          "height": 206
        },
        "id": "h73NmCOIQALf",
        "outputId": "2832f9d4-ee1f-4b16-a9d5-d19c2df0b59f"
      },
      "outputs": [
        {
          "output_type": "execute_result",
          "data": {
            "text/plain": [
              "                user_id  gender  age  os_name\n",
              "0   4716260340891938377  Female  <18  windows\n",
              "1  15290165232401343976    Male  <18  windows\n",
              "2  13521408200001072707  Female  <18  windows\n",
              "3  12660877307552158199  Female  <18  windows\n",
              "4  13273334199460270956  Female  <18  windows"
            ],
            "text/html": [
              "\n",
              "  <div id=\"df-97932ecc-abba-42ec-b815-61844d0d5904\">\n",
              "    <div class=\"colab-df-container\">\n",
              "      <div>\n",
              "<style scoped>\n",
              "    .dataframe tbody tr th:only-of-type {\n",
              "        vertical-align: middle;\n",
              "    }\n",
              "\n",
              "    .dataframe tbody tr th {\n",
              "        vertical-align: top;\n",
              "    }\n",
              "\n",
              "    .dataframe thead th {\n",
              "        text-align: right;\n",
              "    }\n",
              "</style>\n",
              "<table border=\"1\" class=\"dataframe\">\n",
              "  <thead>\n",
              "    <tr style=\"text-align: right;\">\n",
              "      <th></th>\n",
              "      <th>user_id</th>\n",
              "      <th>gender</th>\n",
              "      <th>age</th>\n",
              "      <th>os_name</th>\n",
              "    </tr>\n",
              "  </thead>\n",
              "  <tbody>\n",
              "    <tr>\n",
              "      <th>0</th>\n",
              "      <td>4716260340891938377</td>\n",
              "      <td>Female</td>\n",
              "      <td>&lt;18</td>\n",
              "      <td>windows</td>\n",
              "    </tr>\n",
              "    <tr>\n",
              "      <th>1</th>\n",
              "      <td>15290165232401343976</td>\n",
              "      <td>Male</td>\n",
              "      <td>&lt;18</td>\n",
              "      <td>windows</td>\n",
              "    </tr>\n",
              "    <tr>\n",
              "      <th>2</th>\n",
              "      <td>13521408200001072707</td>\n",
              "      <td>Female</td>\n",
              "      <td>&lt;18</td>\n",
              "      <td>windows</td>\n",
              "    </tr>\n",
              "    <tr>\n",
              "      <th>3</th>\n",
              "      <td>12660877307552158199</td>\n",
              "      <td>Female</td>\n",
              "      <td>&lt;18</td>\n",
              "      <td>windows</td>\n",
              "    </tr>\n",
              "    <tr>\n",
              "      <th>4</th>\n",
              "      <td>13273334199460270956</td>\n",
              "      <td>Female</td>\n",
              "      <td>&lt;18</td>\n",
              "      <td>windows</td>\n",
              "    </tr>\n",
              "  </tbody>\n",
              "</table>\n",
              "</div>\n",
              "      <button class=\"colab-df-convert\" onclick=\"convertToInteractive('df-97932ecc-abba-42ec-b815-61844d0d5904')\"\n",
              "              title=\"Convert this dataframe to an interactive table.\"\n",
              "              style=\"display:none;\">\n",
              "        \n",
              "  <svg xmlns=\"http://www.w3.org/2000/svg\" height=\"24px\"viewBox=\"0 0 24 24\"\n",
              "       width=\"24px\">\n",
              "    <path d=\"M0 0h24v24H0V0z\" fill=\"none\"/>\n",
              "    <path d=\"M18.56 5.44l.94 2.06.94-2.06 2.06-.94-2.06-.94-.94-2.06-.94 2.06-2.06.94zm-11 1L8.5 8.5l.94-2.06 2.06-.94-2.06-.94L8.5 2.5l-.94 2.06-2.06.94zm10 10l.94 2.06.94-2.06 2.06-.94-2.06-.94-.94-2.06-.94 2.06-2.06.94z\"/><path d=\"M17.41 7.96l-1.37-1.37c-.4-.4-.92-.59-1.43-.59-.52 0-1.04.2-1.43.59L10.3 9.45l-7.72 7.72c-.78.78-.78 2.05 0 2.83L4 21.41c.39.39.9.59 1.41.59.51 0 1.02-.2 1.41-.59l7.78-7.78 2.81-2.81c.8-.78.8-2.07 0-2.86zM5.41 20L4 18.59l7.72-7.72 1.47 1.35L5.41 20z\"/>\n",
              "  </svg>\n",
              "      </button>\n",
              "      \n",
              "  <style>\n",
              "    .colab-df-container {\n",
              "      display:flex;\n",
              "      flex-wrap:wrap;\n",
              "      gap: 12px;\n",
              "    }\n",
              "\n",
              "    .colab-df-convert {\n",
              "      background-color: #E8F0FE;\n",
              "      border: none;\n",
              "      border-radius: 50%;\n",
              "      cursor: pointer;\n",
              "      display: none;\n",
              "      fill: #1967D2;\n",
              "      height: 32px;\n",
              "      padding: 0 0 0 0;\n",
              "      width: 32px;\n",
              "    }\n",
              "\n",
              "    .colab-df-convert:hover {\n",
              "      background-color: #E2EBFA;\n",
              "      box-shadow: 0px 1px 2px rgba(60, 64, 67, 0.3), 0px 1px 3px 1px rgba(60, 64, 67, 0.15);\n",
              "      fill: #174EA6;\n",
              "    }\n",
              "\n",
              "    [theme=dark] .colab-df-convert {\n",
              "      background-color: #3B4455;\n",
              "      fill: #D2E3FC;\n",
              "    }\n",
              "\n",
              "    [theme=dark] .colab-df-convert:hover {\n",
              "      background-color: #434B5C;\n",
              "      box-shadow: 0px 1px 3px 1px rgba(0, 0, 0, 0.15);\n",
              "      filter: drop-shadow(0px 1px 2px rgba(0, 0, 0, 0.3));\n",
              "      fill: #FFFFFF;\n",
              "    }\n",
              "  </style>\n",
              "\n",
              "      <script>\n",
              "        const buttonEl =\n",
              "          document.querySelector('#df-97932ecc-abba-42ec-b815-61844d0d5904 button.colab-df-convert');\n",
              "        buttonEl.style.display =\n",
              "          google.colab.kernel.accessAllowed ? 'block' : 'none';\n",
              "\n",
              "        async function convertToInteractive(key) {\n",
              "          const element = document.querySelector('#df-97932ecc-abba-42ec-b815-61844d0d5904');\n",
              "          const dataTable =\n",
              "            await google.colab.kernel.invokeFunction('convertToInteractive',\n",
              "                                                     [key], {});\n",
              "          if (!dataTable) return;\n",
              "\n",
              "          const docLinkHtml = 'Like what you see? Visit the ' +\n",
              "            '<a target=\"_blank\" href=https://colab.research.google.com/notebooks/data_table.ipynb>data table notebook</a>'\n",
              "            + ' to learn more about interactive tables.';\n",
              "          element.innerHTML = '';\n",
              "          dataTable['output_type'] = 'display_data';\n",
              "          await google.colab.output.renderOutput(dataTable, element);\n",
              "          const docLink = document.createElement('div');\n",
              "          docLink.innerHTML = docLinkHtml;\n",
              "          element.appendChild(docLink);\n",
              "        }\n",
              "      </script>\n",
              "    </div>\n",
              "  </div>\n",
              "  "
            ]
          },
          "metadata": {},
          "execution_count": 17
        }
      ],
      "source": [
        "users_df.head()"
      ]
    },
    {
      "cell_type": "code",
      "execution_count": 18,
      "metadata": {
        "colab": {
          "base_uri": "https://localhost:8080/",
          "height": 0
        },
        "id": "SRGEf2VfP68e",
        "outputId": "aaf4dc5e-57bb-46e0-84da-47b5c1ab7bdd"
      },
      "outputs": [
        {
          "output_type": "stream",
          "name": "stdout",
          "text": [
            "<class 'pandas.core.frame.DataFrame'>\n",
            "RangeIndex: 179523 entries, 0 to 179522\n",
            "Data columns (total 4 columns):\n",
            " #   Column   Non-Null Count   Dtype \n",
            "---  ------   --------------   ----- \n",
            " 0   user_id  179523 non-null  uint64\n",
            " 1   gender   179523 non-null  object\n",
            " 2   age      179523 non-null  object\n",
            " 3   os_name  179523 non-null  object\n",
            "dtypes: object(3), uint64(1)\n",
            "memory usage: 5.5+ MB\n"
          ]
        }
      ],
      "source": [
        "users_df.info()"
      ]
    },
    {
      "cell_type": "code",
      "execution_count": 19,
      "metadata": {
        "colab": {
          "base_uri": "https://localhost:8080/",
          "height": 0
        },
        "id": "k6p44l9UP9lM",
        "outputId": "ee68a871-4bbc-4b2b-bf09-fbd2ca848b8f"
      },
      "outputs": [
        {
          "output_type": "execute_result",
          "data": {
            "text/plain": [
              "user_id    179523\n",
              "gender          2\n",
              "age             7\n",
              "os_name         5\n",
              "dtype: int64"
            ]
          },
          "metadata": {},
          "execution_count": 19
        }
      ],
      "source": [
        "users_df.nunique(axis=0)"
      ]
    },
    {
      "cell_type": "markdown",
      "metadata": {
        "id": "lMXTZT2uQLQR"
      },
      "source": [
        "> There is no missing value and all features are categorical"
      ]
    },
    {
      "cell_type": "code",
      "execution_count": 20,
      "metadata": {
        "colab": {
          "base_uri": "https://localhost:8080/",
          "height": 0
        },
        "id": "a96Q0HkDQHjC",
        "outputId": "34fb6f70-1cff-4856-be6a-b72f1d2d6de4"
      },
      "outputs": [
        {
          "output_type": "execute_result",
          "data": {
            "text/plain": [
              "array(['<18', '18-24', '25-34', '35-44', '45-54', '55-64', '65+'],\n",
              "      dtype=object)"
            ]
          },
          "metadata": {},
          "execution_count": 20
        }
      ],
      "source": [
        "users_df['age'].unique()"
      ]
    },
    {
      "cell_type": "markdown",
      "metadata": {
        "id": "B9FIjmU9Qd7H"
      },
      "source": [
        "##### **Who are our users?**"
      ]
    },
    {
      "cell_type": "code",
      "execution_count": 21,
      "metadata": {
        "colab": {
          "base_uri": "https://localhost:8080/",
          "height": 0
        },
        "id": "dXTAcW45RVX9",
        "outputId": "392f107e-2941-4a06-f029-c2d7b20f2b02"
      },
      "outputs": [
        {
          "output_type": "execute_result",
          "data": {
            "text/plain": [
              "55-64    60057\n",
              "35-44    56579\n",
              "45-54    28989\n",
              "25-34    13069\n",
              "65+       8519\n",
              "<18       7653\n",
              "18-24     4657\n",
              "Name: age, dtype: int64"
            ]
          },
          "metadata": {},
          "execution_count": 21
        }
      ],
      "source": [
        "age_count = users_df['age'].value_counts()\n",
        "age_count"
      ]
    },
    {
      "cell_type": "code",
      "execution_count": 22,
      "metadata": {
        "colab": {
          "base_uri": "https://localhost:8080/",
          "height": 542
        },
        "id": "QIsBR39MQiF-",
        "outputId": "32f7f16c-3a36-410d-d5e2-25e275c5a941"
      },
      "outputs": [
        {
          "output_type": "display_data",
          "data": {
            "text/html": [
              "<html>\n",
              "<head><meta charset=\"utf-8\" /></head>\n",
              "<body>\n",
              "    <div>            <script src=\"https://cdnjs.cloudflare.com/ajax/libs/mathjax/2.7.5/MathJax.js?config=TeX-AMS-MML_SVG\"></script><script type=\"text/javascript\">if (window.MathJax && window.MathJax.Hub && window.MathJax.Hub.Config) {window.MathJax.Hub.Config({SVG: {font: \"STIX-Web\"}});}</script>                <script type=\"text/javascript\">window.PlotlyConfig = {MathJaxConfig: 'local'};</script>\n",
              "        <script src=\"https://cdn.plot.ly/plotly-2.18.2.min.js\"></script>                <div id=\"5c5d60ac-8b06-4676-9a6e-62116357f819\" class=\"plotly-graph-div\" style=\"height:525px; width:100%;\"></div>            <script type=\"text/javascript\">                                    window.PLOTLYENV=window.PLOTLYENV || {};                                    if (document.getElementById(\"5c5d60ac-8b06-4676-9a6e-62116357f819\")) {                    Plotly.newPlot(                        \"5c5d60ac-8b06-4676-9a6e-62116357f819\",                        [{\"domain\":{\"x\":[0.0,1.0],\"y\":[0.0,1.0]},\"hole\":0.4,\"hovertemplate\":\"index=%{label}<br>age=%{value}<extra></extra>\",\"labels\":[\"55-64\",\"35-44\",\"45-54\",\"25-34\",\"65+\",\"<18\",\"18-24\"],\"legendgroup\":\"\",\"name\":\"\",\"showlegend\":true,\"values\":[60057,56579,28989,13069,8519,7653,4657],\"type\":\"pie\",\"pull\":0.05,\"textinfo\":\"percent+label\"}],                        {\"template\":{\"data\":{\"histogram2dcontour\":[{\"type\":\"histogram2dcontour\",\"colorbar\":{\"outlinewidth\":0,\"ticks\":\"\"},\"colorscale\":[[0.0,\"#0d0887\"],[0.1111111111111111,\"#46039f\"],[0.2222222222222222,\"#7201a8\"],[0.3333333333333333,\"#9c179e\"],[0.4444444444444444,\"#bd3786\"],[0.5555555555555556,\"#d8576b\"],[0.6666666666666666,\"#ed7953\"],[0.7777777777777778,\"#fb9f3a\"],[0.8888888888888888,\"#fdca26\"],[1.0,\"#f0f921\"]]}],\"choropleth\":[{\"type\":\"choropleth\",\"colorbar\":{\"outlinewidth\":0,\"ticks\":\"\"}}],\"histogram2d\":[{\"type\":\"histogram2d\",\"colorbar\":{\"outlinewidth\":0,\"ticks\":\"\"},\"colorscale\":[[0.0,\"#0d0887\"],[0.1111111111111111,\"#46039f\"],[0.2222222222222222,\"#7201a8\"],[0.3333333333333333,\"#9c179e\"],[0.4444444444444444,\"#bd3786\"],[0.5555555555555556,\"#d8576b\"],[0.6666666666666666,\"#ed7953\"],[0.7777777777777778,\"#fb9f3a\"],[0.8888888888888888,\"#fdca26\"],[1.0,\"#f0f921\"]]}],\"heatmap\":[{\"type\":\"heatmap\",\"colorbar\":{\"outlinewidth\":0,\"ticks\":\"\"},\"colorscale\":[[0.0,\"#0d0887\"],[0.1111111111111111,\"#46039f\"],[0.2222222222222222,\"#7201a8\"],[0.3333333333333333,\"#9c179e\"],[0.4444444444444444,\"#bd3786\"],[0.5555555555555556,\"#d8576b\"],[0.6666666666666666,\"#ed7953\"],[0.7777777777777778,\"#fb9f3a\"],[0.8888888888888888,\"#fdca26\"],[1.0,\"#f0f921\"]]}],\"heatmapgl\":[{\"type\":\"heatmapgl\",\"colorbar\":{\"outlinewidth\":0,\"ticks\":\"\"},\"colorscale\":[[0.0,\"#0d0887\"],[0.1111111111111111,\"#46039f\"],[0.2222222222222222,\"#7201a8\"],[0.3333333333333333,\"#9c179e\"],[0.4444444444444444,\"#bd3786\"],[0.5555555555555556,\"#d8576b\"],[0.6666666666666666,\"#ed7953\"],[0.7777777777777778,\"#fb9f3a\"],[0.8888888888888888,\"#fdca26\"],[1.0,\"#f0f921\"]]}],\"contourcarpet\":[{\"type\":\"contourcarpet\",\"colorbar\":{\"outlinewidth\":0,\"ticks\":\"\"}}],\"contour\":[{\"type\":\"contour\",\"colorbar\":{\"outlinewidth\":0,\"ticks\":\"\"},\"colorscale\":[[0.0,\"#0d0887\"],[0.1111111111111111,\"#46039f\"],[0.2222222222222222,\"#7201a8\"],[0.3333333333333333,\"#9c179e\"],[0.4444444444444444,\"#bd3786\"],[0.5555555555555556,\"#d8576b\"],[0.6666666666666666,\"#ed7953\"],[0.7777777777777778,\"#fb9f3a\"],[0.8888888888888888,\"#fdca26\"],[1.0,\"#f0f921\"]]}],\"surface\":[{\"type\":\"surface\",\"colorbar\":{\"outlinewidth\":0,\"ticks\":\"\"},\"colorscale\":[[0.0,\"#0d0887\"],[0.1111111111111111,\"#46039f\"],[0.2222222222222222,\"#7201a8\"],[0.3333333333333333,\"#9c179e\"],[0.4444444444444444,\"#bd3786\"],[0.5555555555555556,\"#d8576b\"],[0.6666666666666666,\"#ed7953\"],[0.7777777777777778,\"#fb9f3a\"],[0.8888888888888888,\"#fdca26\"],[1.0,\"#f0f921\"]]}],\"mesh3d\":[{\"type\":\"mesh3d\",\"colorbar\":{\"outlinewidth\":0,\"ticks\":\"\"}}],\"scatter\":[{\"fillpattern\":{\"fillmode\":\"overlay\",\"size\":10,\"solidity\":0.2},\"type\":\"scatter\"}],\"parcoords\":[{\"type\":\"parcoords\",\"line\":{\"colorbar\":{\"outlinewidth\":0,\"ticks\":\"\"}}}],\"scatterpolargl\":[{\"type\":\"scatterpolargl\",\"marker\":{\"colorbar\":{\"outlinewidth\":0,\"ticks\":\"\"}}}],\"bar\":[{\"error_x\":{\"color\":\"#2a3f5f\"},\"error_y\":{\"color\":\"#2a3f5f\"},\"marker\":{\"line\":{\"color\":\"#E5ECF6\",\"width\":0.5},\"pattern\":{\"fillmode\":\"overlay\",\"size\":10,\"solidity\":0.2}},\"type\":\"bar\"}],\"scattergeo\":[{\"type\":\"scattergeo\",\"marker\":{\"colorbar\":{\"outlinewidth\":0,\"ticks\":\"\"}}}],\"scatterpolar\":[{\"type\":\"scatterpolar\",\"marker\":{\"colorbar\":{\"outlinewidth\":0,\"ticks\":\"\"}}}],\"histogram\":[{\"marker\":{\"pattern\":{\"fillmode\":\"overlay\",\"size\":10,\"solidity\":0.2}},\"type\":\"histogram\"}],\"scattergl\":[{\"type\":\"scattergl\",\"marker\":{\"colorbar\":{\"outlinewidth\":0,\"ticks\":\"\"}}}],\"scatter3d\":[{\"type\":\"scatter3d\",\"line\":{\"colorbar\":{\"outlinewidth\":0,\"ticks\":\"\"}},\"marker\":{\"colorbar\":{\"outlinewidth\":0,\"ticks\":\"\"}}}],\"scattermapbox\":[{\"type\":\"scattermapbox\",\"marker\":{\"colorbar\":{\"outlinewidth\":0,\"ticks\":\"\"}}}],\"scatterternary\":[{\"type\":\"scatterternary\",\"marker\":{\"colorbar\":{\"outlinewidth\":0,\"ticks\":\"\"}}}],\"scattercarpet\":[{\"type\":\"scattercarpet\",\"marker\":{\"colorbar\":{\"outlinewidth\":0,\"ticks\":\"\"}}}],\"carpet\":[{\"aaxis\":{\"endlinecolor\":\"#2a3f5f\",\"gridcolor\":\"white\",\"linecolor\":\"white\",\"minorgridcolor\":\"white\",\"startlinecolor\":\"#2a3f5f\"},\"baxis\":{\"endlinecolor\":\"#2a3f5f\",\"gridcolor\":\"white\",\"linecolor\":\"white\",\"minorgridcolor\":\"white\",\"startlinecolor\":\"#2a3f5f\"},\"type\":\"carpet\"}],\"table\":[{\"cells\":{\"fill\":{\"color\":\"#EBF0F8\"},\"line\":{\"color\":\"white\"}},\"header\":{\"fill\":{\"color\":\"#C8D4E3\"},\"line\":{\"color\":\"white\"}},\"type\":\"table\"}],\"barpolar\":[{\"marker\":{\"line\":{\"color\":\"#E5ECF6\",\"width\":0.5},\"pattern\":{\"fillmode\":\"overlay\",\"size\":10,\"solidity\":0.2}},\"type\":\"barpolar\"}],\"pie\":[{\"automargin\":true,\"type\":\"pie\"}]},\"layout\":{\"autotypenumbers\":\"strict\",\"colorway\":[\"#636efa\",\"#EF553B\",\"#00cc96\",\"#ab63fa\",\"#FFA15A\",\"#19d3f3\",\"#FF6692\",\"#B6E880\",\"#FF97FF\",\"#FECB52\"],\"font\":{\"color\":\"#2a3f5f\"},\"hovermode\":\"closest\",\"hoverlabel\":{\"align\":\"left\"},\"paper_bgcolor\":\"white\",\"plot_bgcolor\":\"#E5ECF6\",\"polar\":{\"bgcolor\":\"#E5ECF6\",\"angularaxis\":{\"gridcolor\":\"white\",\"linecolor\":\"white\",\"ticks\":\"\"},\"radialaxis\":{\"gridcolor\":\"white\",\"linecolor\":\"white\",\"ticks\":\"\"}},\"ternary\":{\"bgcolor\":\"#E5ECF6\",\"aaxis\":{\"gridcolor\":\"white\",\"linecolor\":\"white\",\"ticks\":\"\"},\"baxis\":{\"gridcolor\":\"white\",\"linecolor\":\"white\",\"ticks\":\"\"},\"caxis\":{\"gridcolor\":\"white\",\"linecolor\":\"white\",\"ticks\":\"\"}},\"coloraxis\":{\"colorbar\":{\"outlinewidth\":0,\"ticks\":\"\"}},\"colorscale\":{\"sequential\":[[0.0,\"#0d0887\"],[0.1111111111111111,\"#46039f\"],[0.2222222222222222,\"#7201a8\"],[0.3333333333333333,\"#9c179e\"],[0.4444444444444444,\"#bd3786\"],[0.5555555555555556,\"#d8576b\"],[0.6666666666666666,\"#ed7953\"],[0.7777777777777778,\"#fb9f3a\"],[0.8888888888888888,\"#fdca26\"],[1.0,\"#f0f921\"]],\"sequentialminus\":[[0.0,\"#0d0887\"],[0.1111111111111111,\"#46039f\"],[0.2222222222222222,\"#7201a8\"],[0.3333333333333333,\"#9c179e\"],[0.4444444444444444,\"#bd3786\"],[0.5555555555555556,\"#d8576b\"],[0.6666666666666666,\"#ed7953\"],[0.7777777777777778,\"#fb9f3a\"],[0.8888888888888888,\"#fdca26\"],[1.0,\"#f0f921\"]],\"diverging\":[[0,\"#8e0152\"],[0.1,\"#c51b7d\"],[0.2,\"#de77ae\"],[0.3,\"#f1b6da\"],[0.4,\"#fde0ef\"],[0.5,\"#f7f7f7\"],[0.6,\"#e6f5d0\"],[0.7,\"#b8e186\"],[0.8,\"#7fbc41\"],[0.9,\"#4d9221\"],[1,\"#276419\"]]},\"xaxis\":{\"gridcolor\":\"white\",\"linecolor\":\"white\",\"ticks\":\"\",\"title\":{\"standoff\":15},\"zerolinecolor\":\"white\",\"automargin\":true,\"zerolinewidth\":2},\"yaxis\":{\"gridcolor\":\"white\",\"linecolor\":\"white\",\"ticks\":\"\",\"title\":{\"standoff\":15},\"zerolinecolor\":\"white\",\"automargin\":true,\"zerolinewidth\":2},\"scene\":{\"xaxis\":{\"backgroundcolor\":\"#E5ECF6\",\"gridcolor\":\"white\",\"linecolor\":\"white\",\"showbackground\":true,\"ticks\":\"\",\"zerolinecolor\":\"white\",\"gridwidth\":2},\"yaxis\":{\"backgroundcolor\":\"#E5ECF6\",\"gridcolor\":\"white\",\"linecolor\":\"white\",\"showbackground\":true,\"ticks\":\"\",\"zerolinecolor\":\"white\",\"gridwidth\":2},\"zaxis\":{\"backgroundcolor\":\"#E5ECF6\",\"gridcolor\":\"white\",\"linecolor\":\"white\",\"showbackground\":true,\"ticks\":\"\",\"zerolinecolor\":\"white\",\"gridwidth\":2}},\"shapedefaults\":{\"line\":{\"color\":\"#2a3f5f\"}},\"annotationdefaults\":{\"arrowcolor\":\"#2a3f5f\",\"arrowhead\":0,\"arrowwidth\":1},\"geo\":{\"bgcolor\":\"white\",\"landcolor\":\"#E5ECF6\",\"subunitcolor\":\"white\",\"showland\":true,\"showlakes\":true,\"lakecolor\":\"white\"},\"title\":{\"x\":0.05},\"mapbox\":{\"style\":\"light\"}}},\"legend\":{\"tracegroupgap\":0},\"margin\":{\"t\":60},\"piecolorway\":[\"#fdc029\",\"#df861d\",\"#FF6347\",\"#aa3d01\",\"#a30e15\",\"#800000\",\"#171820\"]},                        {\"responsive\": true}                    ).then(function(){\n",
              "                            \n",
              "var gd = document.getElementById('5c5d60ac-8b06-4676-9a6e-62116357f819');\n",
              "var x = new MutationObserver(function (mutations, observer) {{\n",
              "        var display = window.getComputedStyle(gd).display;\n",
              "        if (!display || display === 'none') {{\n",
              "            console.log([gd, 'removed!']);\n",
              "            Plotly.purge(gd);\n",
              "            observer.disconnect();\n",
              "        }}\n",
              "}});\n",
              "\n",
              "// Listen for the removal of the full notebook cells\n",
              "var notebookContainer = gd.closest('#notebook-container');\n",
              "if (notebookContainer) {{\n",
              "    x.observe(notebookContainer, {childList: true});\n",
              "}}\n",
              "\n",
              "// Listen for the clearing of the current output cell\n",
              "var outputEl = gd.closest('.output');\n",
              "if (outputEl) {{\n",
              "    x.observe(outputEl, {childList: true});\n",
              "}}\n",
              "\n",
              "                        })                };                            </script>        </div>\n",
              "</body>\n",
              "</html>"
            ]
          },
          "metadata": {}
        }
      ],
      "source": [
        "orange_black = ['#fdc029', '#df861d', '#FF6347', '#aa3d01', '#a30e15', '#800000', '#171820']\n",
        "fig = px.pie(age_count,\n",
        "             values='age',\n",
        "             names=age_count.index,\n",
        "             color_discrete_sequence=orange_black,\n",
        "             hole=.4)\n",
        "fig.update_traces(textinfo='percent+label', pull=0.05)\n",
        "fig.show()\n"
      ]
    },
    {
      "cell_type": "markdown",
      "metadata": {
        "id": "Z8rE3SELSWiR"
      },
      "source": [
        "> **33.5% of users come frome 55-64 age group. In the meanwhile, the young people group who are 18-24 has the lowest rate.**"
      ]
    },
    {
      "cell_type": "code",
      "execution_count": 23,
      "metadata": {
        "colab": {
          "base_uri": "https://localhost:8080/",
          "height": 0
        },
        "id": "iyA2NXybRqH2",
        "outputId": "d8b191ca-85cb-4477-dc54-81add5cd9411"
      },
      "outputs": [
        {
          "output_type": "execute_result",
          "data": {
            "text/plain": [
              "Male      141032\n",
              "Female     38491\n",
              "Name: gender, dtype: int64"
            ]
          },
          "metadata": {},
          "execution_count": 23
        }
      ],
      "source": [
        "gender_count = users_df['gender'].value_counts()\n",
        "gender_count"
      ]
    },
    {
      "cell_type": "code",
      "execution_count": 24,
      "metadata": {
        "colab": {
          "base_uri": "https://localhost:8080/",
          "height": 542
        },
        "id": "HoRLkRByTFVX",
        "outputId": "e5fe6368-0b7d-4889-b9cb-08b4c9401555"
      },
      "outputs": [
        {
          "output_type": "display_data",
          "data": {
            "text/html": [
              "<html>\n",
              "<head><meta charset=\"utf-8\" /></head>\n",
              "<body>\n",
              "    <div>            <script src=\"https://cdnjs.cloudflare.com/ajax/libs/mathjax/2.7.5/MathJax.js?config=TeX-AMS-MML_SVG\"></script><script type=\"text/javascript\">if (window.MathJax && window.MathJax.Hub && window.MathJax.Hub.Config) {window.MathJax.Hub.Config({SVG: {font: \"STIX-Web\"}});}</script>                <script type=\"text/javascript\">window.PlotlyConfig = {MathJaxConfig: 'local'};</script>\n",
              "        <script src=\"https://cdn.plot.ly/plotly-2.18.2.min.js\"></script>                <div id=\"1ae16675-f0b2-4806-9be5-5f29e343289f\" class=\"plotly-graph-div\" style=\"height:525px; width:100%;\"></div>            <script type=\"text/javascript\">                                    window.PLOTLYENV=window.PLOTLYENV || {};                                    if (document.getElementById(\"1ae16675-f0b2-4806-9be5-5f29e343289f\")) {                    Plotly.newPlot(                        \"1ae16675-f0b2-4806-9be5-5f29e343289f\",                        [{\"domain\":{\"x\":[0.0,1.0],\"y\":[0.0,1.0]},\"hole\":0.4,\"hovertemplate\":\"index=%{label}<br>gender=%{value}<extra></extra>\",\"labels\":[\"Male\",\"Female\"],\"legendgroup\":\"\",\"name\":\"\",\"showlegend\":true,\"values\":[141032,38491],\"type\":\"pie\",\"pull\":0.05,\"textinfo\":\"percent+label\"}],                        {\"template\":{\"data\":{\"histogram2dcontour\":[{\"type\":\"histogram2dcontour\",\"colorbar\":{\"outlinewidth\":0,\"ticks\":\"\"},\"colorscale\":[[0.0,\"#0d0887\"],[0.1111111111111111,\"#46039f\"],[0.2222222222222222,\"#7201a8\"],[0.3333333333333333,\"#9c179e\"],[0.4444444444444444,\"#bd3786\"],[0.5555555555555556,\"#d8576b\"],[0.6666666666666666,\"#ed7953\"],[0.7777777777777778,\"#fb9f3a\"],[0.8888888888888888,\"#fdca26\"],[1.0,\"#f0f921\"]]}],\"choropleth\":[{\"type\":\"choropleth\",\"colorbar\":{\"outlinewidth\":0,\"ticks\":\"\"}}],\"histogram2d\":[{\"type\":\"histogram2d\",\"colorbar\":{\"outlinewidth\":0,\"ticks\":\"\"},\"colorscale\":[[0.0,\"#0d0887\"],[0.1111111111111111,\"#46039f\"],[0.2222222222222222,\"#7201a8\"],[0.3333333333333333,\"#9c179e\"],[0.4444444444444444,\"#bd3786\"],[0.5555555555555556,\"#d8576b\"],[0.6666666666666666,\"#ed7953\"],[0.7777777777777778,\"#fb9f3a\"],[0.8888888888888888,\"#fdca26\"],[1.0,\"#f0f921\"]]}],\"heatmap\":[{\"type\":\"heatmap\",\"colorbar\":{\"outlinewidth\":0,\"ticks\":\"\"},\"colorscale\":[[0.0,\"#0d0887\"],[0.1111111111111111,\"#46039f\"],[0.2222222222222222,\"#7201a8\"],[0.3333333333333333,\"#9c179e\"],[0.4444444444444444,\"#bd3786\"],[0.5555555555555556,\"#d8576b\"],[0.6666666666666666,\"#ed7953\"],[0.7777777777777778,\"#fb9f3a\"],[0.8888888888888888,\"#fdca26\"],[1.0,\"#f0f921\"]]}],\"heatmapgl\":[{\"type\":\"heatmapgl\",\"colorbar\":{\"outlinewidth\":0,\"ticks\":\"\"},\"colorscale\":[[0.0,\"#0d0887\"],[0.1111111111111111,\"#46039f\"],[0.2222222222222222,\"#7201a8\"],[0.3333333333333333,\"#9c179e\"],[0.4444444444444444,\"#bd3786\"],[0.5555555555555556,\"#d8576b\"],[0.6666666666666666,\"#ed7953\"],[0.7777777777777778,\"#fb9f3a\"],[0.8888888888888888,\"#fdca26\"],[1.0,\"#f0f921\"]]}],\"contourcarpet\":[{\"type\":\"contourcarpet\",\"colorbar\":{\"outlinewidth\":0,\"ticks\":\"\"}}],\"contour\":[{\"type\":\"contour\",\"colorbar\":{\"outlinewidth\":0,\"ticks\":\"\"},\"colorscale\":[[0.0,\"#0d0887\"],[0.1111111111111111,\"#46039f\"],[0.2222222222222222,\"#7201a8\"],[0.3333333333333333,\"#9c179e\"],[0.4444444444444444,\"#bd3786\"],[0.5555555555555556,\"#d8576b\"],[0.6666666666666666,\"#ed7953\"],[0.7777777777777778,\"#fb9f3a\"],[0.8888888888888888,\"#fdca26\"],[1.0,\"#f0f921\"]]}],\"surface\":[{\"type\":\"surface\",\"colorbar\":{\"outlinewidth\":0,\"ticks\":\"\"},\"colorscale\":[[0.0,\"#0d0887\"],[0.1111111111111111,\"#46039f\"],[0.2222222222222222,\"#7201a8\"],[0.3333333333333333,\"#9c179e\"],[0.4444444444444444,\"#bd3786\"],[0.5555555555555556,\"#d8576b\"],[0.6666666666666666,\"#ed7953\"],[0.7777777777777778,\"#fb9f3a\"],[0.8888888888888888,\"#fdca26\"],[1.0,\"#f0f921\"]]}],\"mesh3d\":[{\"type\":\"mesh3d\",\"colorbar\":{\"outlinewidth\":0,\"ticks\":\"\"}}],\"scatter\":[{\"fillpattern\":{\"fillmode\":\"overlay\",\"size\":10,\"solidity\":0.2},\"type\":\"scatter\"}],\"parcoords\":[{\"type\":\"parcoords\",\"line\":{\"colorbar\":{\"outlinewidth\":0,\"ticks\":\"\"}}}],\"scatterpolargl\":[{\"type\":\"scatterpolargl\",\"marker\":{\"colorbar\":{\"outlinewidth\":0,\"ticks\":\"\"}}}],\"bar\":[{\"error_x\":{\"color\":\"#2a3f5f\"},\"error_y\":{\"color\":\"#2a3f5f\"},\"marker\":{\"line\":{\"color\":\"#E5ECF6\",\"width\":0.5},\"pattern\":{\"fillmode\":\"overlay\",\"size\":10,\"solidity\":0.2}},\"type\":\"bar\"}],\"scattergeo\":[{\"type\":\"scattergeo\",\"marker\":{\"colorbar\":{\"outlinewidth\":0,\"ticks\":\"\"}}}],\"scatterpolar\":[{\"type\":\"scatterpolar\",\"marker\":{\"colorbar\":{\"outlinewidth\":0,\"ticks\":\"\"}}}],\"histogram\":[{\"marker\":{\"pattern\":{\"fillmode\":\"overlay\",\"size\":10,\"solidity\":0.2}},\"type\":\"histogram\"}],\"scattergl\":[{\"type\":\"scattergl\",\"marker\":{\"colorbar\":{\"outlinewidth\":0,\"ticks\":\"\"}}}],\"scatter3d\":[{\"type\":\"scatter3d\",\"line\":{\"colorbar\":{\"outlinewidth\":0,\"ticks\":\"\"}},\"marker\":{\"colorbar\":{\"outlinewidth\":0,\"ticks\":\"\"}}}],\"scattermapbox\":[{\"type\":\"scattermapbox\",\"marker\":{\"colorbar\":{\"outlinewidth\":0,\"ticks\":\"\"}}}],\"scatterternary\":[{\"type\":\"scatterternary\",\"marker\":{\"colorbar\":{\"outlinewidth\":0,\"ticks\":\"\"}}}],\"scattercarpet\":[{\"type\":\"scattercarpet\",\"marker\":{\"colorbar\":{\"outlinewidth\":0,\"ticks\":\"\"}}}],\"carpet\":[{\"aaxis\":{\"endlinecolor\":\"#2a3f5f\",\"gridcolor\":\"white\",\"linecolor\":\"white\",\"minorgridcolor\":\"white\",\"startlinecolor\":\"#2a3f5f\"},\"baxis\":{\"endlinecolor\":\"#2a3f5f\",\"gridcolor\":\"white\",\"linecolor\":\"white\",\"minorgridcolor\":\"white\",\"startlinecolor\":\"#2a3f5f\"},\"type\":\"carpet\"}],\"table\":[{\"cells\":{\"fill\":{\"color\":\"#EBF0F8\"},\"line\":{\"color\":\"white\"}},\"header\":{\"fill\":{\"color\":\"#C8D4E3\"},\"line\":{\"color\":\"white\"}},\"type\":\"table\"}],\"barpolar\":[{\"marker\":{\"line\":{\"color\":\"#E5ECF6\",\"width\":0.5},\"pattern\":{\"fillmode\":\"overlay\",\"size\":10,\"solidity\":0.2}},\"type\":\"barpolar\"}],\"pie\":[{\"automargin\":true,\"type\":\"pie\"}]},\"layout\":{\"autotypenumbers\":\"strict\",\"colorway\":[\"#636efa\",\"#EF553B\",\"#00cc96\",\"#ab63fa\",\"#FFA15A\",\"#19d3f3\",\"#FF6692\",\"#B6E880\",\"#FF97FF\",\"#FECB52\"],\"font\":{\"color\":\"#2a3f5f\"},\"hovermode\":\"closest\",\"hoverlabel\":{\"align\":\"left\"},\"paper_bgcolor\":\"white\",\"plot_bgcolor\":\"#E5ECF6\",\"polar\":{\"bgcolor\":\"#E5ECF6\",\"angularaxis\":{\"gridcolor\":\"white\",\"linecolor\":\"white\",\"ticks\":\"\"},\"radialaxis\":{\"gridcolor\":\"white\",\"linecolor\":\"white\",\"ticks\":\"\"}},\"ternary\":{\"bgcolor\":\"#E5ECF6\",\"aaxis\":{\"gridcolor\":\"white\",\"linecolor\":\"white\",\"ticks\":\"\"},\"baxis\":{\"gridcolor\":\"white\",\"linecolor\":\"white\",\"ticks\":\"\"},\"caxis\":{\"gridcolor\":\"white\",\"linecolor\":\"white\",\"ticks\":\"\"}},\"coloraxis\":{\"colorbar\":{\"outlinewidth\":0,\"ticks\":\"\"}},\"colorscale\":{\"sequential\":[[0.0,\"#0d0887\"],[0.1111111111111111,\"#46039f\"],[0.2222222222222222,\"#7201a8\"],[0.3333333333333333,\"#9c179e\"],[0.4444444444444444,\"#bd3786\"],[0.5555555555555556,\"#d8576b\"],[0.6666666666666666,\"#ed7953\"],[0.7777777777777778,\"#fb9f3a\"],[0.8888888888888888,\"#fdca26\"],[1.0,\"#f0f921\"]],\"sequentialminus\":[[0.0,\"#0d0887\"],[0.1111111111111111,\"#46039f\"],[0.2222222222222222,\"#7201a8\"],[0.3333333333333333,\"#9c179e\"],[0.4444444444444444,\"#bd3786\"],[0.5555555555555556,\"#d8576b\"],[0.6666666666666666,\"#ed7953\"],[0.7777777777777778,\"#fb9f3a\"],[0.8888888888888888,\"#fdca26\"],[1.0,\"#f0f921\"]],\"diverging\":[[0,\"#8e0152\"],[0.1,\"#c51b7d\"],[0.2,\"#de77ae\"],[0.3,\"#f1b6da\"],[0.4,\"#fde0ef\"],[0.5,\"#f7f7f7\"],[0.6,\"#e6f5d0\"],[0.7,\"#b8e186\"],[0.8,\"#7fbc41\"],[0.9,\"#4d9221\"],[1,\"#276419\"]]},\"xaxis\":{\"gridcolor\":\"white\",\"linecolor\":\"white\",\"ticks\":\"\",\"title\":{\"standoff\":15},\"zerolinecolor\":\"white\",\"automargin\":true,\"zerolinewidth\":2},\"yaxis\":{\"gridcolor\":\"white\",\"linecolor\":\"white\",\"ticks\":\"\",\"title\":{\"standoff\":15},\"zerolinecolor\":\"white\",\"automargin\":true,\"zerolinewidth\":2},\"scene\":{\"xaxis\":{\"backgroundcolor\":\"#E5ECF6\",\"gridcolor\":\"white\",\"linecolor\":\"white\",\"showbackground\":true,\"ticks\":\"\",\"zerolinecolor\":\"white\",\"gridwidth\":2},\"yaxis\":{\"backgroundcolor\":\"#E5ECF6\",\"gridcolor\":\"white\",\"linecolor\":\"white\",\"showbackground\":true,\"ticks\":\"\",\"zerolinecolor\":\"white\",\"gridwidth\":2},\"zaxis\":{\"backgroundcolor\":\"#E5ECF6\",\"gridcolor\":\"white\",\"linecolor\":\"white\",\"showbackground\":true,\"ticks\":\"\",\"zerolinecolor\":\"white\",\"gridwidth\":2}},\"shapedefaults\":{\"line\":{\"color\":\"#2a3f5f\"}},\"annotationdefaults\":{\"arrowcolor\":\"#2a3f5f\",\"arrowhead\":0,\"arrowwidth\":1},\"geo\":{\"bgcolor\":\"white\",\"landcolor\":\"#E5ECF6\",\"subunitcolor\":\"white\",\"showland\":true,\"showlakes\":true,\"lakecolor\":\"white\"},\"title\":{\"x\":0.05},\"mapbox\":{\"style\":\"light\"}}},\"legend\":{\"tracegroupgap\":0},\"margin\":{\"t\":60},\"piecolorway\":[\"#fdc029\",\"#df861d\",\"#FF6347\",\"#aa3d01\",\"#a30e15\",\"#800000\",\"#171820\"]},                        {\"responsive\": true}                    ).then(function(){\n",
              "                            \n",
              "var gd = document.getElementById('1ae16675-f0b2-4806-9be5-5f29e343289f');\n",
              "var x = new MutationObserver(function (mutations, observer) {{\n",
              "        var display = window.getComputedStyle(gd).display;\n",
              "        if (!display || display === 'none') {{\n",
              "            console.log([gd, 'removed!']);\n",
              "            Plotly.purge(gd);\n",
              "            observer.disconnect();\n",
              "        }}\n",
              "}});\n",
              "\n",
              "// Listen for the removal of the full notebook cells\n",
              "var notebookContainer = gd.closest('#notebook-container');\n",
              "if (notebookContainer) {{\n",
              "    x.observe(notebookContainer, {childList: true});\n",
              "}}\n",
              "\n",
              "// Listen for the clearing of the current output cell\n",
              "var outputEl = gd.closest('.output');\n",
              "if (outputEl) {{\n",
              "    x.observe(outputEl, {childList: true});\n",
              "}}\n",
              "\n",
              "                        })                };                            </script>        </div>\n",
              "</body>\n",
              "</html>"
            ]
          },
          "metadata": {}
        }
      ],
      "source": [
        "fig = px.pie(gender_count,\n",
        "             values='gender',\n",
        "             names=gender_count.index,\n",
        "             color_discrete_sequence=orange_black,\n",
        "             hole=.4)\n",
        "fig.update_traces(textinfo='percent+label', pull=0.05)\n",
        "fig.show()"
      ]
    },
    {
      "cell_type": "markdown",
      "metadata": {
        "id": "QQjqrFd7TNvb"
      },
      "source": [
        "> **Surprisingly, Most of the readers are male accounting for 78.6%**"
      ]
    },
    {
      "cell_type": "markdown",
      "metadata": {
        "id": "dtEQ_GHTTo4z"
      },
      "source": [
        "##### **What operating system do users use to access the articles?**"
      ]
    },
    {
      "cell_type": "code",
      "execution_count": 25,
      "metadata": {
        "colab": {
          "base_uri": "https://localhost:8080/",
          "height": 542
        },
        "id": "VOJ8oOa1ToDs",
        "outputId": "25fd4868-48e1-4d13-ee4f-0e465be87488"
      },
      "outputs": [
        {
          "output_type": "display_data",
          "data": {
            "text/html": [
              "<html>\n",
              "<head><meta charset=\"utf-8\" /></head>\n",
              "<body>\n",
              "    <div>            <script src=\"https://cdnjs.cloudflare.com/ajax/libs/mathjax/2.7.5/MathJax.js?config=TeX-AMS-MML_SVG\"></script><script type=\"text/javascript\">if (window.MathJax && window.MathJax.Hub && window.MathJax.Hub.Config) {window.MathJax.Hub.Config({SVG: {font: \"STIX-Web\"}});}</script>                <script type=\"text/javascript\">window.PlotlyConfig = {MathJaxConfig: 'local'};</script>\n",
              "        <script src=\"https://cdn.plot.ly/plotly-2.18.2.min.js\"></script>                <div id=\"eba01ee1-f15e-41e3-986c-dad6b4e5dafb\" class=\"plotly-graph-div\" style=\"height:525px; width:100%;\"></div>            <script type=\"text/javascript\">                                    window.PLOTLYENV=window.PLOTLYENV || {};                                    if (document.getElementById(\"eba01ee1-f15e-41e3-986c-dad6b4e5dafb\")) {                    Plotly.newPlot(                        \"eba01ee1-f15e-41e3-986c-dad6b4e5dafb\",                        [{\"domain\":{\"x\":[0.0,1.0],\"y\":[0.0,1.0]},\"hole\":0.4,\"hovertemplate\":\"index=%{label}<br>os_name=%{value}<extra></extra>\",\"labels\":[\"windows\",\"others\",\"ios\",\"android\",\"macos\"],\"legendgroup\":\"\",\"name\":\"\",\"showlegend\":true,\"values\":[165526,9054,3990,485,468],\"type\":\"pie\",\"pull\":0.05,\"textinfo\":\"percent+label\"}],                        {\"template\":{\"data\":{\"histogram2dcontour\":[{\"type\":\"histogram2dcontour\",\"colorbar\":{\"outlinewidth\":0,\"ticks\":\"\"},\"colorscale\":[[0.0,\"#0d0887\"],[0.1111111111111111,\"#46039f\"],[0.2222222222222222,\"#7201a8\"],[0.3333333333333333,\"#9c179e\"],[0.4444444444444444,\"#bd3786\"],[0.5555555555555556,\"#d8576b\"],[0.6666666666666666,\"#ed7953\"],[0.7777777777777778,\"#fb9f3a\"],[0.8888888888888888,\"#fdca26\"],[1.0,\"#f0f921\"]]}],\"choropleth\":[{\"type\":\"choropleth\",\"colorbar\":{\"outlinewidth\":0,\"ticks\":\"\"}}],\"histogram2d\":[{\"type\":\"histogram2d\",\"colorbar\":{\"outlinewidth\":0,\"ticks\":\"\"},\"colorscale\":[[0.0,\"#0d0887\"],[0.1111111111111111,\"#46039f\"],[0.2222222222222222,\"#7201a8\"],[0.3333333333333333,\"#9c179e\"],[0.4444444444444444,\"#bd3786\"],[0.5555555555555556,\"#d8576b\"],[0.6666666666666666,\"#ed7953\"],[0.7777777777777778,\"#fb9f3a\"],[0.8888888888888888,\"#fdca26\"],[1.0,\"#f0f921\"]]}],\"heatmap\":[{\"type\":\"heatmap\",\"colorbar\":{\"outlinewidth\":0,\"ticks\":\"\"},\"colorscale\":[[0.0,\"#0d0887\"],[0.1111111111111111,\"#46039f\"],[0.2222222222222222,\"#7201a8\"],[0.3333333333333333,\"#9c179e\"],[0.4444444444444444,\"#bd3786\"],[0.5555555555555556,\"#d8576b\"],[0.6666666666666666,\"#ed7953\"],[0.7777777777777778,\"#fb9f3a\"],[0.8888888888888888,\"#fdca26\"],[1.0,\"#f0f921\"]]}],\"heatmapgl\":[{\"type\":\"heatmapgl\",\"colorbar\":{\"outlinewidth\":0,\"ticks\":\"\"},\"colorscale\":[[0.0,\"#0d0887\"],[0.1111111111111111,\"#46039f\"],[0.2222222222222222,\"#7201a8\"],[0.3333333333333333,\"#9c179e\"],[0.4444444444444444,\"#bd3786\"],[0.5555555555555556,\"#d8576b\"],[0.6666666666666666,\"#ed7953\"],[0.7777777777777778,\"#fb9f3a\"],[0.8888888888888888,\"#fdca26\"],[1.0,\"#f0f921\"]]}],\"contourcarpet\":[{\"type\":\"contourcarpet\",\"colorbar\":{\"outlinewidth\":0,\"ticks\":\"\"}}],\"contour\":[{\"type\":\"contour\",\"colorbar\":{\"outlinewidth\":0,\"ticks\":\"\"},\"colorscale\":[[0.0,\"#0d0887\"],[0.1111111111111111,\"#46039f\"],[0.2222222222222222,\"#7201a8\"],[0.3333333333333333,\"#9c179e\"],[0.4444444444444444,\"#bd3786\"],[0.5555555555555556,\"#d8576b\"],[0.6666666666666666,\"#ed7953\"],[0.7777777777777778,\"#fb9f3a\"],[0.8888888888888888,\"#fdca26\"],[1.0,\"#f0f921\"]]}],\"surface\":[{\"type\":\"surface\",\"colorbar\":{\"outlinewidth\":0,\"ticks\":\"\"},\"colorscale\":[[0.0,\"#0d0887\"],[0.1111111111111111,\"#46039f\"],[0.2222222222222222,\"#7201a8\"],[0.3333333333333333,\"#9c179e\"],[0.4444444444444444,\"#bd3786\"],[0.5555555555555556,\"#d8576b\"],[0.6666666666666666,\"#ed7953\"],[0.7777777777777778,\"#fb9f3a\"],[0.8888888888888888,\"#fdca26\"],[1.0,\"#f0f921\"]]}],\"mesh3d\":[{\"type\":\"mesh3d\",\"colorbar\":{\"outlinewidth\":0,\"ticks\":\"\"}}],\"scatter\":[{\"fillpattern\":{\"fillmode\":\"overlay\",\"size\":10,\"solidity\":0.2},\"type\":\"scatter\"}],\"parcoords\":[{\"type\":\"parcoords\",\"line\":{\"colorbar\":{\"outlinewidth\":0,\"ticks\":\"\"}}}],\"scatterpolargl\":[{\"type\":\"scatterpolargl\",\"marker\":{\"colorbar\":{\"outlinewidth\":0,\"ticks\":\"\"}}}],\"bar\":[{\"error_x\":{\"color\":\"#2a3f5f\"},\"error_y\":{\"color\":\"#2a3f5f\"},\"marker\":{\"line\":{\"color\":\"#E5ECF6\",\"width\":0.5},\"pattern\":{\"fillmode\":\"overlay\",\"size\":10,\"solidity\":0.2}},\"type\":\"bar\"}],\"scattergeo\":[{\"type\":\"scattergeo\",\"marker\":{\"colorbar\":{\"outlinewidth\":0,\"ticks\":\"\"}}}],\"scatterpolar\":[{\"type\":\"scatterpolar\",\"marker\":{\"colorbar\":{\"outlinewidth\":0,\"ticks\":\"\"}}}],\"histogram\":[{\"marker\":{\"pattern\":{\"fillmode\":\"overlay\",\"size\":10,\"solidity\":0.2}},\"type\":\"histogram\"}],\"scattergl\":[{\"type\":\"scattergl\",\"marker\":{\"colorbar\":{\"outlinewidth\":0,\"ticks\":\"\"}}}],\"scatter3d\":[{\"type\":\"scatter3d\",\"line\":{\"colorbar\":{\"outlinewidth\":0,\"ticks\":\"\"}},\"marker\":{\"colorbar\":{\"outlinewidth\":0,\"ticks\":\"\"}}}],\"scattermapbox\":[{\"type\":\"scattermapbox\",\"marker\":{\"colorbar\":{\"outlinewidth\":0,\"ticks\":\"\"}}}],\"scatterternary\":[{\"type\":\"scatterternary\",\"marker\":{\"colorbar\":{\"outlinewidth\":0,\"ticks\":\"\"}}}],\"scattercarpet\":[{\"type\":\"scattercarpet\",\"marker\":{\"colorbar\":{\"outlinewidth\":0,\"ticks\":\"\"}}}],\"carpet\":[{\"aaxis\":{\"endlinecolor\":\"#2a3f5f\",\"gridcolor\":\"white\",\"linecolor\":\"white\",\"minorgridcolor\":\"white\",\"startlinecolor\":\"#2a3f5f\"},\"baxis\":{\"endlinecolor\":\"#2a3f5f\",\"gridcolor\":\"white\",\"linecolor\":\"white\",\"minorgridcolor\":\"white\",\"startlinecolor\":\"#2a3f5f\"},\"type\":\"carpet\"}],\"table\":[{\"cells\":{\"fill\":{\"color\":\"#EBF0F8\"},\"line\":{\"color\":\"white\"}},\"header\":{\"fill\":{\"color\":\"#C8D4E3\"},\"line\":{\"color\":\"white\"}},\"type\":\"table\"}],\"barpolar\":[{\"marker\":{\"line\":{\"color\":\"#E5ECF6\",\"width\":0.5},\"pattern\":{\"fillmode\":\"overlay\",\"size\":10,\"solidity\":0.2}},\"type\":\"barpolar\"}],\"pie\":[{\"automargin\":true,\"type\":\"pie\"}]},\"layout\":{\"autotypenumbers\":\"strict\",\"colorway\":[\"#636efa\",\"#EF553B\",\"#00cc96\",\"#ab63fa\",\"#FFA15A\",\"#19d3f3\",\"#FF6692\",\"#B6E880\",\"#FF97FF\",\"#FECB52\"],\"font\":{\"color\":\"#2a3f5f\"},\"hovermode\":\"closest\",\"hoverlabel\":{\"align\":\"left\"},\"paper_bgcolor\":\"white\",\"plot_bgcolor\":\"#E5ECF6\",\"polar\":{\"bgcolor\":\"#E5ECF6\",\"angularaxis\":{\"gridcolor\":\"white\",\"linecolor\":\"white\",\"ticks\":\"\"},\"radialaxis\":{\"gridcolor\":\"white\",\"linecolor\":\"white\",\"ticks\":\"\"}},\"ternary\":{\"bgcolor\":\"#E5ECF6\",\"aaxis\":{\"gridcolor\":\"white\",\"linecolor\":\"white\",\"ticks\":\"\"},\"baxis\":{\"gridcolor\":\"white\",\"linecolor\":\"white\",\"ticks\":\"\"},\"caxis\":{\"gridcolor\":\"white\",\"linecolor\":\"white\",\"ticks\":\"\"}},\"coloraxis\":{\"colorbar\":{\"outlinewidth\":0,\"ticks\":\"\"}},\"colorscale\":{\"sequential\":[[0.0,\"#0d0887\"],[0.1111111111111111,\"#46039f\"],[0.2222222222222222,\"#7201a8\"],[0.3333333333333333,\"#9c179e\"],[0.4444444444444444,\"#bd3786\"],[0.5555555555555556,\"#d8576b\"],[0.6666666666666666,\"#ed7953\"],[0.7777777777777778,\"#fb9f3a\"],[0.8888888888888888,\"#fdca26\"],[1.0,\"#f0f921\"]],\"sequentialminus\":[[0.0,\"#0d0887\"],[0.1111111111111111,\"#46039f\"],[0.2222222222222222,\"#7201a8\"],[0.3333333333333333,\"#9c179e\"],[0.4444444444444444,\"#bd3786\"],[0.5555555555555556,\"#d8576b\"],[0.6666666666666666,\"#ed7953\"],[0.7777777777777778,\"#fb9f3a\"],[0.8888888888888888,\"#fdca26\"],[1.0,\"#f0f921\"]],\"diverging\":[[0,\"#8e0152\"],[0.1,\"#c51b7d\"],[0.2,\"#de77ae\"],[0.3,\"#f1b6da\"],[0.4,\"#fde0ef\"],[0.5,\"#f7f7f7\"],[0.6,\"#e6f5d0\"],[0.7,\"#b8e186\"],[0.8,\"#7fbc41\"],[0.9,\"#4d9221\"],[1,\"#276419\"]]},\"xaxis\":{\"gridcolor\":\"white\",\"linecolor\":\"white\",\"ticks\":\"\",\"title\":{\"standoff\":15},\"zerolinecolor\":\"white\",\"automargin\":true,\"zerolinewidth\":2},\"yaxis\":{\"gridcolor\":\"white\",\"linecolor\":\"white\",\"ticks\":\"\",\"title\":{\"standoff\":15},\"zerolinecolor\":\"white\",\"automargin\":true,\"zerolinewidth\":2},\"scene\":{\"xaxis\":{\"backgroundcolor\":\"#E5ECF6\",\"gridcolor\":\"white\",\"linecolor\":\"white\",\"showbackground\":true,\"ticks\":\"\",\"zerolinecolor\":\"white\",\"gridwidth\":2},\"yaxis\":{\"backgroundcolor\":\"#E5ECF6\",\"gridcolor\":\"white\",\"linecolor\":\"white\",\"showbackground\":true,\"ticks\":\"\",\"zerolinecolor\":\"white\",\"gridwidth\":2},\"zaxis\":{\"backgroundcolor\":\"#E5ECF6\",\"gridcolor\":\"white\",\"linecolor\":\"white\",\"showbackground\":true,\"ticks\":\"\",\"zerolinecolor\":\"white\",\"gridwidth\":2}},\"shapedefaults\":{\"line\":{\"color\":\"#2a3f5f\"}},\"annotationdefaults\":{\"arrowcolor\":\"#2a3f5f\",\"arrowhead\":0,\"arrowwidth\":1},\"geo\":{\"bgcolor\":\"white\",\"landcolor\":\"#E5ECF6\",\"subunitcolor\":\"white\",\"showland\":true,\"showlakes\":true,\"lakecolor\":\"white\"},\"title\":{\"x\":0.05},\"mapbox\":{\"style\":\"light\"}}},\"legend\":{\"tracegroupgap\":0},\"margin\":{\"t\":60},\"piecolorway\":[\"#fdc029\",\"#df861d\",\"#FF6347\",\"#aa3d01\",\"#a30e15\",\"#800000\",\"#171820\"]},                        {\"responsive\": true}                    ).then(function(){\n",
              "                            \n",
              "var gd = document.getElementById('eba01ee1-f15e-41e3-986c-dad6b4e5dafb');\n",
              "var x = new MutationObserver(function (mutations, observer) {{\n",
              "        var display = window.getComputedStyle(gd).display;\n",
              "        if (!display || display === 'none') {{\n",
              "            console.log([gd, 'removed!']);\n",
              "            Plotly.purge(gd);\n",
              "            observer.disconnect();\n",
              "        }}\n",
              "}});\n",
              "\n",
              "// Listen for the removal of the full notebook cells\n",
              "var notebookContainer = gd.closest('#notebook-container');\n",
              "if (notebookContainer) {{\n",
              "    x.observe(notebookContainer, {childList: true});\n",
              "}}\n",
              "\n",
              "// Listen for the clearing of the current output cell\n",
              "var outputEl = gd.closest('.output');\n",
              "if (outputEl) {{\n",
              "    x.observe(outputEl, {childList: true});\n",
              "}}\n",
              "\n",
              "                        })                };                            </script>        </div>\n",
              "</body>\n",
              "</html>"
            ]
          },
          "metadata": {}
        }
      ],
      "source": [
        "os_name_count = users_df['os_name'].value_counts()\n",
        "fig = px.pie(os_name_count,\n",
        "             values='os_name',\n",
        "             names=os_name_count.index,\n",
        "             color_discrete_sequence=orange_black,\n",
        "             hole=.4)\n",
        "fig.update_traces(textinfo='percent+label', pull=0.05)\n",
        "fig.show()"
      ]
    },
    {
      "cell_type": "markdown",
      "metadata": {
        "id": "qXXnc1fBUcx0"
      },
      "source": [
        "> **92.2% users use windows to access the articles**"
      ]
    },
    {
      "cell_type": "markdown",
      "metadata": {
        "id": "xgpzY2a7UpNa"
      },
      "source": [
        "#### Reading behaviour"
      ]
    },
    {
      "cell_type": "code",
      "execution_count": 26,
      "metadata": {
        "colab": {
          "base_uri": "https://localhost:8080/",
          "height": 206
        },
        "id": "vP7EdYlcURbO",
        "outputId": "583f2ac9-2702-41f2-ce9a-ee1a9c5cb03e"
      },
      "outputs": [
        {
          "output_type": "execute_result",
          "data": {
            "text/plain": [
              "                user_id            article_id           event_time\n",
              "0  13214459406561935989  14810025847983156880  2022-04-06 00:00:00\n",
              "1   1289026229861087090  17510905596044558175  2022-04-06 00:00:00\n",
              "2   3001758567334363234   9741355532714246116  2022-04-06 00:00:00\n",
              "3   9935763984618015567   7546671372785216919  2022-04-06 00:00:00\n",
              "4  10238108363219256632  13307914094188214671  2022-04-06 00:00:01"
            ],
            "text/html": [
              "\n",
              "  <div id=\"df-176cc917-890a-4d0a-9d13-7f4e2a8cb106\">\n",
              "    <div class=\"colab-df-container\">\n",
              "      <div>\n",
              "<style scoped>\n",
              "    .dataframe tbody tr th:only-of-type {\n",
              "        vertical-align: middle;\n",
              "    }\n",
              "\n",
              "    .dataframe tbody tr th {\n",
              "        vertical-align: top;\n",
              "    }\n",
              "\n",
              "    .dataframe thead th {\n",
              "        text-align: right;\n",
              "    }\n",
              "</style>\n",
              "<table border=\"1\" class=\"dataframe\">\n",
              "  <thead>\n",
              "    <tr style=\"text-align: right;\">\n",
              "      <th></th>\n",
              "      <th>user_id</th>\n",
              "      <th>article_id</th>\n",
              "      <th>event_time</th>\n",
              "    </tr>\n",
              "  </thead>\n",
              "  <tbody>\n",
              "    <tr>\n",
              "      <th>0</th>\n",
              "      <td>13214459406561935989</td>\n",
              "      <td>14810025847983156880</td>\n",
              "      <td>2022-04-06 00:00:00</td>\n",
              "    </tr>\n",
              "    <tr>\n",
              "      <th>1</th>\n",
              "      <td>1289026229861087090</td>\n",
              "      <td>17510905596044558175</td>\n",
              "      <td>2022-04-06 00:00:00</td>\n",
              "    </tr>\n",
              "    <tr>\n",
              "      <th>2</th>\n",
              "      <td>3001758567334363234</td>\n",
              "      <td>9741355532714246116</td>\n",
              "      <td>2022-04-06 00:00:00</td>\n",
              "    </tr>\n",
              "    <tr>\n",
              "      <th>3</th>\n",
              "      <td>9935763984618015567</td>\n",
              "      <td>7546671372785216919</td>\n",
              "      <td>2022-04-06 00:00:00</td>\n",
              "    </tr>\n",
              "    <tr>\n",
              "      <th>4</th>\n",
              "      <td>10238108363219256632</td>\n",
              "      <td>13307914094188214671</td>\n",
              "      <td>2022-04-06 00:00:01</td>\n",
              "    </tr>\n",
              "  </tbody>\n",
              "</table>\n",
              "</div>\n",
              "      <button class=\"colab-df-convert\" onclick=\"convertToInteractive('df-176cc917-890a-4d0a-9d13-7f4e2a8cb106')\"\n",
              "              title=\"Convert this dataframe to an interactive table.\"\n",
              "              style=\"display:none;\">\n",
              "        \n",
              "  <svg xmlns=\"http://www.w3.org/2000/svg\" height=\"24px\"viewBox=\"0 0 24 24\"\n",
              "       width=\"24px\">\n",
              "    <path d=\"M0 0h24v24H0V0z\" fill=\"none\"/>\n",
              "    <path d=\"M18.56 5.44l.94 2.06.94-2.06 2.06-.94-2.06-.94-.94-2.06-.94 2.06-2.06.94zm-11 1L8.5 8.5l.94-2.06 2.06-.94-2.06-.94L8.5 2.5l-.94 2.06-2.06.94zm10 10l.94 2.06.94-2.06 2.06-.94-2.06-.94-.94-2.06-.94 2.06-2.06.94z\"/><path d=\"M17.41 7.96l-1.37-1.37c-.4-.4-.92-.59-1.43-.59-.52 0-1.04.2-1.43.59L10.3 9.45l-7.72 7.72c-.78.78-.78 2.05 0 2.83L4 21.41c.39.39.9.59 1.41.59.51 0 1.02-.2 1.41-.59l7.78-7.78 2.81-2.81c.8-.78.8-2.07 0-2.86zM5.41 20L4 18.59l7.72-7.72 1.47 1.35L5.41 20z\"/>\n",
              "  </svg>\n",
              "      </button>\n",
              "      \n",
              "  <style>\n",
              "    .colab-df-container {\n",
              "      display:flex;\n",
              "      flex-wrap:wrap;\n",
              "      gap: 12px;\n",
              "    }\n",
              "\n",
              "    .colab-df-convert {\n",
              "      background-color: #E8F0FE;\n",
              "      border: none;\n",
              "      border-radius: 50%;\n",
              "      cursor: pointer;\n",
              "      display: none;\n",
              "      fill: #1967D2;\n",
              "      height: 32px;\n",
              "      padding: 0 0 0 0;\n",
              "      width: 32px;\n",
              "    }\n",
              "\n",
              "    .colab-df-convert:hover {\n",
              "      background-color: #E2EBFA;\n",
              "      box-shadow: 0px 1px 2px rgba(60, 64, 67, 0.3), 0px 1px 3px 1px rgba(60, 64, 67, 0.15);\n",
              "      fill: #174EA6;\n",
              "    }\n",
              "\n",
              "    [theme=dark] .colab-df-convert {\n",
              "      background-color: #3B4455;\n",
              "      fill: #D2E3FC;\n",
              "    }\n",
              "\n",
              "    [theme=dark] .colab-df-convert:hover {\n",
              "      background-color: #434B5C;\n",
              "      box-shadow: 0px 1px 3px 1px rgba(0, 0, 0, 0.15);\n",
              "      filter: drop-shadow(0px 1px 2px rgba(0, 0, 0, 0.3));\n",
              "      fill: #FFFFFF;\n",
              "    }\n",
              "  </style>\n",
              "\n",
              "      <script>\n",
              "        const buttonEl =\n",
              "          document.querySelector('#df-176cc917-890a-4d0a-9d13-7f4e2a8cb106 button.colab-df-convert');\n",
              "        buttonEl.style.display =\n",
              "          google.colab.kernel.accessAllowed ? 'block' : 'none';\n",
              "\n",
              "        async function convertToInteractive(key) {\n",
              "          const element = document.querySelector('#df-176cc917-890a-4d0a-9d13-7f4e2a8cb106');\n",
              "          const dataTable =\n",
              "            await google.colab.kernel.invokeFunction('convertToInteractive',\n",
              "                                                     [key], {});\n",
              "          if (!dataTable) return;\n",
              "\n",
              "          const docLinkHtml = 'Like what you see? Visit the ' +\n",
              "            '<a target=\"_blank\" href=https://colab.research.google.com/notebooks/data_table.ipynb>data table notebook</a>'\n",
              "            + ' to learn more about interactive tables.';\n",
              "          element.innerHTML = '';\n",
              "          dataTable['output_type'] = 'display_data';\n",
              "          await google.colab.output.renderOutput(dataTable, element);\n",
              "          const docLink = document.createElement('div');\n",
              "          docLink.innerHTML = docLinkHtml;\n",
              "          element.appendChild(docLink);\n",
              "        }\n",
              "      </script>\n",
              "    </div>\n",
              "  </div>\n",
              "  "
            ]
          },
          "metadata": {},
          "execution_count": 26
        }
      ],
      "source": [
        "reading_df.head(5)"
      ]
    },
    {
      "cell_type": "code",
      "execution_count": 27,
      "metadata": {
        "colab": {
          "base_uri": "https://localhost:8080/",
          "height": 0
        },
        "id": "-G9Qt0SwU157",
        "outputId": "10062f4a-b519-4f05-fcb7-606da2b8ad16"
      },
      "outputs": [
        {
          "output_type": "execute_result",
          "data": {
            "text/plain": [
              "(5956753, 3)"
            ]
          },
          "metadata": {},
          "execution_count": 27
        }
      ],
      "source": [
        "reading_df.shape"
      ]
    },
    {
      "cell_type": "code",
      "execution_count": 28,
      "metadata": {
        "colab": {
          "base_uri": "https://localhost:8080/",
          "height": 0
        },
        "id": "lVKnTVeLU5Ls",
        "outputId": "4d2abf91-a611-46bb-89db-7cf6db890d2c"
      },
      "outputs": [
        {
          "output_type": "stream",
          "name": "stdout",
          "text": [
            "<class 'pandas.core.frame.DataFrame'>\n",
            "RangeIndex: 5956753 entries, 0 to 5956752\n",
            "Data columns (total 3 columns):\n",
            " #   Column      Dtype \n",
            "---  ------      ----- \n",
            " 0   user_id     uint64\n",
            " 1   article_id  uint64\n",
            " 2   event_time  object\n",
            "dtypes: object(1), uint64(2)\n",
            "memory usage: 136.3+ MB\n"
          ]
        }
      ],
      "source": [
        "reading_df.info()"
      ]
    },
    {
      "cell_type": "markdown",
      "metadata": {
        "id": "Z77d0Bd5XbVu"
      },
      "source": [
        "##### Processing"
      ]
    },
    {
      "cell_type": "code",
      "execution_count": 29,
      "metadata": {
        "colab": {
          "base_uri": "https://localhost:8080/",
          "height": 0
        },
        "id": "Lj4l3dMJW08y",
        "outputId": "c986ea2d-44a2-4a63-9e0d-4252c9e61b44"
      },
      "outputs": [
        {
          "output_type": "stream",
          "name": "stdout",
          "text": [
            "<class 'pandas.core.frame.DataFrame'>\n",
            "RangeIndex: 5956753 entries, 0 to 5956752\n",
            "Data columns (total 3 columns):\n",
            " #   Column      Dtype         \n",
            "---  ------      -----         \n",
            " 0   user_id     uint64        \n",
            " 1   article_id  uint64        \n",
            " 2   event_time  datetime64[ns]\n",
            "dtypes: datetime64[ns](1), uint64(2)\n",
            "memory usage: 136.3 MB\n"
          ]
        }
      ],
      "source": [
        "# Convert to datetime\n",
        "reading_df['event_time'] = pd.to_datetime(reading_df['event_time'], format= \"%Y-%m-%d %H:%M:%S\")\n",
        "reading_df.info()"
      ]
    },
    {
      "cell_type": "code",
      "execution_count": 32,
      "metadata": {
        "id": "99sdawlzYRci",
        "colab": {
          "base_uri": "https://localhost:8080/",
          "height": 206
        },
        "outputId": "db779953-a399-42b5-b39e-bd42252ff2a2"
      },
      "outputs": [
        {
          "output_type": "execute_result",
          "data": {
            "text/plain": [
              "                user_id            article_id          event_time        date  \\\n",
              "0  13214459406561935989  14810025847983156880 2022-04-06 00:00:00  2022-04-06   \n",
              "1   1289026229861087090  17510905596044558175 2022-04-06 00:00:00  2022-04-06   \n",
              "2   3001758567334363234   9741355532714246116 2022-04-06 00:00:00  2022-04-06   \n",
              "3   9935763984618015567   7546671372785216919 2022-04-06 00:00:00  2022-04-06   \n",
              "4  10238108363219256632  13307914094188214671 2022-04-06 00:00:01  2022-04-06   \n",
              "\n",
              "   hour  \n",
              "0     0  \n",
              "1     0  \n",
              "2     0  \n",
              "3     0  \n",
              "4     0  "
            ],
            "text/html": [
              "\n",
              "  <div id=\"df-48ac491b-c28e-47b5-821c-c8f2302b9149\">\n",
              "    <div class=\"colab-df-container\">\n",
              "      <div>\n",
              "<style scoped>\n",
              "    .dataframe tbody tr th:only-of-type {\n",
              "        vertical-align: middle;\n",
              "    }\n",
              "\n",
              "    .dataframe tbody tr th {\n",
              "        vertical-align: top;\n",
              "    }\n",
              "\n",
              "    .dataframe thead th {\n",
              "        text-align: right;\n",
              "    }\n",
              "</style>\n",
              "<table border=\"1\" class=\"dataframe\">\n",
              "  <thead>\n",
              "    <tr style=\"text-align: right;\">\n",
              "      <th></th>\n",
              "      <th>user_id</th>\n",
              "      <th>article_id</th>\n",
              "      <th>event_time</th>\n",
              "      <th>date</th>\n",
              "      <th>hour</th>\n",
              "    </tr>\n",
              "  </thead>\n",
              "  <tbody>\n",
              "    <tr>\n",
              "      <th>0</th>\n",
              "      <td>13214459406561935989</td>\n",
              "      <td>14810025847983156880</td>\n",
              "      <td>2022-04-06 00:00:00</td>\n",
              "      <td>2022-04-06</td>\n",
              "      <td>0</td>\n",
              "    </tr>\n",
              "    <tr>\n",
              "      <th>1</th>\n",
              "      <td>1289026229861087090</td>\n",
              "      <td>17510905596044558175</td>\n",
              "      <td>2022-04-06 00:00:00</td>\n",
              "      <td>2022-04-06</td>\n",
              "      <td>0</td>\n",
              "    </tr>\n",
              "    <tr>\n",
              "      <th>2</th>\n",
              "      <td>3001758567334363234</td>\n",
              "      <td>9741355532714246116</td>\n",
              "      <td>2022-04-06 00:00:00</td>\n",
              "      <td>2022-04-06</td>\n",
              "      <td>0</td>\n",
              "    </tr>\n",
              "    <tr>\n",
              "      <th>3</th>\n",
              "      <td>9935763984618015567</td>\n",
              "      <td>7546671372785216919</td>\n",
              "      <td>2022-04-06 00:00:00</td>\n",
              "      <td>2022-04-06</td>\n",
              "      <td>0</td>\n",
              "    </tr>\n",
              "    <tr>\n",
              "      <th>4</th>\n",
              "      <td>10238108363219256632</td>\n",
              "      <td>13307914094188214671</td>\n",
              "      <td>2022-04-06 00:00:01</td>\n",
              "      <td>2022-04-06</td>\n",
              "      <td>0</td>\n",
              "    </tr>\n",
              "  </tbody>\n",
              "</table>\n",
              "</div>\n",
              "      <button class=\"colab-df-convert\" onclick=\"convertToInteractive('df-48ac491b-c28e-47b5-821c-c8f2302b9149')\"\n",
              "              title=\"Convert this dataframe to an interactive table.\"\n",
              "              style=\"display:none;\">\n",
              "        \n",
              "  <svg xmlns=\"http://www.w3.org/2000/svg\" height=\"24px\"viewBox=\"0 0 24 24\"\n",
              "       width=\"24px\">\n",
              "    <path d=\"M0 0h24v24H0V0z\" fill=\"none\"/>\n",
              "    <path d=\"M18.56 5.44l.94 2.06.94-2.06 2.06-.94-2.06-.94-.94-2.06-.94 2.06-2.06.94zm-11 1L8.5 8.5l.94-2.06 2.06-.94-2.06-.94L8.5 2.5l-.94 2.06-2.06.94zm10 10l.94 2.06.94-2.06 2.06-.94-2.06-.94-.94-2.06-.94 2.06-2.06.94z\"/><path d=\"M17.41 7.96l-1.37-1.37c-.4-.4-.92-.59-1.43-.59-.52 0-1.04.2-1.43.59L10.3 9.45l-7.72 7.72c-.78.78-.78 2.05 0 2.83L4 21.41c.39.39.9.59 1.41.59.51 0 1.02-.2 1.41-.59l7.78-7.78 2.81-2.81c.8-.78.8-2.07 0-2.86zM5.41 20L4 18.59l7.72-7.72 1.47 1.35L5.41 20z\"/>\n",
              "  </svg>\n",
              "      </button>\n",
              "      \n",
              "  <style>\n",
              "    .colab-df-container {\n",
              "      display:flex;\n",
              "      flex-wrap:wrap;\n",
              "      gap: 12px;\n",
              "    }\n",
              "\n",
              "    .colab-df-convert {\n",
              "      background-color: #E8F0FE;\n",
              "      border: none;\n",
              "      border-radius: 50%;\n",
              "      cursor: pointer;\n",
              "      display: none;\n",
              "      fill: #1967D2;\n",
              "      height: 32px;\n",
              "      padding: 0 0 0 0;\n",
              "      width: 32px;\n",
              "    }\n",
              "\n",
              "    .colab-df-convert:hover {\n",
              "      background-color: #E2EBFA;\n",
              "      box-shadow: 0px 1px 2px rgba(60, 64, 67, 0.3), 0px 1px 3px 1px rgba(60, 64, 67, 0.15);\n",
              "      fill: #174EA6;\n",
              "    }\n",
              "\n",
              "    [theme=dark] .colab-df-convert {\n",
              "      background-color: #3B4455;\n",
              "      fill: #D2E3FC;\n",
              "    }\n",
              "\n",
              "    [theme=dark] .colab-df-convert:hover {\n",
              "      background-color: #434B5C;\n",
              "      box-shadow: 0px 1px 3px 1px rgba(0, 0, 0, 0.15);\n",
              "      filter: drop-shadow(0px 1px 2px rgba(0, 0, 0, 0.3));\n",
              "      fill: #FFFFFF;\n",
              "    }\n",
              "  </style>\n",
              "\n",
              "      <script>\n",
              "        const buttonEl =\n",
              "          document.querySelector('#df-48ac491b-c28e-47b5-821c-c8f2302b9149 button.colab-df-convert');\n",
              "        buttonEl.style.display =\n",
              "          google.colab.kernel.accessAllowed ? 'block' : 'none';\n",
              "\n",
              "        async function convertToInteractive(key) {\n",
              "          const element = document.querySelector('#df-48ac491b-c28e-47b5-821c-c8f2302b9149');\n",
              "          const dataTable =\n",
              "            await google.colab.kernel.invokeFunction('convertToInteractive',\n",
              "                                                     [key], {});\n",
              "          if (!dataTable) return;\n",
              "\n",
              "          const docLinkHtml = 'Like what you see? Visit the ' +\n",
              "            '<a target=\"_blank\" href=https://colab.research.google.com/notebooks/data_table.ipynb>data table notebook</a>'\n",
              "            + ' to learn more about interactive tables.';\n",
              "          element.innerHTML = '';\n",
              "          dataTable['output_type'] = 'display_data';\n",
              "          await google.colab.output.renderOutput(dataTable, element);\n",
              "          const docLink = document.createElement('div');\n",
              "          docLink.innerHTML = docLinkHtml;\n",
              "          element.appendChild(docLink);\n",
              "        }\n",
              "      </script>\n",
              "    </div>\n",
              "  </div>\n",
              "  "
            ]
          },
          "metadata": {},
          "execution_count": 32
        }
      ],
      "source": [
        "reading_df['date'] = reading_df['event_time'].apply(lambda x: x.date())\n",
        "reading_df['hour'] = reading_df['event_time'].apply(lambda x: x.hour)\n",
        "reading_df.head()"
      ]
    },
    {
      "cell_type": "markdown",
      "metadata": {
        "id": "AtmNpSbNXrR3"
      },
      "source": [
        "##### **Which day of week do people tend to read more?**"
      ]
    },
    {
      "cell_type": "code",
      "execution_count": 35,
      "metadata": {
        "colab": {
          "base_uri": "https://localhost:8080/",
          "height": 489
        },
        "id": "DZo2aFwGXG6_",
        "outputId": "c5b2f2ec-dc8c-48e6-b512-2ef3eb2af8fe"
      },
      "outputs": [
        {
          "output_type": "display_data",
          "data": {
            "text/plain": [
              "<Figure size 1400x500 with 1 Axes>"
            ],
            "image/png": "[encoded data removed]"
          },
          "metadata": {}
        }
      ],
      "source": [
        "reading_by_day = reading_df.groupby(['date']).agg({\"user_id\": \"count\"}).reset_index().rename(columns={\"user_id\": \"count\"}).sort_values(by=['count'], ascending=False)\n",
        "reading_by_day[\"dow\"] = reading_by_day['date'].apply(lambda x: x.strftime('%A'))\n",
        "reading_by_day = reading_by_day.sort_values(by=['date'], ascending=True)\n",
        "\n",
        "\n",
        "sns.set(rc={'figure.figsize':(14,5)})\n",
        "\n",
        "p = sns.barplot(data=reading_by_day, x='dow', y='count')\n",
        "p.set(xlabel= \"day of week\", ylabel=\"number of accesses\")\n",
        "plt.show()"
      ]
    },
    {
      "cell_type": "markdown",
      "metadata": {
        "id": "6wBjceF6czbW"
      },
      "source": [
        "> **Suprisingly, people tend to read more in the middle of the week rather than\n",
        "on weekends**"
      ]
    },
    {
      "cell_type": "markdown",
      "metadata": {
        "id": "15nzKjWzd7Xv"
      },
      "source": [
        "##### **What time of day do people read?**"
      ]
    },
    {
      "cell_type": "code",
      "execution_count": 36,
      "metadata": {
        "id": "w5aveVHrcGZW",
        "colab": {
          "base_uri": "https://localhost:8080/",
          "height": 542
        },
        "outputId": "45642017-59fc-4a29-b570-95ae0332b89d"
      },
      "outputs": [
        {
          "output_type": "display_data",
          "data": {
            "text/html": [
              "<html>\n",
              "<head><meta charset=\"utf-8\" /></head>\n",
              "<body>\n",
              "    <div>            <script src=\"https://cdnjs.cloudflare.com/ajax/libs/mathjax/2.7.5/MathJax.js?config=TeX-AMS-MML_SVG\"></script><script type=\"text/javascript\">if (window.MathJax && window.MathJax.Hub && window.MathJax.Hub.Config) {window.MathJax.Hub.Config({SVG: {font: \"STIX-Web\"}});}</script>                <script type=\"text/javascript\">window.PlotlyConfig = {MathJaxConfig: 'local'};</script>\n",
              "        <script src=\"https://cdn.plot.ly/plotly-2.18.2.min.js\"></script>                <div id=\"ab2d5d5b-2af6-4262-8e42-af1f70238121\" class=\"plotly-graph-div\" style=\"height:525px; width:100%;\"></div>            <script type=\"text/javascript\">                                    window.PLOTLYENV=window.PLOTLYENV || {};                                    if (document.getElementById(\"ab2d5d5b-2af6-4262-8e42-af1f70238121\")) {                    Plotly.newPlot(                        \"ab2d5d5b-2af6-4262-8e42-af1f70238121\",                        [{\"hovertemplate\":\"hour=%{x}<br>count=%{y}<extra></extra>\",\"legendgroup\":\"\",\"line\":{\"color\":\"#636efa\",\"dash\":\"solid\"},\"marker\":{\"symbol\":\"circle\"},\"mode\":\"lines\",\"name\":\"\",\"orientation\":\"v\",\"showlegend\":false,\"x\":[0,1,2,3,4,5,6,7,8,9,10,11,12,13,14,15,16,17,18,19,20,21,22,23],\"xaxis\":\"x\",\"y\":[48082,26994,19777,20615,33102,61655,111043,301410,445551,441666,444276,286322,197748,346025,509093,500499,413607,238962,220415,290741,373450,318587,205565,101568],\"yaxis\":\"y\",\"type\":\"scatter\"}],                        {\"template\":{\"data\":{\"histogram2dcontour\":[{\"type\":\"histogram2dcontour\",\"colorbar\":{\"outlinewidth\":0,\"ticks\":\"\"},\"colorscale\":[[0.0,\"#0d0887\"],[0.1111111111111111,\"#46039f\"],[0.2222222222222222,\"#7201a8\"],[0.3333333333333333,\"#9c179e\"],[0.4444444444444444,\"#bd3786\"],[0.5555555555555556,\"#d8576b\"],[0.6666666666666666,\"#ed7953\"],[0.7777777777777778,\"#fb9f3a\"],[0.8888888888888888,\"#fdca26\"],[1.0,\"#f0f921\"]]}],\"choropleth\":[{\"type\":\"choropleth\",\"colorbar\":{\"outlinewidth\":0,\"ticks\":\"\"}}],\"histogram2d\":[{\"type\":\"histogram2d\",\"colorbar\":{\"outlinewidth\":0,\"ticks\":\"\"},\"colorscale\":[[0.0,\"#0d0887\"],[0.1111111111111111,\"#46039f\"],[0.2222222222222222,\"#7201a8\"],[0.3333333333333333,\"#9c179e\"],[0.4444444444444444,\"#bd3786\"],[0.5555555555555556,\"#d8576b\"],[0.6666666666666666,\"#ed7953\"],[0.7777777777777778,\"#fb9f3a\"],[0.8888888888888888,\"#fdca26\"],[1.0,\"#f0f921\"]]}],\"heatmap\":[{\"type\":\"heatmap\",\"colorbar\":{\"outlinewidth\":0,\"ticks\":\"\"},\"colorscale\":[[0.0,\"#0d0887\"],[0.1111111111111111,\"#46039f\"],[0.2222222222222222,\"#7201a8\"],[0.3333333333333333,\"#9c179e\"],[0.4444444444444444,\"#bd3786\"],[0.5555555555555556,\"#d8576b\"],[0.6666666666666666,\"#ed7953\"],[0.7777777777777778,\"#fb9f3a\"],[0.8888888888888888,\"#fdca26\"],[1.0,\"#f0f921\"]]}],\"heatmapgl\":[{\"type\":\"heatmapgl\",\"colorbar\":{\"outlinewidth\":0,\"ticks\":\"\"},\"colorscale\":[[0.0,\"#0d0887\"],[0.1111111111111111,\"#46039f\"],[0.2222222222222222,\"#7201a8\"],[0.3333333333333333,\"#9c179e\"],[0.4444444444444444,\"#bd3786\"],[0.5555555555555556,\"#d8576b\"],[0.6666666666666666,\"#ed7953\"],[0.7777777777777778,\"#fb9f3a\"],[0.8888888888888888,\"#fdca26\"],[1.0,\"#f0f921\"]]}],\"contourcarpet\":[{\"type\":\"contourcarpet\",\"colorbar\":{\"outlinewidth\":0,\"ticks\":\"\"}}],\"contour\":[{\"type\":\"contour\",\"colorbar\":{\"outlinewidth\":0,\"ticks\":\"\"},\"colorscale\":[[0.0,\"#0d0887\"],[0.1111111111111111,\"#46039f\"],[0.2222222222222222,\"#7201a8\"],[0.3333333333333333,\"#9c179e\"],[0.4444444444444444,\"#bd3786\"],[0.5555555555555556,\"#d8576b\"],[0.6666666666666666,\"#ed7953\"],[0.7777777777777778,\"#fb9f3a\"],[0.8888888888888888,\"#fdca26\"],[1.0,\"#f0f921\"]]}],\"surface\":[{\"type\":\"surface\",\"colorbar\":{\"outlinewidth\":0,\"ticks\":\"\"},\"colorscale\":[[0.0,\"#0d0887\"],[0.1111111111111111,\"#46039f\"],[0.2222222222222222,\"#7201a8\"],[0.3333333333333333,\"#9c179e\"],[0.4444444444444444,\"#bd3786\"],[0.5555555555555556,\"#d8576b\"],[0.6666666666666666,\"#ed7953\"],[0.7777777777777778,\"#fb9f3a\"],[0.8888888888888888,\"#fdca26\"],[1.0,\"#f0f921\"]]}],\"mesh3d\":[{\"type\":\"mesh3d\",\"colorbar\":{\"outlinewidth\":0,\"ticks\":\"\"}}],\"scatter\":[{\"fillpattern\":{\"fillmode\":\"overlay\",\"size\":10,\"solidity\":0.2},\"type\":\"scatter\"}],\"parcoords\":[{\"type\":\"parcoords\",\"line\":{\"colorbar\":{\"outlinewidth\":0,\"ticks\":\"\"}}}],\"scatterpolargl\":[{\"type\":\"scatterpolargl\",\"marker\":{\"colorbar\":{\"outlinewidth\":0,\"ticks\":\"\"}}}],\"bar\":[{\"error_x\":{\"color\":\"#2a3f5f\"},\"error_y\":{\"color\":\"#2a3f5f\"},\"marker\":{\"line\":{\"color\":\"#E5ECF6\",\"width\":0.5},\"pattern\":{\"fillmode\":\"overlay\",\"size\":10,\"solidity\":0.2}},\"type\":\"bar\"}],\"scattergeo\":[{\"type\":\"scattergeo\",\"marker\":{\"colorbar\":{\"outlinewidth\":0,\"ticks\":\"\"}}}],\"scatterpolar\":[{\"type\":\"scatterpolar\",\"marker\":{\"colorbar\":{\"outlinewidth\":0,\"ticks\":\"\"}}}],\"histogram\":[{\"marker\":{\"pattern\":{\"fillmode\":\"overlay\",\"size\":10,\"solidity\":0.2}},\"type\":\"histogram\"}],\"scattergl\":[{\"type\":\"scattergl\",\"marker\":{\"colorbar\":{\"outlinewidth\":0,\"ticks\":\"\"}}}],\"scatter3d\":[{\"type\":\"scatter3d\",\"line\":{\"colorbar\":{\"outlinewidth\":0,\"ticks\":\"\"}},\"marker\":{\"colorbar\":{\"outlinewidth\":0,\"ticks\":\"\"}}}],\"scattermapbox\":[{\"type\":\"scattermapbox\",\"marker\":{\"colorbar\":{\"outlinewidth\":0,\"ticks\":\"\"}}}],\"scatterternary\":[{\"type\":\"scatterternary\",\"marker\":{\"colorbar\":{\"outlinewidth\":0,\"ticks\":\"\"}}}],\"scattercarpet\":[{\"type\":\"scattercarpet\",\"marker\":{\"colorbar\":{\"outlinewidth\":0,\"ticks\":\"\"}}}],\"carpet\":[{\"aaxis\":{\"endlinecolor\":\"#2a3f5f\",\"gridcolor\":\"white\",\"linecolor\":\"white\",\"minorgridcolor\":\"white\",\"startlinecolor\":\"#2a3f5f\"},\"baxis\":{\"endlinecolor\":\"#2a3f5f\",\"gridcolor\":\"white\",\"linecolor\":\"white\",\"minorgridcolor\":\"white\",\"startlinecolor\":\"#2a3f5f\"},\"type\":\"carpet\"}],\"table\":[{\"cells\":{\"fill\":{\"color\":\"#EBF0F8\"},\"line\":{\"color\":\"white\"}},\"header\":{\"fill\":{\"color\":\"#C8D4E3\"},\"line\":{\"color\":\"white\"}},\"type\":\"table\"}],\"barpolar\":[{\"marker\":{\"line\":{\"color\":\"#E5ECF6\",\"width\":0.5},\"pattern\":{\"fillmode\":\"overlay\",\"size\":10,\"solidity\":0.2}},\"type\":\"barpolar\"}],\"pie\":[{\"automargin\":true,\"type\":\"pie\"}]},\"layout\":{\"autotypenumbers\":\"strict\",\"colorway\":[\"#636efa\",\"#EF553B\",\"#00cc96\",\"#ab63fa\",\"#FFA15A\",\"#19d3f3\",\"#FF6692\",\"#B6E880\",\"#FF97FF\",\"#FECB52\"],\"font\":{\"color\":\"#2a3f5f\"},\"hovermode\":\"closest\",\"hoverlabel\":{\"align\":\"left\"},\"paper_bgcolor\":\"white\",\"plot_bgcolor\":\"#E5ECF6\",\"polar\":{\"bgcolor\":\"#E5ECF6\",\"angularaxis\":{\"gridcolor\":\"white\",\"linecolor\":\"white\",\"ticks\":\"\"},\"radialaxis\":{\"gridcolor\":\"white\",\"linecolor\":\"white\",\"ticks\":\"\"}},\"ternary\":{\"bgcolor\":\"#E5ECF6\",\"aaxis\":{\"gridcolor\":\"white\",\"linecolor\":\"white\",\"ticks\":\"\"},\"baxis\":{\"gridcolor\":\"white\",\"linecolor\":\"white\",\"ticks\":\"\"},\"caxis\":{\"gridcolor\":\"white\",\"linecolor\":\"white\",\"ticks\":\"\"}},\"coloraxis\":{\"colorbar\":{\"outlinewidth\":0,\"ticks\":\"\"}},\"colorscale\":{\"sequential\":[[0.0,\"#0d0887\"],[0.1111111111111111,\"#46039f\"],[0.2222222222222222,\"#7201a8\"],[0.3333333333333333,\"#9c179e\"],[0.4444444444444444,\"#bd3786\"],[0.5555555555555556,\"#d8576b\"],[0.6666666666666666,\"#ed7953\"],[0.7777777777777778,\"#fb9f3a\"],[0.8888888888888888,\"#fdca26\"],[1.0,\"#f0f921\"]],\"sequentialminus\":[[0.0,\"#0d0887\"],[0.1111111111111111,\"#46039f\"],[0.2222222222222222,\"#7201a8\"],[0.3333333333333333,\"#9c179e\"],[0.4444444444444444,\"#bd3786\"],[0.5555555555555556,\"#d8576b\"],[0.6666666666666666,\"#ed7953\"],[0.7777777777777778,\"#fb9f3a\"],[0.8888888888888888,\"#fdca26\"],[1.0,\"#f0f921\"]],\"diverging\":[[0,\"#8e0152\"],[0.1,\"#c51b7d\"],[0.2,\"#de77ae\"],[0.3,\"#f1b6da\"],[0.4,\"#fde0ef\"],[0.5,\"#f7f7f7\"],[0.6,\"#e6f5d0\"],[0.7,\"#b8e186\"],[0.8,\"#7fbc41\"],[0.9,\"#4d9221\"],[1,\"#276419\"]]},\"xaxis\":{\"gridcolor\":\"white\",\"linecolor\":\"white\",\"ticks\":\"\",\"title\":{\"standoff\":15},\"zerolinecolor\":\"white\",\"automargin\":true,\"zerolinewidth\":2},\"yaxis\":{\"gridcolor\":\"white\",\"linecolor\":\"white\",\"ticks\":\"\",\"title\":{\"standoff\":15},\"zerolinecolor\":\"white\",\"automargin\":true,\"zerolinewidth\":2},\"scene\":{\"xaxis\":{\"backgroundcolor\":\"#E5ECF6\",\"gridcolor\":\"white\",\"linecolor\":\"white\",\"showbackground\":true,\"ticks\":\"\",\"zerolinecolor\":\"white\",\"gridwidth\":2},\"yaxis\":{\"backgroundcolor\":\"#E5ECF6\",\"gridcolor\":\"white\",\"linecolor\":\"white\",\"showbackground\":true,\"ticks\":\"\",\"zerolinecolor\":\"white\",\"gridwidth\":2},\"zaxis\":{\"backgroundcolor\":\"#E5ECF6\",\"gridcolor\":\"white\",\"linecolor\":\"white\",\"showbackground\":true,\"ticks\":\"\",\"zerolinecolor\":\"white\",\"gridwidth\":2}},\"shapedefaults\":{\"line\":{\"color\":\"#2a3f5f\"}},\"annotationdefaults\":{\"arrowcolor\":\"#2a3f5f\",\"arrowhead\":0,\"arrowwidth\":1},\"geo\":{\"bgcolor\":\"white\",\"landcolor\":\"#E5ECF6\",\"subunitcolor\":\"white\",\"showland\":true,\"showlakes\":true,\"lakecolor\":\"white\"},\"title\":{\"x\":0.05},\"mapbox\":{\"style\":\"light\"}}},\"xaxis\":{\"anchor\":\"y\",\"domain\":[0.0,1.0],\"title\":{\"text\":\"hour\"}},\"yaxis\":{\"anchor\":\"x\",\"domain\":[0.0,1.0],\"title\":{\"text\":\"count\"}},\"legend\":{\"tracegroupgap\":0},\"margin\":{\"t\":60}},                        {\"responsive\": true}                    ).then(function(){\n",
              "                            \n",
              "var gd = document.getElementById('ab2d5d5b-2af6-4262-8e42-af1f70238121');\n",
              "var x = new MutationObserver(function (mutations, observer) {{\n",
              "        var display = window.getComputedStyle(gd).display;\n",
              "        if (!display || display === 'none') {{\n",
              "            console.log([gd, 'removed!']);\n",
              "            Plotly.purge(gd);\n",
              "            observer.disconnect();\n",
              "        }}\n",
              "}});\n",
              "\n",
              "// Listen for the removal of the full notebook cells\n",
              "var notebookContainer = gd.closest('#notebook-container');\n",
              "if (notebookContainer) {{\n",
              "    x.observe(notebookContainer, {childList: true});\n",
              "}}\n",
              "\n",
              "// Listen for the clearing of the current output cell\n",
              "var outputEl = gd.closest('.output');\n",
              "if (outputEl) {{\n",
              "    x.observe(outputEl, {childList: true});\n",
              "}}\n",
              "\n",
              "                        })                };                            </script>        </div>\n",
              "</body>\n",
              "</html>"
            ]
          },
          "metadata": {}
        }
      ],
      "source": [
        "reading_by_hour = reading_df.groupby(['hour']).agg({\"user_id\": \"count\"}).reset_index().rename(columns={\"user_id\": \"count\"}).sort_values(by=['count'], ascending=False)\n",
        "reading_by_hour = reading_by_hour.sort_values(by=['hour'], ascending=True)\n",
        "fig = px.line(reading_by_hour, x = 'hour', y = 'count')\n",
        "fig.show()"
      ]
    },
    {
      "cell_type": "markdown",
      "metadata": {
        "id": "kJVN_1Kre4y7"
      },
      "source": [
        "> **There are 3 peaks: 8-9 o'clock, 14 o'clock and 20 o'clock that people tend to read more. The highest peak is at 14 o'clock**"
      ]
    },
    {
      "cell_type": "markdown",
      "metadata": {
        "id": "Aen7i8jHfpeH"
      },
      "source": [
        "##### **What kind of article do people read most?**"
      ]
    },
    {
      "cell_type": "code",
      "execution_count": 37,
      "metadata": {
        "colab": {
          "base_uri": "https://localhost:8080/",
          "height": 206
        },
        "id": "-PAr9n4jerKe",
        "outputId": "1a0f0ffe-77d5-40f6-ba33-a57196621603"
      },
      "outputs": [
        {
          "output_type": "execute_result",
          "data": {
            "text/plain": [
              "                user_id            article_id          event_time        date  \\\n",
              "0  13214459406561935989  14810025847983156880 2022-04-06 00:00:00  2022-04-06   \n",
              "1   8891622829200356835  14810025847983156880 2022-04-06 00:06:28  2022-04-06   \n",
              "2  17054397274494357227  14810025847983156880 2022-04-06 00:12:40  2022-04-06   \n",
              "3   1620967089251743258  14810025847983156880 2022-04-06 00:16:15  2022-04-06   \n",
              "4   2040936581226042914  14810025847983156880 2022-04-06 00:24:21  2022-04-06   \n",
              "\n",
              "   hour      published_time                                   title  \\\n",
              "0     0 2022-04-04 17:02:27  Mỹ nêu khả năng dỡ lệnh trừng phạt Nga   \n",
              "1     0 2022-04-04 17:02:27  Mỹ nêu khả năng dỡ lệnh trừng phạt Nga   \n",
              "2     0 2022-04-04 17:02:27  Mỹ nêu khả năng dỡ lệnh trừng phạt Nga   \n",
              "3     0 2022-04-04 17:02:27  Mỹ nêu khả năng dỡ lệnh trừng phạt Nga   \n",
              "4     0 2022-04-04 17:02:27  Mỹ nêu khả năng dỡ lệnh trừng phạt Nga   \n",
              "\n",
              "          domain      category  \n",
              "0  vnexpress.net  Tin thế giới  \n",
              "1  vnexpress.net  Tin thế giới  \n",
              "2  vnexpress.net  Tin thế giới  \n",
              "3  vnexpress.net  Tin thế giới  \n",
              "4  vnexpress.net  Tin thế giới  "
            ],
            "text/html": [
              "\n",
              "  <div id=\"df-a6f21f1e-4dde-48ec-b400-47c519826d75\">\n",
              "    <div class=\"colab-df-container\">\n",
              "      <div>\n",
              "<style scoped>\n",
              "    .dataframe tbody tr th:only-of-type {\n",
              "        vertical-align: middle;\n",
              "    }\n",
              "\n",
              "    .dataframe tbody tr th {\n",
              "        vertical-align: top;\n",
              "    }\n",
              "\n",
              "    .dataframe thead th {\n",
              "        text-align: right;\n",
              "    }\n",
              "</style>\n",
              "<table border=\"1\" class=\"dataframe\">\n",
              "  <thead>\n",
              "    <tr style=\"text-align: right;\">\n",
              "      <th></th>\n",
              "      <th>user_id</th>\n",
              "      <th>article_id</th>\n",
              "      <th>event_time</th>\n",
              "      <th>date</th>\n",
              "      <th>hour</th>\n",
              "      <th>published_time</th>\n",
              "      <th>title</th>\n",
              "      <th>domain</th>\n",
              "      <th>category</th>\n",
              "    </tr>\n",
              "  </thead>\n",
              "  <tbody>\n",
              "    <tr>\n",
              "      <th>0</th>\n",
              "      <td>13214459406561935989</td>\n",
              "      <td>14810025847983156880</td>\n",
              "      <td>2022-04-06 00:00:00</td>\n",
              "      <td>2022-04-06</td>\n",
              "      <td>0</td>\n",
              "      <td>2022-04-04 17:02:27</td>\n",
              "      <td>Mỹ nêu khả năng dỡ lệnh trừng phạt Nga</td>\n",
              "      <td>vnexpress.net</td>\n",
              "      <td>Tin thế giới</td>\n",
              "    </tr>\n",
              "    <tr>\n",
              "      <th>1</th>\n",
              "      <td>8891622829200356835</td>\n",
              "      <td>14810025847983156880</td>\n",
              "      <td>2022-04-06 00:06:28</td>\n",
              "      <td>2022-04-06</td>\n",
              "      <td>0</td>\n",
              "      <td>2022-04-04 17:02:27</td>\n",
              "      <td>Mỹ nêu khả năng dỡ lệnh trừng phạt Nga</td>\n",
              "      <td>vnexpress.net</td>\n",
              "      <td>Tin thế giới</td>\n",
              "    </tr>\n",
              "    <tr>\n",
              "      <th>2</th>\n",
              "      <td>17054397274494357227</td>\n",
              "      <td>14810025847983156880</td>\n",
              "      <td>2022-04-06 00:12:40</td>\n",
              "      <td>2022-04-06</td>\n",
              "      <td>0</td>\n",
              "      <td>2022-04-04 17:02:27</td>\n",
              "      <td>Mỹ nêu khả năng dỡ lệnh trừng phạt Nga</td>\n",
              "      <td>vnexpress.net</td>\n",
              "      <td>Tin thế giới</td>\n",
              "    </tr>\n",
              "    <tr>\n",
              "      <th>3</th>\n",
              "      <td>1620967089251743258</td>\n",
              "      <td>14810025847983156880</td>\n",
              "      <td>2022-04-06 00:16:15</td>\n",
              "      <td>2022-04-06</td>\n",
              "      <td>0</td>\n",
              "      <td>2022-04-04 17:02:27</td>\n",
              "      <td>Mỹ nêu khả năng dỡ lệnh trừng phạt Nga</td>\n",
              "      <td>vnexpress.net</td>\n",
              "      <td>Tin thế giới</td>\n",
              "    </tr>\n",
              "    <tr>\n",
              "      <th>4</th>\n",
              "      <td>2040936581226042914</td>\n",
              "      <td>14810025847983156880</td>\n",
              "      <td>2022-04-06 00:24:21</td>\n",
              "      <td>2022-04-06</td>\n",
              "      <td>0</td>\n",
              "      <td>2022-04-04 17:02:27</td>\n",
              "      <td>Mỹ nêu khả năng dỡ lệnh trừng phạt Nga</td>\n",
              "      <td>vnexpress.net</td>\n",
              "      <td>Tin thế giới</td>\n",
              "    </tr>\n",
              "  </tbody>\n",
              "</table>\n",
              "</div>\n",
              "      <button class=\"colab-df-convert\" onclick=\"convertToInteractive('df-a6f21f1e-4dde-48ec-b400-47c519826d75')\"\n",
              "              title=\"Convert this dataframe to an interactive table.\"\n",
              "              style=\"display:none;\">\n",
              "        \n",
              "  <svg xmlns=\"http://www.w3.org/2000/svg\" height=\"24px\"viewBox=\"0 0 24 24\"\n",
              "       width=\"24px\">\n",
              "    <path d=\"M0 0h24v24H0V0z\" fill=\"none\"/>\n",
              "    <path d=\"M18.56 5.44l.94 2.06.94-2.06 2.06-.94-2.06-.94-.94-2.06-.94 2.06-2.06.94zm-11 1L8.5 8.5l.94-2.06 2.06-.94-2.06-.94L8.5 2.5l-.94 2.06-2.06.94zm10 10l.94 2.06.94-2.06 2.06-.94-2.06-.94-.94-2.06-.94 2.06-2.06.94z\"/><path d=\"M17.41 7.96l-1.37-1.37c-.4-.4-.92-.59-1.43-.59-.52 0-1.04.2-1.43.59L10.3 9.45l-7.72 7.72c-.78.78-.78 2.05 0 2.83L4 21.41c.39.39.9.59 1.41.59.51 0 1.02-.2 1.41-.59l7.78-7.78 2.81-2.81c.8-.78.8-2.07 0-2.86zM5.41 20L4 18.59l7.72-7.72 1.47 1.35L5.41 20z\"/>\n",
              "  </svg>\n",
              "      </button>\n",
              "      \n",
              "  <style>\n",
              "    .colab-df-container {\n",
              "      display:flex;\n",
              "      flex-wrap:wrap;\n",
              "      gap: 12px;\n",
              "    }\n",
              "\n",
              "    .colab-df-convert {\n",
              "      background-color: #E8F0FE;\n",
              "      border: none;\n",
              "      border-radius: 50%;\n",
              "      cursor: pointer;\n",
              "      display: none;\n",
              "      fill: #1967D2;\n",
              "      height: 32px;\n",
              "      padding: 0 0 0 0;\n",
              "      width: 32px;\n",
              "    }\n",
              "\n",
              "    .colab-df-convert:hover {\n",
              "      background-color: #E2EBFA;\n",
              "      box-shadow: 0px 1px 2px rgba(60, 64, 67, 0.3), 0px 1px 3px 1px rgba(60, 64, 67, 0.15);\n",
              "      fill: #174EA6;\n",
              "    }\n",
              "\n",
              "    [theme=dark] .colab-df-convert {\n",
              "      background-color: #3B4455;\n",
              "      fill: #D2E3FC;\n",
              "    }\n",
              "\n",
              "    [theme=dark] .colab-df-convert:hover {\n",
              "      background-color: #434B5C;\n",
              "      box-shadow: 0px 1px 3px 1px rgba(0, 0, 0, 0.15);\n",
              "      filter: drop-shadow(0px 1px 2px rgba(0, 0, 0, 0.3));\n",
              "      fill: #FFFFFF;\n",
              "    }\n",
              "  </style>\n",
              "\n",
              "      <script>\n",
              "        const buttonEl =\n",
              "          document.querySelector('#df-a6f21f1e-4dde-48ec-b400-47c519826d75 button.colab-df-convert');\n",
              "        buttonEl.style.display =\n",
              "          google.colab.kernel.accessAllowed ? 'block' : 'none';\n",
              "\n",
              "        async function convertToInteractive(key) {\n",
              "          const element = document.querySelector('#df-a6f21f1e-4dde-48ec-b400-47c519826d75');\n",
              "          const dataTable =\n",
              "            await google.colab.kernel.invokeFunction('convertToInteractive',\n",
              "                                                     [key], {});\n",
              "          if (!dataTable) return;\n",
              "\n",
              "          const docLinkHtml = 'Like what you see? Visit the ' +\n",
              "            '<a target=\"_blank\" href=https://colab.research.google.com/notebooks/data_table.ipynb>data table notebook</a>'\n",
              "            + ' to learn more about interactive tables.';\n",
              "          element.innerHTML = '';\n",
              "          dataTable['output_type'] = 'display_data';\n",
              "          await google.colab.output.renderOutput(dataTable, element);\n",
              "          const docLink = document.createElement('div');\n",
              "          docLink.innerHTML = docLinkHtml;\n",
              "          element.appendChild(docLink);\n",
              "        }\n",
              "      </script>\n",
              "    </div>\n",
              "  </div>\n",
              "  "
            ]
          },
          "metadata": {},
          "execution_count": 37
        }
      ],
      "source": [
        "merged_table = reading_df.merge(articles_df, how = 'inner', on = 'article_id')\n",
        "merged_table.head()"
      ]
    },
    {
      "cell_type": "code",
      "execution_count": 39,
      "metadata": {
        "id": "iUqrcdBSgtDG",
        "colab": {
          "base_uri": "https://localhost:8080/",
          "height": 1000
        },
        "outputId": "fbfc2983-3e30-40ef-86d2-4445f9b15024"
      },
      "outputs": [
        {
          "output_type": "display_data",
          "data": {
            "text/plain": [
              "<Figure size 1300x600 with 1 Axes>"
            ],
            "image/png": "[encoded data removed]"
          },
          "metadata": {}
        },
        {
          "output_type": "display_data",
          "data": {
            "text/plain": [
              "<Figure size 1300x600 with 1 Axes>"
            ],
            "image/png": "[encoded data removed]"
          },
          "metadata": {}
        }
      ],
      "source": [
        "merged_table_cat = merged_table.groupby(['category']).agg({\"article_id\":\"count\"}).reset_index().rename(columns={\"article_id\": \"count\"}).sort_values(by=['count'], ascending=False)\n",
        "sns.set(rc={'figure.figsize':(13,6)})\n",
        "\n",
        "p = sns.barplot(data=merged_table_cat[:10], x='category', y='count')\n",
        "p.set(xlabel= \"category\", ylabel=\"number of accessed\")\n",
        "plt.show()\n",
        "\n",
        "sns.set(rc={'figure.figsize':(13,6)})\n",
        "\n",
        "p = sns.barplot(data=cat_group[:10], x='category', y='count')\n",
        "p.set(xlabel= \"category\", ylabel=\"number of publications\")\n",
        "plt.show()"
      ]
    },
    {
      "cell_type": "markdown",
      "metadata": {
        "id": "_VXnl2cAig-p"
      },
      "source": [
        "> **Look again and compare between the number of published articles on each category and what people read most. Though in a group which has lowest number of publications, people read a lot about `Tin The Gioi`**"
      ]
    },
    {
      "cell_type": "markdown",
      "metadata": {
        "id": "BKpsj-Qs1LDh"
      },
      "source": [
        "##### **Is there a difference between type of articles read by men and women**?"
      ]
    },
    {
      "cell_type": "code",
      "execution_count": 40,
      "metadata": {
        "id": "dRBYqa9e1jaR",
        "colab": {
          "base_uri": "https://localhost:8080/",
          "height": 337
        },
        "outputId": "32dbddc2-0f4e-4a7e-a6dd-8a58a4aff5e8"
      },
      "outputs": [
        {
          "output_type": "execute_result",
          "data": {
            "text/plain": [
              "                user_id            article_id          event_time        date  \\\n",
              "0  13214459406561935989  14810025847983156880 2022-04-06 00:00:00  2022-04-06   \n",
              "1  13214459406561935989  14912106567195011657 2022-04-06 08:14:45  2022-04-06   \n",
              "2  13214459406561935989   7814199118118063622 2022-04-06 14:40:41  2022-04-06   \n",
              "3  13214459406561935989   6014131710396465072 2022-04-06 23:16:16  2022-04-06   \n",
              "4  13214459406561935989   3321864857941615107 2022-04-06 15:01:46  2022-04-06   \n",
              "\n",
              "   hour      published_time  \\\n",
              "0     0 2022-04-04 17:02:27   \n",
              "1     8 2022-04-05 20:02:32   \n",
              "2    14 2022-04-04 13:15:44   \n",
              "3    23 2022-04-05 07:10:45   \n",
              "4    15 2022-04-04 14:41:45   \n",
              "\n",
              "                                               title                 domain  \\\n",
              "0             Mỹ nêu khả năng dỡ lệnh trừng phạt Nga          vnexpress.net   \n",
              "1                       Việt Nam lần đầu có 7 tỷ phú            zingnews.vn   \n",
              "2  Người đàn ông bắt được 'khủng long sống' khổng...  infonet.vietnamnet.vn   \n",
              "3  Quyết định mới của Tổng thống Putin đối với \"c...         baophapluat.vn   \n",
              "4     Cô gái Việt kể lần đi ăn 'tiệc kín' ở Nhật Bản            zingnews.vn   \n",
              "\n",
              "       category gender    age  os_name  \n",
              "0  Tin thế giới   Male  55-64  windows  \n",
              "1       Kinh tế   Male  55-64  windows  \n",
              "2      Khoa học   Male  55-64  windows  \n",
              "3  Tin thế giới   Male  55-64  windows  \n",
              "4      Đời sống   Male  55-64  windows  "
            ],
            "text/html": [
              "\n",
              "  <div id=\"df-b7fc9abc-1e8c-4343-a934-d6d5669f47be\">\n",
              "    <div class=\"colab-df-container\">\n",
              "      <div>\n",
              "<style scoped>\n",
              "    .dataframe tbody tr th:only-of-type {\n",
              "        vertical-align: middle;\n",
              "    }\n",
              "\n",
              "    .dataframe tbody tr th {\n",
              "        vertical-align: top;\n",
              "    }\n",
              "\n",
              "    .dataframe thead th {\n",
              "        text-align: right;\n",
              "    }\n",
              "</style>\n",
              "<table border=\"1\" class=\"dataframe\">\n",
              "  <thead>\n",
              "    <tr style=\"text-align: right;\">\n",
              "      <th></th>\n",
              "      <th>user_id</th>\n",
              "      <th>article_id</th>\n",
              "      <th>event_time</th>\n",
              "      <th>date</th>\n",
              "      <th>hour</th>\n",
              "      <th>published_time</th>\n",
              "      <th>title</th>\n",
              "      <th>domain</th>\n",
              "      <th>category</th>\n",
              "      <th>gender</th>\n",
              "      <th>age</th>\n",
              "      <th>os_name</th>\n",
              "    </tr>\n",
              "  </thead>\n",
              "  <tbody>\n",
              "    <tr>\n",
              "      <th>0</th>\n",
              "      <td>13214459406561935989</td>\n",
              "      <td>14810025847983156880</td>\n",
              "      <td>2022-04-06 00:00:00</td>\n",
              "      <td>2022-04-06</td>\n",
              "      <td>0</td>\n",
              "      <td>2022-04-04 17:02:27</td>\n",
              "      <td>Mỹ nêu khả năng dỡ lệnh trừng phạt Nga</td>\n",
              "      <td>vnexpress.net</td>\n",
              "      <td>Tin thế giới</td>\n",
              "      <td>Male</td>\n",
              "      <td>55-64</td>\n",
              "      <td>windows</td>\n",
              "    </tr>\n",
              "    <tr>\n",
              "      <th>1</th>\n",
              "      <td>13214459406561935989</td>\n",
              "      <td>14912106567195011657</td>\n",
              "      <td>2022-04-06 08:14:45</td>\n",
              "      <td>2022-04-06</td>\n",
              "      <td>8</td>\n",
              "      <td>2022-04-05 20:02:32</td>\n",
              "      <td>Việt Nam lần đầu có 7 tỷ phú</td>\n",
              "      <td>zingnews.vn</td>\n",
              "      <td>Kinh tế</td>\n",
              "      <td>Male</td>\n",
              "      <td>55-64</td>\n",
              "      <td>windows</td>\n",
              "    </tr>\n",
              "    <tr>\n",
              "      <th>2</th>\n",
              "      <td>13214459406561935989</td>\n",
              "      <td>7814199118118063622</td>\n",
              "      <td>2022-04-06 14:40:41</td>\n",
              "      <td>2022-04-06</td>\n",
              "      <td>14</td>\n",
              "      <td>2022-04-04 13:15:44</td>\n",
              "      <td>Người đàn ông bắt được 'khủng long sống' khổng...</td>\n",
              "      <td>infonet.vietnamnet.vn</td>\n",
              "      <td>Khoa học</td>\n",
              "      <td>Male</td>\n",
              "      <td>55-64</td>\n",
              "      <td>windows</td>\n",
              "    </tr>\n",
              "    <tr>\n",
              "      <th>3</th>\n",
              "      <td>13214459406561935989</td>\n",
              "      <td>6014131710396465072</td>\n",
              "      <td>2022-04-06 23:16:16</td>\n",
              "      <td>2022-04-06</td>\n",
              "      <td>23</td>\n",
              "      <td>2022-04-05 07:10:45</td>\n",
              "      <td>Quyết định mới của Tổng thống Putin đối với \"c...</td>\n",
              "      <td>baophapluat.vn</td>\n",
              "      <td>Tin thế giới</td>\n",
              "      <td>Male</td>\n",
              "      <td>55-64</td>\n",
              "      <td>windows</td>\n",
              "    </tr>\n",
              "    <tr>\n",
              "      <th>4</th>\n",
              "      <td>13214459406561935989</td>\n",
              "      <td>3321864857941615107</td>\n",
              "      <td>2022-04-06 15:01:46</td>\n",
              "      <td>2022-04-06</td>\n",
              "      <td>15</td>\n",
              "      <td>2022-04-04 14:41:45</td>\n",
              "      <td>Cô gái Việt kể lần đi ăn 'tiệc kín' ở Nhật Bản</td>\n",
              "      <td>zingnews.vn</td>\n",
              "      <td>Đời sống</td>\n",
              "      <td>Male</td>\n",
              "      <td>55-64</td>\n",
              "      <td>windows</td>\n",
              "    </tr>\n",
              "  </tbody>\n",
              "</table>\n",
              "</div>\n",
              "      <button class=\"colab-df-convert\" onclick=\"convertToInteractive('df-b7fc9abc-1e8c-4343-a934-d6d5669f47be')\"\n",
              "              title=\"Convert this dataframe to an interactive table.\"\n",
              "              style=\"display:none;\">\n",
              "        \n",
              "  <svg xmlns=\"http://www.w3.org/2000/svg\" height=\"24px\"viewBox=\"0 0 24 24\"\n",
              "       width=\"24px\">\n",
              "    <path d=\"M0 0h24v24H0V0z\" fill=\"none\"/>\n",
              "    <path d=\"M18.56 5.44l.94 2.06.94-2.06 2.06-.94-2.06-.94-.94-2.06-.94 2.06-2.06.94zm-11 1L8.5 8.5l.94-2.06 2.06-.94-2.06-.94L8.5 2.5l-.94 2.06-2.06.94zm10 10l.94 2.06.94-2.06 2.06-.94-2.06-.94-.94-2.06-.94 2.06-2.06.94z\"/><path d=\"M17.41 7.96l-1.37-1.37c-.4-.4-.92-.59-1.43-.59-.52 0-1.04.2-1.43.59L10.3 9.45l-7.72 7.72c-.78.78-.78 2.05 0 2.83L4 21.41c.39.39.9.59 1.41.59.51 0 1.02-.2 1.41-.59l7.78-7.78 2.81-2.81c.8-.78.8-2.07 0-2.86zM5.41 20L4 18.59l7.72-7.72 1.47 1.35L5.41 20z\"/>\n",
              "  </svg>\n",
              "      </button>\n",
              "      \n",
              "  <style>\n",
              "    .colab-df-container {\n",
              "      display:flex;\n",
              "      flex-wrap:wrap;\n",
              "      gap: 12px;\n",
              "    }\n",
              "\n",
              "    .colab-df-convert {\n",
              "      background-color: #E8F0FE;\n",
              "      border: none;\n",
              "      border-radius: 50%;\n",
              "      cursor: pointer;\n",
              "      display: none;\n",
              "      fill: #1967D2;\n",
              "      height: 32px;\n",
              "      padding: 0 0 0 0;\n",
              "      width: 32px;\n",
              "    }\n",
              "\n",
              "    .colab-df-convert:hover {\n",
              "      background-color: #E2EBFA;\n",
              "      box-shadow: 0px 1px 2px rgba(60, 64, 67, 0.3), 0px 1px 3px 1px rgba(60, 64, 67, 0.15);\n",
              "      fill: #174EA6;\n",
              "    }\n",
              "\n",
              "    [theme=dark] .colab-df-convert {\n",
              "      background-color: #3B4455;\n",
              "      fill: #D2E3FC;\n",
              "    }\n",
              "\n",
              "    [theme=dark] .colab-df-convert:hover {\n",
              "      background-color: #434B5C;\n",
              "      box-shadow: 0px 1px 3px 1px rgba(0, 0, 0, 0.15);\n",
              "      filter: drop-shadow(0px 1px 2px rgba(0, 0, 0, 0.3));\n",
              "      fill: #FFFFFF;\n",
              "    }\n",
              "  </style>\n",
              "\n",
              "      <script>\n",
              "        const buttonEl =\n",
              "          document.querySelector('#df-b7fc9abc-1e8c-4343-a934-d6d5669f47be button.colab-df-convert');\n",
              "        buttonEl.style.display =\n",
              "          google.colab.kernel.accessAllowed ? 'block' : 'none';\n",
              "\n",
              "        async function convertToInteractive(key) {\n",
              "          const element = document.querySelector('#df-b7fc9abc-1e8c-4343-a934-d6d5669f47be');\n",
              "          const dataTable =\n",
              "            await google.colab.kernel.invokeFunction('convertToInteractive',\n",
              "                                                     [key], {});\n",
              "          if (!dataTable) return;\n",
              "\n",
              "          const docLinkHtml = 'Like what you see? Visit the ' +\n",
              "            '<a target=\"_blank\" href=https://colab.research.google.com/notebooks/data_table.ipynb>data table notebook</a>'\n",
              "            + ' to learn more about interactive tables.';\n",
              "          element.innerHTML = '';\n",
              "          dataTable['output_type'] = 'display_data';\n",
              "          await google.colab.output.renderOutput(dataTable, element);\n",
              "          const docLink = document.createElement('div');\n",
              "          docLink.innerHTML = docLinkHtml;\n",
              "          element.appendChild(docLink);\n",
              "        }\n",
              "      </script>\n",
              "    </div>\n",
              "  </div>\n",
              "  "
            ]
          },
          "metadata": {},
          "execution_count": 40
        }
      ],
      "source": [
        "gender_merged_table = reading_df.merge(articles_df, how = 'inner', on = 'article_id').merge(users_df, how=\"inner\", on = \"user_id\")\n",
        "gender_merged_table.head()"
      ]
    },
    {
      "cell_type": "code",
      "execution_count": 41,
      "metadata": {
        "id": "I_7Zxt2N2qcR",
        "colab": {
          "base_uri": "https://localhost:8080/",
          "height": 437
        },
        "outputId": "bc626a34-661b-4051-fd9d-0856ccfc4a22"
      },
      "outputs": [
        {
          "output_type": "display_data",
          "data": {
            "text/plain": [
              "<Figure size 2500x700 with 1 Axes>"
            ],
            "image/png": "[encoded data removed]"
          },
          "metadata": {}
        }
      ],
      "source": [
        "gender_reading_df = gender_merged_table.groupby(['gender','category']).agg({\"article_id\":\"count\"}).reset_index().rename(columns={\"article_id\": \"count\"}).sort_values(by=['count'], ascending=False)\n",
        "\n",
        "g = sns.catplot(\n",
        "    data=gender_reading_df, kind=\"bar\",\n",
        "    x=\"category\", y=\"count\", hue=\"gender\",\n",
        "    errorbar=\"sd\", palette=\"dark\", alpha=.6, height=6\n",
        ")\n",
        "\n",
        "g.despine(left=True)\n",
        "g.set_axis_labels(\"category\", \"number of accesses\")\n",
        "g.fig.set_figwidth(25)\n",
        "g.fig.set_figheight(7)"
      ]
    },
    {
      "cell_type": "markdown",
      "metadata": {
        "id": "9EQYW-EM5MmZ"
      },
      "source": [
        "> **`Giai Tri` is the category is read most by women, in the meanwhile, `Doi song` is the category read most by men**"
      ]
    },
    {
      "cell_type": "markdown",
      "metadata": {
        "id": "5qA5Se_pj0qY"
      },
      "source": [
        "##### **What do people care about?**"
      ]
    },
    {
      "cell_type": "code",
      "execution_count": null,
      "metadata": {
        "id": "mogHavfNkU9h"
      },
      "outputs": [],
      "source": [
        "titles = merged_table['title']\n",
        "unique_title = list(set(titles))\n",
        "\n",
        "unique_title_pos_dict = {}\n",
        "\n",
        "for i, title in tqdm(enumerate(unique_title)):\n",
        "    unique_title_pos_dict[title] = i"
      ]
    },
    {
      "cell_type": "code",
      "execution_count": null,
      "metadata": {
        "id": "BEDOsLzalHp5"
      },
      "outputs": [],
      "source": [
        "tokens_title = {}\n",
        "\n",
        "for title in tqdm(unique_title):\n",
        "    tokens = word_tokenize(title)\n",
        "    tokens_title[title] = tokens"
      ]
    },
    {
      "cell_type": "code",
      "execution_count": null,
      "metadata": {
        "id": "Fga9JmNQwfxh"
      },
      "outputs": [],
      "source": [
        "merged_table['tokens_title'] = merged_table['title'].apply(lambda x: tokens_title[x])\n",
        "def combine_word(x: list):\n",
        "    for i,item in enumerate(x):\n",
        "        if ' ' in item:\n",
        "            x[i] = x[i].replace(' ', '_')\n",
        "\n",
        "    return x\n",
        "\n",
        "merged_table['tokens_title'] = merged_table['tokens_title'].apply(lambda x: combine_word(x))"
      ]
    },
    {
      "cell_type": "code",
      "execution_count": null,
      "metadata": {
        "id": "ll_VrU2OGWgR"
      },
      "outputs": [],
      "source": [
        "stopwords = []\n",
        "with open(\"vietnamese-stopwords.txt\", \"r\") as f:\n",
        "    stopwords = f.read().split('\\n')"
      ]
    },
    {
      "cell_type": "code",
      "execution_count": null,
      "metadata": {
        "colab": {
          "base_uri": "https://localhost:8080/"
        },
        "id": "LGiisx2bwua-",
        "outputId": "407476aa-6bc6-4a53-f23d-0c3f7719e139"
      },
      "outputs": [
        {
          "name": "stderr",
          "output_type": "stream",
          "text": [
            "100%|██████████| 5956753/5956753 [14:56<00:00, 6647.71it/s] \n"
          ]
        }
      ],
      "source": [
        "corpus = []\n",
        "\n",
        "for tokens_title in tqdm(merged_table['tokens_title']):\n",
        "    for token in tokens_title:\n",
        "        if token not in stopwords:\n",
        "            corpus.append(token)"
      ]
    },
    {
      "cell_type": "code",
      "execution_count": null,
      "metadata": {
        "id": "7xIomKnJwyYE",
        "outputId": "1ef08e58-2aa8-4452-da3c-c6b2f94e2c31"
      },
      "outputs": [
        {
          "data": {
            "image/png": "[encoded data removed]",
            "text/plain": [
              "<Figure size 1440x576 with 1 Axes>"
            ]
          },
          "metadata": {},
          "output_type": "display_data"
        }
      ],
      "source": [
        "NewNounString=' '.join(corpus)\n",
        "wordcloudimage = WordCloud( max_words=50,\n",
        "                            font_step=2 ,\n",
        "                            max_font_size=500,\n",
        "                            background_color='black',\n",
        "                            width=1000,\n",
        "                            height=720\n",
        "                          ).generate(NewNounString)\n",
        "\n",
        "plt.figure(figsize=(20,8))\n",
        "plt.imshow(wordcloudimage)\n",
        "plt.axis(\"off\")\n",
        "plt.show()"
      ]
    },
    {
      "cell_type": "markdown",
      "source": [
        "> **We can see that people care about some keywords \"Tan Hoang Minh\"; \"Nga Ukraine\" ; \"phuong Tay\";...**"
      ],
      "metadata": {
        "id": "_9vQ6k63Ia11"
      }
    },
    {
      "cell_type": "markdown",
      "metadata": {
        "id": "X_6HNg3Dw1CS"
      },
      "source": [
        "### Article Recommendation"
      ]
    },
    {
      "cell_type": "code",
      "execution_count": null,
      "metadata": {
        "id": "0ZDdWslBGWgT",
        "outputId": "1d3e348b-12a8-406f-c82d-39de993329de"
      },
      "outputs": [
        {
          "data": {
            "text/html": [
              "<div>\n",
              "<style scoped>\n",
              "    .dataframe tbody tr th:only-of-type {\n",
              "        vertical-align: middle;\n",
              "    }\n",
              "\n",
              "    .dataframe tbody tr th {\n",
              "        vertical-align: top;\n",
              "    }\n",
              "\n",
              "    .dataframe thead th {\n",
              "        text-align: right;\n",
              "    }\n",
              "</style>\n",
              "<table border=\"1\" class=\"dataframe\">\n",
              "  <thead>\n",
              "    <tr style=\"text-align: right;\">\n",
              "      <th></th>\n",
              "      <th>user_id</th>\n",
              "      <th>gender</th>\n",
              "      <th>age</th>\n",
              "      <th>os_name</th>\n",
              "    </tr>\n",
              "  </thead>\n",
              "  <tbody>\n",
              "    <tr>\n",
              "      <th>10804</th>\n",
              "      <td>15099768449101904560</td>\n",
              "      <td>Male</td>\n",
              "      <td>18-24</td>\n",
              "      <td>windows</td>\n",
              "    </tr>\n",
              "  </tbody>\n",
              "</table>\n",
              "</div>"
            ],
            "text/plain": [
              "                    user_id gender    age  os_name\n",
              "10804  15099768449101904560   Male  18-24  windows"
            ]
          },
          "execution_count": 66,
          "metadata": {},
          "output_type": "execute_result"
        }
      ],
      "source": [
        "users_df[users_df['user_id'] == 15099768449101904560]"
      ]
    },
    {
      "cell_type": "code",
      "execution_count": null,
      "metadata": {
        "id": "gcQ1bjAaGWgT",
        "outputId": "75ea14fc-e946-4390-8f7e-522ab7507ba1"
      },
      "outputs": [
        {
          "data": {
            "text/html": [
              "<div>\n",
              "<style scoped>\n",
              "    .dataframe tbody tr th:only-of-type {\n",
              "        vertical-align: middle;\n",
              "    }\n",
              "\n",
              "    .dataframe tbody tr th {\n",
              "        vertical-align: top;\n",
              "    }\n",
              "\n",
              "    .dataframe thead th {\n",
              "        text-align: right;\n",
              "    }\n",
              "</style>\n",
              "<table border=\"1\" class=\"dataframe\">\n",
              "  <thead>\n",
              "    <tr style=\"text-align: right;\">\n",
              "      <th></th>\n",
              "      <th>user_id</th>\n",
              "      <th>gender</th>\n",
              "      <th>age</th>\n",
              "      <th>os_name</th>\n",
              "    </tr>\n",
              "  </thead>\n",
              "  <tbody>\n",
              "    <tr>\n",
              "      <th>26601</th>\n",
              "      <td>10905364777234019509</td>\n",
              "      <td>Female</td>\n",
              "      <td>35-44</td>\n",
              "      <td>windows</td>\n",
              "    </tr>\n",
              "  </tbody>\n",
              "</table>\n",
              "</div>"
            ],
            "text/plain": [
              "                    user_id  gender    age  os_name\n",
              "26601  10905364777234019509  Female  35-44  windows"
            ]
          },
          "execution_count": 69,
          "metadata": {},
          "output_type": "execute_result"
        }
      ],
      "source": [
        "users_df[users_df['user_id'] == 10905364777234019509]"
      ]
    },
    {
      "cell_type": "markdown",
      "metadata": {
        "id": "hJdoWGHnGWgT"
      },
      "source": [
        "> I use a basic approach which based on content to build recommendation system, which means the system will recommend articles related to what users have read recently, e.g 10 most recent articles\n",
        "\n",
        "> I use TF-IDF method to represent articles, in which I concat 3 fields: domain, category and title\n",
        "\n",
        "> As the corpus is Vietnamese (there are words consisting of 2 syllables e.g: hoc sinh, co giao, etc) so I use a specialised tool for Vietnamese to tokenize sentence."
      ]
    },
    {
      "cell_type": "code",
      "execution_count": null,
      "metadata": {
        "id": "dMU3eSyYGWgT"
      },
      "outputs": [],
      "source": [
        "def tokenizer(text):\n",
        "    return word_tokenize(text)"
      ]
    },
    {
      "cell_type": "code",
      "execution_count": null,
      "metadata": {
        "id": "KHnzG8uEGWgT"
      },
      "outputs": [],
      "source": [
        "merged_table['context'] = merged_table['domain'] + ' ' + merged_table['category'] + ' ' + merged_table['title']\n",
        "articles_df['context'] = articles_df['domain'] + ' ' + articles_df['category'] + ' ' + articles_df['title']\n",
        "articles_df['published_date'] = articles_df['published_time'].apply(lambda x: x.date())"
      ]
    },
    {
      "cell_type": "code",
      "execution_count": null,
      "metadata": {
        "id": "HXFQluKEGWgT"
      },
      "outputs": [],
      "source": [
        "class ContentBasedRecommender:\n",
        "\n",
        "    def __init__(self, articles_df, user_reading_df, n_gram = (1,2), stop_words = None, tokenizer = None):\n",
        "        \"\"\"\n",
        "        n_gram: the range of n-values for different n-grams to be extracted\n",
        "        stop_words: list of stop words\n",
        "        tokenizer: callable for tokenize string\n",
        "        \"\"\"\n",
        "        self.user_reading_df = user_reading_df\n",
        "        self.articles_df = articles_df\n",
        "\n",
        "        self.vectorizer = TfidfVectorizer(lowercase = True,\n",
        "                                          ngram_range = n_gram,\n",
        "                                          stop_words = stop_words,\n",
        "                                          tokenizer = tokenizer)\n",
        "\n",
        "        self.vectorizer.fit(self.articles_df['context'])\n",
        "\n",
        "    def recommend(self, user_id:int, date:str, time_lag_history = 10, topk=10):\n",
        "        \"\"\"\n",
        "\n",
        "        \"\"\"\n",
        "\n",
        "        # get the newest reading history of user\n",
        "        user_history = self.user_reading_df[(self.user_reading_df['date'] <= pd.to_datetime(date).date()) & (self.user_reading_df['user_id'] == user_id)].sort_values(by=['date'], ascending=False)[:time_lag_history]\n",
        "\n",
        "        # only get newest news to recommend to user\n",
        "        new_articles = self.articles_df[self.articles_df['published_date'] == pd.to_datetime(date).date()]\n",
        "\n",
        "        # embed user's history articles and new published articles\n",
        "        user_history_embeds = self.vectorizer.transform(user_history['context'])\n",
        "        new_articles_embeds = self.vectorizer.transform(new_articles['context'])\n",
        "\n",
        "        # calculate cosine similarity and get top k relevent articles to those user's history\n",
        "        cosine_sims = linear_kernel(user_history_embeds, new_articles_embeds).flatten()\n",
        "        related_articles_indices = cosine_sims.argsort()[:-topk*2:-1]\n",
        "        related_articles_indices = related_articles_indices%new_articles_embeds.shape[0]\n",
        "        d = []\n",
        "        for i in related_articles_indices:\n",
        "            if i not in d:\n",
        "                d.append(i)\n",
        "                if len(d) == topk:\n",
        "                    break\n",
        "        return new_articles.iloc[d]"
      ]
    },
    {
      "cell_type": "code",
      "execution_count": null,
      "metadata": {
        "id": "yroEFLb8GWgU"
      },
      "outputs": [],
      "source": [
        "content_based_recommender = ContentBasedRecommender(articles_df, merged_table, stop_words = stopwords, tokenizer=tokenizer)"
      ]
    },
    {
      "cell_type": "code",
      "execution_count": null,
      "metadata": {
        "id": "VvFun3qVGWgU",
        "outputId": "548968a9-96d7-459f-8bb1-3ea4cfc6454e"
      },
      "outputs": [
        {
          "data": {
            "text/html": [
              "<div>\n",
              "<style scoped>\n",
              "    .dataframe tbody tr th:only-of-type {\n",
              "        vertical-align: middle;\n",
              "    }\n",
              "\n",
              "    .dataframe tbody tr th {\n",
              "        vertical-align: top;\n",
              "    }\n",
              "\n",
              "    .dataframe thead th {\n",
              "        text-align: right;\n",
              "    }\n",
              "</style>\n",
              "<table border=\"1\" class=\"dataframe\">\n",
              "  <thead>\n",
              "    <tr style=\"text-align: right;\">\n",
              "      <th></th>\n",
              "      <th>article_id</th>\n",
              "      <th>published_time</th>\n",
              "      <th>title</th>\n",
              "      <th>domain</th>\n",
              "      <th>category</th>\n",
              "      <th>context</th>\n",
              "      <th>date</th>\n",
              "      <th>published_date</th>\n",
              "    </tr>\n",
              "  </thead>\n",
              "  <tbody>\n",
              "    <tr>\n",
              "      <th>52486</th>\n",
              "      <td>4019362314888452419</td>\n",
              "      <td>2022-04-13 18:00:10</td>\n",
              "      <td>Hôn nhân xa cách trước khi ly hôn của MC Hoàng...</td>\n",
              "      <td>zingnews.vn</td>\n",
              "      <td>Giải trí</td>\n",
              "      <td>zingnews.vn Giải trí Hôn nhân xa cách trước kh...</td>\n",
              "      <td>2022-04-13</td>\n",
              "      <td>2022-04-13</td>\n",
              "    </tr>\n",
              "    <tr>\n",
              "      <th>9028</th>\n",
              "      <td>9734346959679492715</td>\n",
              "      <td>2022-04-13 15:55:00</td>\n",
              "      <td>Chồng Tây của Hoàng Oanh có động thái gây chú ...</td>\n",
              "      <td>afamily.vn</td>\n",
              "      <td>Giải trí</td>\n",
              "      <td>afamily.vn Giải trí Chồng Tây của Hoàng Oanh c...</td>\n",
              "      <td>2022-04-13</td>\n",
              "      <td>2022-04-13</td>\n",
              "    </tr>\n",
              "    <tr>\n",
              "      <th>55247</th>\n",
              "      <td>5917653892154024255</td>\n",
              "      <td>2022-04-13 06:52:00</td>\n",
              "      <td>1 ngày sau thông báo ly hôn MC Hoàng Oanh, chồ...</td>\n",
              "      <td>toquoc.vn</td>\n",
              "      <td>Giải trí</td>\n",
              "      <td>toquoc.vn Giải trí 1 ngày sau thông báo ly hôn...</td>\n",
              "      <td>2022-04-13</td>\n",
              "      <td>2022-04-13</td>\n",
              "    </tr>\n",
              "    <tr>\n",
              "      <th>33219</th>\n",
              "      <td>15843201616607914625</td>\n",
              "      <td>2022-04-13 10:07:42</td>\n",
              "      <td>Sau khi chồng Tây tuyên bố ly hôn, Hoàng Oanh ...</td>\n",
              "      <td>saostar.vn</td>\n",
              "      <td>Giải trí</td>\n",
              "      <td>saostar.vn Giải trí Sau khi chồng Tây tuyên bố...</td>\n",
              "      <td>2022-04-13</td>\n",
              "      <td>2022-04-13</td>\n",
              "    </tr>\n",
              "    <tr>\n",
              "      <th>60426</th>\n",
              "      <td>4962018646559778050</td>\n",
              "      <td>2022-04-13 08:07:00</td>\n",
              "      <td>Hoàng Oanh và chồng Tây đang ở bên nhau dù thô...</td>\n",
              "      <td>afamily.vn</td>\n",
              "      <td>Giải trí</td>\n",
              "      <td>afamily.vn Giải trí Hoàng Oanh và chồng Tây đa...</td>\n",
              "      <td>2022-04-13</td>\n",
              "      <td>2022-04-13</td>\n",
              "    </tr>\n",
              "    <tr>\n",
              "      <th>39971</th>\n",
              "      <td>9390943038123744260</td>\n",
              "      <td>2022-04-13 10:36:00</td>\n",
              "      <td>Chồng MC Hoàng Oanh bất ngờ có động thái liên ...</td>\n",
              "      <td>phunutoday.vn</td>\n",
              "      <td>Đời sống</td>\n",
              "      <td>phunutoday.vn Đời sống Chồng MC Hoàng Oanh bất...</td>\n",
              "      <td>2022-04-13</td>\n",
              "      <td>2022-04-13</td>\n",
              "    </tr>\n",
              "    <tr>\n",
              "      <th>30410</th>\n",
              "      <td>14540756388741662991</td>\n",
              "      <td>2022-04-13 07:33:29</td>\n",
              "      <td>Tổng thống Ukraine Zelensky đề nghị trao đổi t...</td>\n",
              "      <td>vietnamplus.vn</td>\n",
              "      <td>Tin thế giới</td>\n",
              "      <td>vietnamplus.vn Tin thế giới Tổng thống Ukraine...</td>\n",
              "      <td>2022-04-13</td>\n",
              "      <td>2022-04-13</td>\n",
              "    </tr>\n",
              "    <tr>\n",
              "      <th>63605</th>\n",
              "      <td>6499508369415581682</td>\n",
              "      <td>2022-04-13 21:49:00</td>\n",
              "      <td>Động thái chồng Tây sau khi Hoàng Oanh xác nhậ...</td>\n",
              "      <td>kienthuc.net.vn</td>\n",
              "      <td>Giải trí</td>\n",
              "      <td>kienthuc.net.vn Giải trí Động thái chồng Tây s...</td>\n",
              "      <td>2022-04-13</td>\n",
              "      <td>2022-04-13</td>\n",
              "    </tr>\n",
              "    <tr>\n",
              "      <th>42895</th>\n",
              "      <td>15939974305467047188</td>\n",
              "      <td>2022-04-13 07:16:00</td>\n",
              "      <td>Chồng Tây tuyên bố ly hôn soi đường tình của g...</td>\n",
              "      <td>kienthuc.net.vn</td>\n",
              "      <td>Giải trí</td>\n",
              "      <td>kienthuc.net.vn Giải trí Chồng Tây tuyên bố ly...</td>\n",
              "      <td>2022-04-13</td>\n",
              "      <td>2022-04-13</td>\n",
              "    </tr>\n",
              "    <tr>\n",
              "      <th>21573</th>\n",
              "      <td>11955473236424027045</td>\n",
              "      <td>2022-04-13 11:59:26</td>\n",
              "      <td>Sốc trước trạng thái cảm xúc của MC Hoàng Oanh...</td>\n",
              "      <td>phunuvagiadinh.vn</td>\n",
              "      <td>Giải trí</td>\n",
              "      <td>phunuvagiadinh.vn Giải trí Sốc trước trạng thá...</td>\n",
              "      <td>2022-04-13</td>\n",
              "      <td>2022-04-13</td>\n",
              "    </tr>\n",
              "  </tbody>\n",
              "</table>\n",
              "</div>"
            ],
            "text/plain": [
              "                 article_id      published_time  \\\n",
              "52486   4019362314888452419 2022-04-13 18:00:10   \n",
              "9028    9734346959679492715 2022-04-13 15:55:00   \n",
              "55247   5917653892154024255 2022-04-13 06:52:00   \n",
              "33219  15843201616607914625 2022-04-13 10:07:42   \n",
              "60426   4962018646559778050 2022-04-13 08:07:00   \n",
              "39971   9390943038123744260 2022-04-13 10:36:00   \n",
              "30410  14540756388741662991 2022-04-13 07:33:29   \n",
              "63605   6499508369415581682 2022-04-13 21:49:00   \n",
              "42895  15939974305467047188 2022-04-13 07:16:00   \n",
              "21573  11955473236424027045 2022-04-13 11:59:26   \n",
              "\n",
              "                                                   title             domain  \\\n",
              "52486  Hôn nhân xa cách trước khi ly hôn của MC Hoàng...        zingnews.vn   \n",
              "9028   Chồng Tây của Hoàng Oanh có động thái gây chú ...         afamily.vn   \n",
              "55247  1 ngày sau thông báo ly hôn MC Hoàng Oanh, chồ...          toquoc.vn   \n",
              "33219  Sau khi chồng Tây tuyên bố ly hôn, Hoàng Oanh ...         saostar.vn   \n",
              "60426  Hoàng Oanh và chồng Tây đang ở bên nhau dù thô...         afamily.vn   \n",
              "39971  Chồng MC Hoàng Oanh bất ngờ có động thái liên ...      phunutoday.vn   \n",
              "30410  Tổng thống Ukraine Zelensky đề nghị trao đổi t...     vietnamplus.vn   \n",
              "63605  Động thái chồng Tây sau khi Hoàng Oanh xác nhậ...    kienthuc.net.vn   \n",
              "42895  Chồng Tây tuyên bố ly hôn soi đường tình của g...    kienthuc.net.vn   \n",
              "21573  Sốc trước trạng thái cảm xúc của MC Hoàng Oanh...  phunuvagiadinh.vn   \n",
              "\n",
              "           category                                            context  \\\n",
              "52486      Giải trí  zingnews.vn Giải trí Hôn nhân xa cách trước kh...   \n",
              "9028       Giải trí  afamily.vn Giải trí Chồng Tây của Hoàng Oanh c...   \n",
              "55247      Giải trí  toquoc.vn Giải trí 1 ngày sau thông báo ly hôn...   \n",
              "33219      Giải trí  saostar.vn Giải trí Sau khi chồng Tây tuyên bố...   \n",
              "60426      Giải trí  afamily.vn Giải trí Hoàng Oanh và chồng Tây đa...   \n",
              "39971      Đời sống  phunutoday.vn Đời sống Chồng MC Hoàng Oanh bất...   \n",
              "30410  Tin thế giới  vietnamplus.vn Tin thế giới Tổng thống Ukraine...   \n",
              "63605      Giải trí  kienthuc.net.vn Giải trí Động thái chồng Tây s...   \n",
              "42895      Giải trí  kienthuc.net.vn Giải trí Chồng Tây tuyên bố ly...   \n",
              "21573      Giải trí  phunuvagiadinh.vn Giải trí Sốc trước trạng thá...   \n",
              "\n",
              "             date published_date  \n",
              "52486  2022-04-13     2022-04-13  \n",
              "9028   2022-04-13     2022-04-13  \n",
              "55247  2022-04-13     2022-04-13  \n",
              "33219  2022-04-13     2022-04-13  \n",
              "60426  2022-04-13     2022-04-13  \n",
              "39971  2022-04-13     2022-04-13  \n",
              "30410  2022-04-13     2022-04-13  \n",
              "63605  2022-04-13     2022-04-13  \n",
              "42895  2022-04-13     2022-04-13  \n",
              "21573  2022-04-13     2022-04-13  "
            ]
          },
          "execution_count": 143,
          "metadata": {},
          "output_type": "execute_result"
        }
      ],
      "source": [
        "content_based_recommender.recommend(user_id = 10905364777234019509, date = '2022-04-13')"
      ]
    },
    {
      "cell_type": "code",
      "execution_count": null,
      "metadata": {
        "id": "s-qEb_hkGWgU",
        "outputId": "6e20b9e9-67c1-40ee-effa-d9e8dfd95669"
      },
      "outputs": [
        {
          "data": {
            "text/html": [
              "<div>\n",
              "<style scoped>\n",
              "    .dataframe tbody tr th:only-of-type {\n",
              "        vertical-align: middle;\n",
              "    }\n",
              "\n",
              "    .dataframe tbody tr th {\n",
              "        vertical-align: top;\n",
              "    }\n",
              "\n",
              "    .dataframe thead th {\n",
              "        text-align: right;\n",
              "    }\n",
              "</style>\n",
              "<table border=\"1\" class=\"dataframe\">\n",
              "  <thead>\n",
              "    <tr style=\"text-align: right;\">\n",
              "      <th></th>\n",
              "      <th>title</th>\n",
              "      <th>domain</th>\n",
              "      <th>category</th>\n",
              "    </tr>\n",
              "  </thead>\n",
              "  <tbody>\n",
              "    <tr>\n",
              "      <th>5825070</th>\n",
              "      <td>Hoàng Oanh nói gì 15 phút trước khi chồng tuyê...</td>\n",
              "      <td>phunuvietnam.vn</td>\n",
              "      <td>Giải trí</td>\n",
              "    </tr>\n",
              "    <tr>\n",
              "      <th>5576290</th>\n",
              "      <td>Đời không khuất phục của chàng trai bại não</td>\n",
              "      <td>vnexpress.net</td>\n",
              "      <td>Giáo dục</td>\n",
              "    </tr>\n",
              "    <tr>\n",
              "      <th>4934254</th>\n",
              "      <td>Tiếng súng oan nghiệt giữa mâm cơm khiến 7 ngư...</td>\n",
              "      <td>24h.com.vn</td>\n",
              "      <td>Pháp luật</td>\n",
              "    </tr>\n",
              "    <tr>\n",
              "      <th>5082640</th>\n",
              "      <td>Làm phù dâu đám cưới anh trai, Harper Beckham ...</td>\n",
              "      <td>eva.vn</td>\n",
              "      <td>Giải trí</td>\n",
              "    </tr>\n",
              "    <tr>\n",
              "      <th>5251734</th>\n",
              "      <td>Cung nữ trộm gối của Từ Hy Thái hậu, 64 năm sa...</td>\n",
              "      <td>doanhnghiepvn.vn</td>\n",
              "      <td>Văn hóa</td>\n",
              "    </tr>\n",
              "    <tr>\n",
              "      <th>5414349</th>\n",
              "      <td>Chồng Tây của Hoàng Oanh khoe khoảnh khắc gia ...</td>\n",
              "      <td>afamily.vn</td>\n",
              "      <td>Giải trí</td>\n",
              "    </tr>\n",
              "    <tr>\n",
              "      <th>5475351</th>\n",
              "      <td>Jack Cole thông báo ly hôn MC Hoàng Oanh</td>\n",
              "      <td>zingnews.vn</td>\n",
              "      <td>Giải trí</td>\n",
              "    </tr>\n",
              "    <tr>\n",
              "      <th>5475374</th>\n",
              "      <td>Jack Cole thông báo ly hôn MC Hoàng Oanh</td>\n",
              "      <td>zingnews.vn</td>\n",
              "      <td>Giải trí</td>\n",
              "    </tr>\n",
              "    <tr>\n",
              "      <th>5438684</th>\n",
              "      <td>Tổng thống Ukraine Zelensky nói về hậu quả nếu...</td>\n",
              "      <td>24h.com.vn</td>\n",
              "      <td>Tin thế giới</td>\n",
              "    </tr>\n",
              "    <tr>\n",
              "      <th>5725197</th>\n",
              "      <td>Con gái 3 tuổi bị bắt cóc, được tìm thấy sau 1...</td>\n",
              "      <td>kenh14.vn</td>\n",
              "      <td>Đời sống</td>\n",
              "    </tr>\n",
              "  </tbody>\n",
              "</table>\n",
              "</div>"
            ],
            "text/plain": [
              "                                                     title            domain  \\\n",
              "5825070  Hoàng Oanh nói gì 15 phút trước khi chồng tuyê...   phunuvietnam.vn   \n",
              "5576290        Đời không khuất phục của chàng trai bại não     vnexpress.net   \n",
              "4934254  Tiếng súng oan nghiệt giữa mâm cơm khiến 7 ngư...        24h.com.vn   \n",
              "5082640  Làm phù dâu đám cưới anh trai, Harper Beckham ...            eva.vn   \n",
              "5251734  Cung nữ trộm gối của Từ Hy Thái hậu, 64 năm sa...  doanhnghiepvn.vn   \n",
              "5414349  Chồng Tây của Hoàng Oanh khoe khoảnh khắc gia ...        afamily.vn   \n",
              "5475351           Jack Cole thông báo ly hôn MC Hoàng Oanh       zingnews.vn   \n",
              "5475374           Jack Cole thông báo ly hôn MC Hoàng Oanh       zingnews.vn   \n",
              "5438684  Tổng thống Ukraine Zelensky nói về hậu quả nếu...        24h.com.vn   \n",
              "5725197  Con gái 3 tuổi bị bắt cóc, được tìm thấy sau 1...         kenh14.vn   \n",
              "\n",
              "             category  \n",
              "5825070      Giải trí  \n",
              "5576290      Giáo dục  \n",
              "4934254     Pháp luật  \n",
              "5082640      Giải trí  \n",
              "5251734       Văn hóa  \n",
              "5414349      Giải trí  \n",
              "5475351      Giải trí  \n",
              "5475374      Giải trí  \n",
              "5438684  Tin thế giới  \n",
              "5725197      Đời sống  "
            ]
          },
          "execution_count": 124,
          "metadata": {},
          "output_type": "execute_result"
        }
      ],
      "source": [
        "merged_table[merged_table['user_id'] == 10905364777234019509].sort_values(by=['date'], ascending=False)[:10][['title','domain', 'category']]"
      ]
    },
    {
      "cell_type": "code",
      "execution_count": null,
      "metadata": {
        "id": "c0MhAQlYGWgU",
        "outputId": "aad6a7b0-d276-406c-84ef-e9f8ff7f7fc5"
      },
      "outputs": [
        {
          "data": {
            "text/html": [
              "<div>\n",
              "<style scoped>\n",
              "    .dataframe tbody tr th:only-of-type {\n",
              "        vertical-align: middle;\n",
              "    }\n",
              "\n",
              "    .dataframe tbody tr th {\n",
              "        vertical-align: top;\n",
              "    }\n",
              "\n",
              "    .dataframe thead th {\n",
              "        text-align: right;\n",
              "    }\n",
              "</style>\n",
              "<table border=\"1\" class=\"dataframe\">\n",
              "  <thead>\n",
              "    <tr style=\"text-align: right;\">\n",
              "      <th></th>\n",
              "      <th>article_id</th>\n",
              "      <th>published_time</th>\n",
              "      <th>title</th>\n",
              "      <th>domain</th>\n",
              "      <th>category</th>\n",
              "      <th>context</th>\n",
              "      <th>date</th>\n",
              "      <th>published_date</th>\n",
              "    </tr>\n",
              "  </thead>\n",
              "  <tbody>\n",
              "    <tr>\n",
              "      <th>27444</th>\n",
              "      <td>13931129045873067861</td>\n",
              "      <td>2022-04-13 17:43:01</td>\n",
              "      <td>Một ngân hàng Việt có thể lựa chọn chiến lược ...</td>\n",
              "      <td>theleader.vn</td>\n",
              "      <td>Kinh tế</td>\n",
              "      <td>theleader.vn Kinh tế Một ngân hàng Việt có thể...</td>\n",
              "      <td>2022-04-13</td>\n",
              "      <td>2022-04-13</td>\n",
              "    </tr>\n",
              "    <tr>\n",
              "      <th>22237</th>\n",
              "      <td>12563479539048888877</td>\n",
              "      <td>2022-04-13 21:30:00</td>\n",
              "      <td>Lý do Ấn Độ và Trung Quốc không xích lại gần nhau</td>\n",
              "      <td>24h.com.vn</td>\n",
              "      <td>Tin thế giới</td>\n",
              "      <td>24h.com.vn Tin thế giới Lý do Ấn Độ và Trung Q...</td>\n",
              "      <td>2022-04-13</td>\n",
              "      <td>2022-04-13</td>\n",
              "    </tr>\n",
              "    <tr>\n",
              "      <th>35550</th>\n",
              "      <td>1627972826479340212</td>\n",
              "      <td>2022-04-13 17:21:00</td>\n",
              "      <td>Giới siêu giàu ngày càng giàu nhờ “tích sản” v...</td>\n",
              "      <td>toquoc.vn</td>\n",
              "      <td>Bất động sản</td>\n",
              "      <td>toquoc.vn Bất động sản Giới siêu giàu ngày càn...</td>\n",
              "      <td>2022-04-13</td>\n",
              "      <td>2022-04-13</td>\n",
              "    </tr>\n",
              "    <tr>\n",
              "      <th>60818</th>\n",
              "      <td>5671160502843517782</td>\n",
              "      <td>2022-04-13 16:19:55</td>\n",
              "      <td>Giới siêu giàu càng giàu nhờ “tích sản” vào di...</td>\n",
              "      <td>vneconomy.vn</td>\n",
              "      <td>Bất động sản</td>\n",
              "      <td>vneconomy.vn Bất động sản Giới siêu giàu càng ...</td>\n",
              "      <td>2022-04-13</td>\n",
              "      <td>2022-04-13</td>\n",
              "    </tr>\n",
              "    <tr>\n",
              "      <th>22056</th>\n",
              "      <td>12399074122476838473</td>\n",
              "      <td>2022-04-13 12:00:00</td>\n",
              "      <td>Mặc trang phục dự đám cưới đẹp như vợ chồng Mi...</td>\n",
              "      <td>phunuvietnam.vn</td>\n",
              "      <td>Giải trí</td>\n",
              "      <td>phunuvietnam.vn Giải trí Mặc trang phục dự đám...</td>\n",
              "      <td>2022-04-13</td>\n",
              "      <td>2022-04-13</td>\n",
              "    </tr>\n",
              "    <tr>\n",
              "      <th>40487</th>\n",
              "      <td>12813182687666497000</td>\n",
              "      <td>2022-04-13 16:15:00</td>\n",
              "      <td>Mặc gợi cảm khoe dáng bên siêu xe hot girl gây...</td>\n",
              "      <td>kienthuc.net.vn</td>\n",
              "      <td>Giải trí</td>\n",
              "      <td>kienthuc.net.vn Giải trí Mặc gợi cảm khoe dáng...</td>\n",
              "      <td>2022-04-13</td>\n",
              "      <td>2022-04-13</td>\n",
              "    </tr>\n",
              "    <tr>\n",
              "      <th>56736</th>\n",
              "      <td>7224798834842229183</td>\n",
              "      <td>2022-04-13 15:26:00</td>\n",
              "      <td>Bù đắp kiến thức, kỹ năng cho học sinh tiểu học</td>\n",
              "      <td>phunuvietnam.vn</td>\n",
              "      <td>Giáo dục</td>\n",
              "      <td>phunuvietnam.vn Giáo dục Bù đắp kiến thức, kỹ ...</td>\n",
              "      <td>2022-04-13</td>\n",
              "      <td>2022-04-13</td>\n",
              "    </tr>\n",
              "    <tr>\n",
              "      <th>13641</th>\n",
              "      <td>11232947848296467823</td>\n",
              "      <td>2022-04-13 21:35:00</td>\n",
              "      <td>Sinh viên báo chí học làm nghề tại Hội Báo toà...</td>\n",
              "      <td>phunuvietnam.vn</td>\n",
              "      <td>Giáo dục</td>\n",
              "      <td>phunuvietnam.vn Giáo dục Sinh viên báo chí học...</td>\n",
              "      <td>2022-04-13</td>\n",
              "      <td>2022-04-13</td>\n",
              "    </tr>\n",
              "    <tr>\n",
              "      <th>56938</th>\n",
              "      <td>7398537015864457411</td>\n",
              "      <td>2022-04-13 09:20:05</td>\n",
              "      <td>Giới trẻ sáng tạo như thế nào?</td>\n",
              "      <td>zingnews.vn</td>\n",
              "      <td>Giải trí</td>\n",
              "      <td>zingnews.vn Giải trí Giới trẻ sáng tạo như thế...</td>\n",
              "      <td>2022-04-13</td>\n",
              "      <td>2022-04-13</td>\n",
              "    </tr>\n",
              "    <tr>\n",
              "      <th>68636</th>\n",
              "      <td>15032110434392546838</td>\n",
              "      <td>2022-04-13 12:24:00</td>\n",
              "      <td>Trường mầm non xây dựng kịch bản ứng phó dịch ...</td>\n",
              "      <td>phunuvietnam.vn</td>\n",
              "      <td>Giáo dục</td>\n",
              "      <td>phunuvietnam.vn Giáo dục Trường mầm non xây dự...</td>\n",
              "      <td>2022-04-13</td>\n",
              "      <td>2022-04-13</td>\n",
              "    </tr>\n",
              "  </tbody>\n",
              "</table>\n",
              "</div>"
            ],
            "text/plain": [
              "                 article_id      published_time  \\\n",
              "27444  13931129045873067861 2022-04-13 17:43:01   \n",
              "22237  12563479539048888877 2022-04-13 21:30:00   \n",
              "35550   1627972826479340212 2022-04-13 17:21:00   \n",
              "60818   5671160502843517782 2022-04-13 16:19:55   \n",
              "22056  12399074122476838473 2022-04-13 12:00:00   \n",
              "40487  12813182687666497000 2022-04-13 16:15:00   \n",
              "56736   7224798834842229183 2022-04-13 15:26:00   \n",
              "13641  11232947848296467823 2022-04-13 21:35:00   \n",
              "56938   7398537015864457411 2022-04-13 09:20:05   \n",
              "68636  15032110434392546838 2022-04-13 12:24:00   \n",
              "\n",
              "                                                   title           domain  \\\n",
              "27444  Một ngân hàng Việt có thể lựa chọn chiến lược ...     theleader.vn   \n",
              "22237  Lý do Ấn Độ và Trung Quốc không xích lại gần nhau       24h.com.vn   \n",
              "35550  Giới siêu giàu ngày càng giàu nhờ “tích sản” v...        toquoc.vn   \n",
              "60818  Giới siêu giàu càng giàu nhờ “tích sản” vào di...     vneconomy.vn   \n",
              "22056  Mặc trang phục dự đám cưới đẹp như vợ chồng Mi...  phunuvietnam.vn   \n",
              "40487  Mặc gợi cảm khoe dáng bên siêu xe hot girl gây...  kienthuc.net.vn   \n",
              "56736    Bù đắp kiến thức, kỹ năng cho học sinh tiểu học  phunuvietnam.vn   \n",
              "13641  Sinh viên báo chí học làm nghề tại Hội Báo toà...  phunuvietnam.vn   \n",
              "56938                     Giới trẻ sáng tạo như thế nào?      zingnews.vn   \n",
              "68636  Trường mầm non xây dựng kịch bản ứng phó dịch ...  phunuvietnam.vn   \n",
              "\n",
              "           category                                            context  \\\n",
              "27444       Kinh tế  theleader.vn Kinh tế Một ngân hàng Việt có thể...   \n",
              "22237  Tin thế giới  24h.com.vn Tin thế giới Lý do Ấn Độ và Trung Q...   \n",
              "35550  Bất động sản  toquoc.vn Bất động sản Giới siêu giàu ngày càn...   \n",
              "60818  Bất động sản  vneconomy.vn Bất động sản Giới siêu giàu càng ...   \n",
              "22056      Giải trí  phunuvietnam.vn Giải trí Mặc trang phục dự đám...   \n",
              "40487      Giải trí  kienthuc.net.vn Giải trí Mặc gợi cảm khoe dáng...   \n",
              "56736      Giáo dục  phunuvietnam.vn Giáo dục Bù đắp kiến thức, kỹ ...   \n",
              "13641      Giáo dục  phunuvietnam.vn Giáo dục Sinh viên báo chí học...   \n",
              "56938      Giải trí  zingnews.vn Giải trí Giới trẻ sáng tạo như thế...   \n",
              "68636      Giáo dục  phunuvietnam.vn Giáo dục Trường mầm non xây dự...   \n",
              "\n",
              "             date published_date  \n",
              "27444  2022-04-13     2022-04-13  \n",
              "22237  2022-04-13     2022-04-13  \n",
              "35550  2022-04-13     2022-04-13  \n",
              "60818  2022-04-13     2022-04-13  \n",
              "22056  2022-04-13     2022-04-13  \n",
              "40487  2022-04-13     2022-04-13  \n",
              "56736  2022-04-13     2022-04-13  \n",
              "13641  2022-04-13     2022-04-13  \n",
              "56938  2022-04-13     2022-04-13  \n",
              "68636  2022-04-13     2022-04-13  "
            ]
          },
          "execution_count": 144,
          "metadata": {},
          "output_type": "execute_result"
        }
      ],
      "source": [
        "content_based_recommender.recommend(user_id = 15099768449101904560, date = '2022-04-13')"
      ]
    },
    {
      "cell_type": "code",
      "execution_count": null,
      "metadata": {
        "id": "aoFLHdLIGWgU",
        "outputId": "b1f15795-aec2-4685-94a1-3ddc9b318d87"
      },
      "outputs": [
        {
          "data": {
            "text/html": [
              "<div>\n",
              "<style scoped>\n",
              "    .dataframe tbody tr th:only-of-type {\n",
              "        vertical-align: middle;\n",
              "    }\n",
              "\n",
              "    .dataframe tbody tr th {\n",
              "        vertical-align: top;\n",
              "    }\n",
              "\n",
              "    .dataframe thead th {\n",
              "        text-align: right;\n",
              "    }\n",
              "</style>\n",
              "<table border=\"1\" class=\"dataframe\">\n",
              "  <thead>\n",
              "    <tr style=\"text-align: right;\">\n",
              "      <th></th>\n",
              "      <th>title</th>\n",
              "      <th>domain</th>\n",
              "      <th>category</th>\n",
              "    </tr>\n",
              "  </thead>\n",
              "  <tbody>\n",
              "    <tr>\n",
              "      <th>5454087</th>\n",
              "      <td>Mặc trang phục truyền thống gợi cảm nhất, bóng...</td>\n",
              "      <td>24h.com.vn</td>\n",
              "      <td>Giải trí</td>\n",
              "    </tr>\n",
              "    <tr>\n",
              "      <th>4662983</th>\n",
              "      <td>Vượt khó bằng suy nghĩ tích cực</td>\n",
              "      <td>phunuvietnam.vn</td>\n",
              "      <td>Giáo dục</td>\n",
              "    </tr>\n",
              "    <tr>\n",
              "      <th>5021684</th>\n",
              "      <td>Đến đón dâu, chú rể tái mét mặt, hoảng loạn kh...</td>\n",
              "      <td>tintuc.vn</td>\n",
              "      <td>Đời sống</td>\n",
              "    </tr>\n",
              "    <tr>\n",
              "      <th>4917280</th>\n",
              "      <td>7 thứ vô bổ người giàu ít khi rút hầu bao, ngư...</td>\n",
              "      <td>eva.vn</td>\n",
              "      <td>Đời sống</td>\n",
              "    </tr>\n",
              "    <tr>\n",
              "      <th>4731378</th>\n",
              "      <td>Vai diễn trong mơ của các diễn viên</td>\n",
              "      <td>zingnews.vn</td>\n",
              "      <td>Giải trí</td>\n",
              "    </tr>\n",
              "    <tr>\n",
              "      <th>4448032</th>\n",
              "      <td>\"Em gái BTS\" dính phốt bạo lực học đường liên ...</td>\n",
              "      <td>toquoc.vn</td>\n",
              "      <td>Giải trí</td>\n",
              "    </tr>\n",
              "    <tr>\n",
              "      <th>4603661</th>\n",
              "      <td>Ngây ngất trước cosplay Ngu Cơ, mỹ nhân của Hạ...</td>\n",
              "      <td>vietgiaitri.com</td>\n",
              "      <td>Game</td>\n",
              "    </tr>\n",
              "    <tr>\n",
              "      <th>4664078</th>\n",
              "      <td>Ấn Độ: Băng trộm dùng thủ đoạn kỳ lạ lấy đi cả...</td>\n",
              "      <td>24h.com.vn</td>\n",
              "      <td>Tin thế giới</td>\n",
              "    </tr>\n",
              "    <tr>\n",
              "      <th>4666750</th>\n",
              "      <td>Sợ đám đông có thể học Luật, Ngoại giao được k...</td>\n",
              "      <td>vnexpress.net</td>\n",
              "      <td>Giáo dục</td>\n",
              "    </tr>\n",
              "    <tr>\n",
              "      <th>4694594</th>\n",
              "      <td>Trang phục làm nên đẳng cấp cho giới siêu giàu</td>\n",
              "      <td>zingnews.vn</td>\n",
              "      <td>Giải trí</td>\n",
              "    </tr>\n",
              "  </tbody>\n",
              "</table>\n",
              "</div>"
            ],
            "text/plain": [
              "                                                     title           domain  \\\n",
              "5454087  Mặc trang phục truyền thống gợi cảm nhất, bóng...       24h.com.vn   \n",
              "4662983                    Vượt khó bằng suy nghĩ tích cực  phunuvietnam.vn   \n",
              "5021684  Đến đón dâu, chú rể tái mét mặt, hoảng loạn kh...        tintuc.vn   \n",
              "4917280  7 thứ vô bổ người giàu ít khi rút hầu bao, ngư...           eva.vn   \n",
              "4731378                Vai diễn trong mơ của các diễn viên      zingnews.vn   \n",
              "4448032  \"Em gái BTS\" dính phốt bạo lực học đường liên ...        toquoc.vn   \n",
              "4603661  Ngây ngất trước cosplay Ngu Cơ, mỹ nhân của Hạ...  vietgiaitri.com   \n",
              "4664078  Ấn Độ: Băng trộm dùng thủ đoạn kỳ lạ lấy đi cả...       24h.com.vn   \n",
              "4666750  Sợ đám đông có thể học Luật, Ngoại giao được k...    vnexpress.net   \n",
              "4694594     Trang phục làm nên đẳng cấp cho giới siêu giàu      zingnews.vn   \n",
              "\n",
              "             category  \n",
              "5454087      Giải trí  \n",
              "4662983      Giáo dục  \n",
              "5021684      Đời sống  \n",
              "4917280      Đời sống  \n",
              "4731378      Giải trí  \n",
              "4448032      Giải trí  \n",
              "4603661          Game  \n",
              "4664078  Tin thế giới  \n",
              "4666750      Giáo dục  \n",
              "4694594      Giải trí  "
            ]
          },
          "execution_count": 145,
          "metadata": {},
          "output_type": "execute_result"
        }
      ],
      "source": [
        "merged_table[merged_table['user_id'] == 15099768449101904560].sort_values(by=['date'], ascending=False)[:10][['title','domain', 'category']]"
      ]
    },
    {
      "cell_type": "markdown",
      "metadata": {
        "id": "auR7NYvCGWgV"
      },
      "source": [
        "> There are more approaches for this problem which focus on personalizing users to improve the user engagement but in this assignment I chose the basic one as the baseline approach."
      ]
    },
    {
      "cell_type": "code",
      "execution_count": null,
      "metadata": {
        "id": "5WbsLpCEGWgV"
      },
      "outputs": [],
      "source": []
    }
  ],
  "metadata": {
    "colab": {
      "collapsed_sections": [
        "B6ayQ2YIEfxZ",
        "Z77d0Bd5XbVu"
      ],
      "provenance": [],
      "include_colab_link": true
    },
    "kernelspec": {
      "display_name": "Python 3 (ipykernel)",
      "language": "python",
      "name": "python3"
    },
    "language_info": {
      "codemirror_mode": {
        "name": "ipython",
        "version": 3
      },
      "file_extension": ".py",
      "mimetype": "text/x-python",
      "name": "python",
      "nbconvert_exporter": "python",
      "pygments_lexer": "ipython3",
      "version": "3.9.13"
    }
  },
  "nbformat": 4,
  "nbformat_minor": 0
}