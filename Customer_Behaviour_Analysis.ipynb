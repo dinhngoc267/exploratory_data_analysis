{
  "nbformat": 4,
  "nbformat_minor": 0,
  "metadata": {
    "colab": {
      "provenance": [],
      "mount_file_id": "1hbyIybE6-B1JZE_UsPiU87vvb35SHFnt",
      "authorship_tag": "ABX9TyONyqFak+Blu344tXFkqJNP",
      "include_colab_link": true
    },
    "kernelspec": {
      "name": "python3",
      "display_name": "Python 3"
    },
    "language_info": {
      "name": "python"
    }
  },
  "cells": [
    {
      "cell_type": "markdown",
      "metadata": {
        "id": "view-in-github",
        "colab_type": "text"
      },
      "source": [
        "<a href=\"https://colab.research.google.com/github/dinhngoc267/exploratory_data_analysis/blob/main/Customer_Behaviour_Analysis.ipynb\" target=\"_parent\"><img src=\"https://colab.research.google.com/assets/colab-badge.svg\" alt=\"Open In Colab\"/></a>"
      ]
    },
    {
      "cell_type": "markdown",
      "source": [
        "**Dữ liệu:**\n",
        "\n",
        "> Tập dữ liệu bao gồm các logs hoạt động của người dùng đối với các dịch vụ TV\n",
        "\n",
        "– MAC: userID\n",
        "\n",
        "– SessionMainMenu: thời điểm user bắt đầu sử dụng dịch vụ\n",
        "\n",
        "– AppName: loại app user sử dụng\n",
        "\n",
        "– LogID: mã log\n",
        "\n",
        "– Event: thao tác user\n",
        "\n",
        "– ItemID: ID chương trình user xem\n",
        "\n",
        "– RealTimePlaying: thời lượng xem của user"
      ],
      "metadata": {
        "id": "IQgwEdJkJ-2a"
      }
    },
    {
      "cell_type": "markdown",
      "source": [
        "> Và tập dữ liệu số ngày sử dụng dịch vụ của các user"
      ],
      "metadata": {
        "id": "kIKZ2XKFMVzI"
      }
    },
    {
      "cell_type": "markdown",
      "source": [
        "### Import Lib"
      ],
      "metadata": {
        "id": "amntu-Ch6fz-"
      }
    },
    {
      "cell_type": "code",
      "source": [
        "#@title\n",
        "pip install patool"
      ],
      "metadata": {
        "colab": {
          "base_uri": "https://localhost:8080/",
          "height": 0
        },
        "id": "uYqJr-zel70X",
        "outputId": "1e9883cc-d57b-46fd-eaef-899902b73277"
      },
      "execution_count": 1,
      "outputs": [
        {
          "output_type": "stream",
          "name": "stdout",
          "text": [
            "Looking in indexes: https://pypi.org/simple, https://us-python.pkg.dev/colab-wheels/public/simple/\n",
            "Collecting patool\n",
            "  Downloading patool-1.12-py2.py3-none-any.whl (77 kB)\n",
            "\u001b[2K     \u001b[90m━━━━━━━━━━━━━━━━━━━━━━━━━━━━━━━━━━━━━━━━\u001b[0m \u001b[32m77.5/77.5 KB\u001b[0m \u001b[31m5.3 MB/s\u001b[0m eta \u001b[36m0:00:00\u001b[0m\n",
            "\u001b[?25hInstalling collected packages: patool\n",
            "Successfully installed patool-1.12\n"
          ]
        }
      ]
    },
    {
      "cell_type": "code",
      "source": [
        "#@title\n",
        "import patoolib\n",
        "import numpy as np\n",
        "import pandas as pd\n",
        "import glob\n",
        "import re\n",
        "import os\n",
        "from tqdm import tqdm\n",
        "import seaborn as sns\n",
        "import matplotlib.pyplot as plt\n",
        "import matplotlib.patches as mpatches\n",
        "\n",
        "\n",
        "os.makedirs(\"/content/logs\")\n",
        "patoolib.extract_archive(\"/content/drive/MyDrive/DataSampleTest.rar\", outdir=\"/content/logs\")"
      ],
      "metadata": {
        "id": "ZoaxRrZtl6OZ",
        "colab": {
          "base_uri": "https://localhost:8080/",
          "height": 104
        },
        "outputId": "1d17eba8-e354-4bba-9f73-005123f984cc"
      },
      "execution_count": 3,
      "outputs": [
        {
          "output_type": "stream",
          "name": "stdout",
          "text": [
            "patool: Extracting /content/drive/MyDrive/DataSampleTest.rar ...\n",
            "patool: running /usr/bin/unrar x -- /content/drive/MyDrive/DataSampleTest.rar\n",
            "patool:     with cwd='/content/logs'\n",
            "patool: ... /content/drive/MyDrive/DataSampleTest.rar extracted to `/content/logs'.\n"
          ]
        },
        {
          "output_type": "execute_result",
          "data": {
            "text/plain": [
              "'/content/logs'"
            ],
            "application/vnd.google.colaboratory.intrinsic+json": {
              "type": "string"
            }
          },
          "metadata": {},
          "execution_count": 3
        }
      ]
    },
    {
      "cell_type": "markdown",
      "source": [
        "### Process Data"
      ],
      "metadata": {
        "id": "cHLjwKal6kGU"
      }
    },
    {
      "cell_type": "code",
      "source": [
        "#@title\n",
        "class LogParser():\n",
        "  def __init__(self, pattern = r'''u'(.*?)'|(\\d+)|u\"(.*?)\"'''):\n",
        "    self.pattern = pattern\n",
        "\n",
        "  def text_to_list_json(self, data_dir):\n",
        "    \"\"\"\n",
        "    data_dir: directory of log files\n",
        "    \"\"\"\n",
        "\n",
        "    data = []\n",
        "    files = glob.glob(os.path.join(data_dir, \"*.txt\"))\n",
        "\n",
        "    for file_name in tqdm(files):\n",
        "      with open(file_name) as f:\n",
        "        \n",
        "        lines = f.read().split('\\n')\n",
        "\n",
        "        for line in lines:\n",
        "          row = {}\n",
        "          matches = re.findall(self.pattern, line)\n",
        "          items = []\n",
        "\n",
        "          for item in matches:\n",
        "            flag = False\n",
        "            for group in item:\n",
        "              if group != \"\":\n",
        "                flag = True\n",
        "                items.append(group)\n",
        "                break\n",
        "            if flag == False:\n",
        "              items.append(\"\")\n",
        "          try:\n",
        "            for i in range(0,len(items),2):\n",
        "              row[items[i]] = items[i+1]\n",
        "          except:\n",
        "            print('Error in {} file. Found {} group match'.format(file_name, len(matches)))\n",
        "          \n",
        "          data.append(row)\n",
        "\n",
        "    return data\n",
        "\n",
        "  def export_log(self, list_json, extracted_fields, output_file):\n",
        "    \"\"\"\n",
        "\n",
        "    \"\"\"\n",
        "\n",
        "    with open(output_file, \"w\") as f:\n",
        "      strings = []\n",
        "      f.write('\\t'.join(extracted_fields) + '\\n')\n",
        "\n",
        "      for row in list_json:\n",
        "        tmp = []\n",
        "\n",
        "        for field in extracted_fields:\n",
        "          if field in row:\n",
        "            tmp.append(row[field])\n",
        "          else:\n",
        "            tmp.append(\"\")\n",
        "\n",
        "        strings.append('\\t'.join(tmp))\n",
        "        \n",
        "      f.write('\\n'.join(strings))"
      ],
      "metadata": {
        "id": "hGMNDJzRITLI"
      },
      "execution_count": 14,
      "outputs": []
    },
    {
      "cell_type": "code",
      "source": [
        "data_dir = \"/content/logs\"\n",
        "files = glob.glob(os.path.join(data_dir, \"*.txt\"))\n",
        "count = 0\n",
        "for file_name in tqdm(files):\n",
        "  with open(file_name) as f:\n",
        "    \n",
        "    data = f.read()\n",
        "    \n",
        "    count += data.count(\"\")"
      ],
      "metadata": {
        "colab": {
          "base_uri": "https://localhost:8080/",
          "height": 0
        },
        "id": "eMk_iZKmPFUS",
        "outputId": "4e7b622c-e2b1-48df-be87-ff77400d7e5f"
      },
      "execution_count": 469,
      "outputs": [
        {
          "output_type": "stream",
          "name": "stderr",
          "text": [
            "100%|██████████| 7/7 [00:03<00:00,  1.86it/s]\n"
          ]
        }
      ]
    },
    {
      "cell_type": "code",
      "source": [
        "#@title\n",
        "logParser = LogParser()\n",
        "extracted_fields = ['Mac', 'SessionMainMenu', 'AppName', 'LogId', 'Event', 'ItemId', 'RealTimePlaying']\n",
        "data = logParser.text_to_list_json(\"/content/logs\")"
      ],
      "metadata": {
        "id": "iR4lZC-3fTP7",
        "colab": {
          "base_uri": "https://localhost:8080/",
          "height": 0
        },
        "outputId": "d1ada42d-def5-41dc-ffea-ee48ce307162"
      },
      "execution_count": 15,
      "outputs": [
        {
          "output_type": "stream",
          "name": "stderr",
          "text": [
            "100%|██████████| 7/7 [00:54<00:00,  7.73s/it]\n"
          ]
        }
      ]
    },
    {
      "cell_type": "code",
      "source": [
        "#@title\n",
        "logParser.export_log(data, extracted_fields, \"/content/new_log.txt\")"
      ],
      "metadata": {
        "id": "lcdBfEaLc6r4"
      },
      "execution_count": 17,
      "outputs": []
    },
    {
      "cell_type": "markdown",
      "source": [
        "## EDA"
      ],
      "metadata": {
        "id": "o31AHd8TpS4s"
      }
    },
    {
      "cell_type": "markdown",
      "source": [
        "#### Load Data"
      ],
      "metadata": {
        "id": "ViS2LYGaDEWo"
      }
    },
    {
      "cell_type": "code",
      "source": [
        "#@title\n",
        "with open(\"/content/new_log.txt\") as f:\n",
        "  lines = f.read().split('\\n')\n",
        "\n",
        "  fields = lines[0].split('\\t')\n",
        "  lines = lines[1:]\n",
        "\n",
        "  data = []\n",
        "  for line in lines:\n",
        "    line = line.split('\\t')\n",
        "\n",
        "    row = {}\n",
        "    for i in range(len(line)):\n",
        "      row[fields[i]] = line[i]\n",
        "\n",
        "    data.append(row)\n",
        "df = pd.DataFrame(data)\n",
        "\n",
        "#@title\n",
        "with open(\"user_info.txt\") as f:\n",
        "  lines = f.read().split('\\n')\n",
        "  lines = lines[1:]\n",
        "\n",
        "  data = []\n",
        "  \n",
        "  for line in lines:\n",
        "    row = {}\n",
        "    line = line.split('\\t')\n",
        "    row['Mac'] = line[0]\n",
        "    row['n_days_use'] = line[1] \n",
        "    data.append(row)\n",
        "\n",
        "n_days_use_df =  pd.DataFrame(data)\n",
        "\n",
        "def normalizeID(x):\n",
        "  return x.replace(\"FBOX\", \"\")\n",
        "\n",
        "n_days_use_df['Mac'] = n_days_use_df['Mac'].apply(lambda x: normalizeID(x))"
      ],
      "metadata": {
        "id": "HVgzwUNNeE3H"
      },
      "execution_count": 562,
      "outputs": []
    },
    {
      "cell_type": "markdown",
      "source": [
        "### Process Data"
      ],
      "metadata": {
        "id": "7CqWCTfwfXK1"
      }
    },
    {
      "cell_type": "markdown",
      "source": [
        "#### Merge dữ liệu và xóa trùng lặp"
      ],
      "metadata": {
        "id": "unZf2J2iNg-i"
      }
    },
    {
      "cell_type": "code",
      "source": [
        "df = df.merge(n_days_use_df, how = 'inner')\n",
        "df.drop_duplicates(inplace=True)\n",
        "df.shape"
      ],
      "metadata": {
        "colab": {
          "base_uri": "https://localhost:8080/",
          "height": 0
        },
        "id": "P7Xb_l3ROKeH",
        "outputId": "9707aee2-7f18-4ca5-84ce-ba0e1a6dff8e"
      },
      "execution_count": 563,
      "outputs": [
        {
          "output_type": "execute_result",
          "data": {
            "text/plain": [
              "(788101, 8)"
            ]
          },
          "metadata": {},
          "execution_count": 563
        }
      ]
    },
    {
      "cell_type": "markdown",
      "source": [
        "#### Chuyển đổi kiểu dữ liệu cho các cột"
      ],
      "metadata": {
        "id": "_5yxoCFxpLdG"
      }
    },
    {
      "cell_type": "markdown",
      "source": [
        "##### DateTime cho cột `SessionMainMenu`"
      ],
      "metadata": {
        "id": "tMC592r-DfGi"
      }
    },
    {
      "cell_type": "code",
      "source": [
        "#@title\n",
        "def extract_datetime(string):\n",
        "  return ':'.join(string.split(':')[1:-1])\n",
        "\n",
        "df['SessionMainMenu'] = df['SessionMainMenu'].apply(lambda x: extract_datetime(x))\n",
        "\n",
        "df[df['SessionMainMenu'] == \"\"] = None\n",
        "df['SessionMainMenu'] = pd.to_datetime(df['SessionMainMenu'], format='%Y:%m:%d:%H:%M:%S')\n",
        "\n",
        "df.head()"
      ],
      "metadata": {
        "id": "TpeyfFN5ku3X",
        "colab": {
          "base_uri": "https://localhost:8080/",
          "height": 206
        },
        "outputId": "22b5822c-ac2a-44a3-b827-b16984441707"
      },
      "execution_count": 564,
      "outputs": [
        {
          "output_type": "execute_result",
          "data": {
            "text/plain": [
              "            Mac     SessionMainMenu AppName LogId         Event     ItemId  \\\n",
              "0  B046FCAC0DC1 2016-02-12 12:35:13     VOD    52       StopVOD  100052388   \n",
              "1  B046FCAC0DC1 2016-02-11 01:01:56    IPTV    40     EnterIPTV              \n",
              "2  B046FCAC0DC1 2016-02-11 01:02:29     VOD    55       NextVOD  100052388   \n",
              "3  B046FCAC0DC1 2016-02-12 04:44:59    IPTV    18  ChangeModule              \n",
              "4  B046FCAC0DC1 2016-02-12 12:35:13     VOD    54       PlayVOD  100052388   \n",
              "\n",
              "  RealTimePlaying n_days_use  \n",
              "0           570.3        375  \n",
              "1                        375  \n",
              "2                        375  \n",
              "3                        375  \n",
              "4                        375  "
            ],
            "text/html": [
              "\n",
              "  <div id=\"df-28d5c89e-687a-4e25-8d6a-2f508ee26b49\">\n",
              "    <div class=\"colab-df-container\">\n",
              "      <div>\n",
              "<style scoped>\n",
              "    .dataframe tbody tr th:only-of-type {\n",
              "        vertical-align: middle;\n",
              "    }\n",
              "\n",
              "    .dataframe tbody tr th {\n",
              "        vertical-align: top;\n",
              "    }\n",
              "\n",
              "    .dataframe thead th {\n",
              "        text-align: right;\n",
              "    }\n",
              "</style>\n",
              "<table border=\"1\" class=\"dataframe\">\n",
              "  <thead>\n",
              "    <tr style=\"text-align: right;\">\n",
              "      <th></th>\n",
              "      <th>Mac</th>\n",
              "      <th>SessionMainMenu</th>\n",
              "      <th>AppName</th>\n",
              "      <th>LogId</th>\n",
              "      <th>Event</th>\n",
              "      <th>ItemId</th>\n",
              "      <th>RealTimePlaying</th>\n",
              "      <th>n_days_use</th>\n",
              "    </tr>\n",
              "  </thead>\n",
              "  <tbody>\n",
              "    <tr>\n",
              "      <th>0</th>\n",
              "      <td>B046FCAC0DC1</td>\n",
              "      <td>2016-02-12 12:35:13</td>\n",
              "      <td>VOD</td>\n",
              "      <td>52</td>\n",
              "      <td>StopVOD</td>\n",
              "      <td>100052388</td>\n",
              "      <td>570.3</td>\n",
              "      <td>375</td>\n",
              "    </tr>\n",
              "    <tr>\n",
              "      <th>1</th>\n",
              "      <td>B046FCAC0DC1</td>\n",
              "      <td>2016-02-11 01:01:56</td>\n",
              "      <td>IPTV</td>\n",
              "      <td>40</td>\n",
              "      <td>EnterIPTV</td>\n",
              "      <td></td>\n",
              "      <td></td>\n",
              "      <td>375</td>\n",
              "    </tr>\n",
              "    <tr>\n",
              "      <th>2</th>\n",
              "      <td>B046FCAC0DC1</td>\n",
              "      <td>2016-02-11 01:02:29</td>\n",
              "      <td>VOD</td>\n",
              "      <td>55</td>\n",
              "      <td>NextVOD</td>\n",
              "      <td>100052388</td>\n",
              "      <td></td>\n",
              "      <td>375</td>\n",
              "    </tr>\n",
              "    <tr>\n",
              "      <th>3</th>\n",
              "      <td>B046FCAC0DC1</td>\n",
              "      <td>2016-02-12 04:44:59</td>\n",
              "      <td>IPTV</td>\n",
              "      <td>18</td>\n",
              "      <td>ChangeModule</td>\n",
              "      <td></td>\n",
              "      <td></td>\n",
              "      <td>375</td>\n",
              "    </tr>\n",
              "    <tr>\n",
              "      <th>4</th>\n",
              "      <td>B046FCAC0DC1</td>\n",
              "      <td>2016-02-12 12:35:13</td>\n",
              "      <td>VOD</td>\n",
              "      <td>54</td>\n",
              "      <td>PlayVOD</td>\n",
              "      <td>100052388</td>\n",
              "      <td></td>\n",
              "      <td>375</td>\n",
              "    </tr>\n",
              "  </tbody>\n",
              "</table>\n",
              "</div>\n",
              "      <button class=\"colab-df-convert\" onclick=\"convertToInteractive('df-28d5c89e-687a-4e25-8d6a-2f508ee26b49')\"\n",
              "              title=\"Convert this dataframe to an interactive table.\"\n",
              "              style=\"display:none;\">\n",
              "        \n",
              "  <svg xmlns=\"http://www.w3.org/2000/svg\" height=\"24px\"viewBox=\"0 0 24 24\"\n",
              "       width=\"24px\">\n",
              "    <path d=\"M0 0h24v24H0V0z\" fill=\"none\"/>\n",
              "    <path d=\"M18.56 5.44l.94 2.06.94-2.06 2.06-.94-2.06-.94-.94-2.06-.94 2.06-2.06.94zm-11 1L8.5 8.5l.94-2.06 2.06-.94-2.06-.94L8.5 2.5l-.94 2.06-2.06.94zm10 10l.94 2.06.94-2.06 2.06-.94-2.06-.94-.94-2.06-.94 2.06-2.06.94z\"/><path d=\"M17.41 7.96l-1.37-1.37c-.4-.4-.92-.59-1.43-.59-.52 0-1.04.2-1.43.59L10.3 9.45l-7.72 7.72c-.78.78-.78 2.05 0 2.83L4 21.41c.39.39.9.59 1.41.59.51 0 1.02-.2 1.41-.59l7.78-7.78 2.81-2.81c.8-.78.8-2.07 0-2.86zM5.41 20L4 18.59l7.72-7.72 1.47 1.35L5.41 20z\"/>\n",
              "  </svg>\n",
              "      </button>\n",
              "      \n",
              "  <style>\n",
              "    .colab-df-container {\n",
              "      display:flex;\n",
              "      flex-wrap:wrap;\n",
              "      gap: 12px;\n",
              "    }\n",
              "\n",
              "    .colab-df-convert {\n",
              "      background-color: #E8F0FE;\n",
              "      border: none;\n",
              "      border-radius: 50%;\n",
              "      cursor: pointer;\n",
              "      display: none;\n",
              "      fill: #1967D2;\n",
              "      height: 32px;\n",
              "      padding: 0 0 0 0;\n",
              "      width: 32px;\n",
              "    }\n",
              "\n",
              "    .colab-df-convert:hover {\n",
              "      background-color: #E2EBFA;\n",
              "      box-shadow: 0px 1px 2px rgba(60, 64, 67, 0.3), 0px 1px 3px 1px rgba(60, 64, 67, 0.15);\n",
              "      fill: #174EA6;\n",
              "    }\n",
              "\n",
              "    [theme=dark] .colab-df-convert {\n",
              "      background-color: #3B4455;\n",
              "      fill: #D2E3FC;\n",
              "    }\n",
              "\n",
              "    [theme=dark] .colab-df-convert:hover {\n",
              "      background-color: #434B5C;\n",
              "      box-shadow: 0px 1px 3px 1px rgba(0, 0, 0, 0.15);\n",
              "      filter: drop-shadow(0px 1px 2px rgba(0, 0, 0, 0.3));\n",
              "      fill: #FFFFFF;\n",
              "    }\n",
              "  </style>\n",
              "\n",
              "      <script>\n",
              "        const buttonEl =\n",
              "          document.querySelector('#df-28d5c89e-687a-4e25-8d6a-2f508ee26b49 button.colab-df-convert');\n",
              "        buttonEl.style.display =\n",
              "          google.colab.kernel.accessAllowed ? 'block' : 'none';\n",
              "\n",
              "        async function convertToInteractive(key) {\n",
              "          const element = document.querySelector('#df-28d5c89e-687a-4e25-8d6a-2f508ee26b49');\n",
              "          const dataTable =\n",
              "            await google.colab.kernel.invokeFunction('convertToInteractive',\n",
              "                                                     [key], {});\n",
              "          if (!dataTable) return;\n",
              "\n",
              "          const docLinkHtml = 'Like what you see? Visit the ' +\n",
              "            '<a target=\"_blank\" href=https://colab.research.google.com/notebooks/data_table.ipynb>data table notebook</a>'\n",
              "            + ' to learn more about interactive tables.';\n",
              "          element.innerHTML = '';\n",
              "          dataTable['output_type'] = 'display_data';\n",
              "          await google.colab.output.renderOutput(dataTable, element);\n",
              "          const docLink = document.createElement('div');\n",
              "          docLink.innerHTML = docLinkHtml;\n",
              "          element.appendChild(docLink);\n",
              "        }\n",
              "      </script>\n",
              "    </div>\n",
              "  </div>\n",
              "  "
            ]
          },
          "metadata": {},
          "execution_count": 564
        }
      ]
    },
    {
      "cell_type": "markdown",
      "source": [
        "##### Số thực cho cột `RealTimePlaying`"
      ],
      "metadata": {
        "id": "I4A-orfBP4ma"
      }
    },
    {
      "cell_type": "code",
      "source": [
        "#@title\n",
        "def to_float(x):\n",
        "  try:\n",
        "    return float(x)\n",
        "  except:\n",
        "    return None\n",
        "df['RealTimePlaying'] = df['RealTimePlaying'].apply(lambda x: to_float(x))"
      ],
      "metadata": {
        "id": "tVaBhhoZP387"
      },
      "execution_count": 565,
      "outputs": []
    },
    {
      "cell_type": "markdown",
      "source": [
        "##### Số nguyên cho cột `n_days_use`"
      ],
      "metadata": {
        "id": "B05eBgK9ZSaJ"
      }
    },
    {
      "cell_type": "code",
      "source": [
        "#@title\n",
        "def to_int(x):\n",
        "  try:\n",
        "    return int(x)\n",
        "  except:\n",
        "    return None\n",
        "df['n_days_use'] = df['n_days_use'].apply(lambda x: to_int(x))"
      ],
      "metadata": {
        "id": "GmtVVPGcfpVw"
      },
      "execution_count": 566,
      "outputs": []
    },
    {
      "cell_type": "code",
      "source": [
        "#@title\n",
        "df.info()"
      ],
      "metadata": {
        "colab": {
          "base_uri": "https://localhost:8080/",
          "height": 0
        },
        "id": "KdWp_JWDQPsZ",
        "outputId": "559fb3a1-9494-47cc-b7a9-15bdc2d5506a"
      },
      "execution_count": 567,
      "outputs": [
        {
          "output_type": "stream",
          "name": "stdout",
          "text": [
            "<class 'pandas.core.frame.DataFrame'>\n",
            "Int64Index: 788101 entries, 0 to 1028790\n",
            "Data columns (total 8 columns):\n",
            " #   Column           Non-Null Count   Dtype         \n",
            "---  ------           --------------   -----         \n",
            " 0   Mac              788079 non-null  object        \n",
            " 1   SessionMainMenu  788079 non-null  datetime64[ns]\n",
            " 2   AppName          788079 non-null  object        \n",
            " 3   LogId            788079 non-null  object        \n",
            " 4   Event            788079 non-null  object        \n",
            " 5   ItemId           788079 non-null  object        \n",
            " 6   RealTimePlaying  293035 non-null  float64       \n",
            " 7   n_days_use       788079 non-null  float64       \n",
            "dtypes: datetime64[ns](1), float64(2), object(5)\n",
            "memory usage: 54.1+ MB\n"
          ]
        }
      ]
    },
    {
      "cell_type": "markdown",
      "source": [
        "### Tổng quan"
      ],
      "metadata": {
        "id": "gHrbo4BRv5jn"
      }
    },
    {
      "cell_type": "markdown",
      "source": [
        "#### **1. Số ngày sử dụng trước khi hủy dịch vụ của khách hàng**"
      ],
      "metadata": {
        "id": "JLHPz11eL7Qw"
      }
    },
    {
      "cell_type": "code",
      "source": [
        "#@title\n",
        "df['n_days_use'].describe()"
      ],
      "metadata": {
        "colab": {
          "base_uri": "https://localhost:8080/",
          "height": 0
        },
        "id": "hSXqMbuKzLFE",
        "outputId": "c09455f6-ce2a-4c23-aacc-5234fefd7063"
      },
      "execution_count": 572,
      "outputs": [
        {
          "output_type": "execute_result",
          "data": {
            "text/plain": [
              "count    788079.000000\n",
              "mean        237.260048\n",
              "std         169.969920\n",
              "min           0.000000\n",
              "25%          68.000000\n",
              "50%         236.000000\n",
              "75%         390.000000\n",
              "max         976.000000\n",
              "Name: n_days_use, dtype: float64"
            ]
          },
          "metadata": {},
          "execution_count": 572
        }
      ]
    },
    {
      "cell_type": "code",
      "source": [
        "#@title \n",
        "plt.figure(figsize=(15,10))\n",
        "\n",
        "df['n_days_use'].plot.hist(bins = 20, rwidth=0.9,)\n",
        "plt.grid(axis='y', alpha=0.75)\n",
        "plt.show()"
      ],
      "metadata": {
        "colab": {
          "base_uri": "https://localhost:8080/",
          "height": 592
        },
        "id": "2bW-uPQF2UjO",
        "outputId": "5d46786c-0049-48b7-c201-15052d181ccd",
        "cellView": "code"
      },
      "execution_count": 573,
      "outputs": [
        {
          "output_type": "display_data",
          "data": {
            "text/plain": [
              "<Figure size 1080x720 with 1 Axes>"
            ],
            "image/png": "[encoded data removed]"
          },
          "metadata": {
            "needs_background": "light"
          }
        }
      ]
    },
    {
      "cell_type": "code",
      "source": [
        "#@title\n",
        "n_days_use_df['n_days_use'] = n_days_use_df['n_days_use'].astype(int)\n",
        "def classify(x):\n",
        "  if x < 30:\n",
        "    return \"Duoi 1 thang\"\n",
        "  elif x < 180:\n",
        "    return \"Tu 1 den 6 thang\"\n",
        "  elif x < 356:\n",
        "    return \"Tu 6 thang den 1 nam\"\n",
        "  elif x < 534:\n",
        "    return \"Tu 1 den 1.5 nam\"\n",
        "  elif x < 712:\n",
        "    return \"Tu 1.5 den 2 nam\"\n",
        "  else:\n",
        "    return \"Tren 2 nam\"\n",
        "\n",
        "n_days_use_df['Category'] = n_days_use_df['n_days_use'].apply(lambda x: classify(x))\n",
        "n_days_use_df['Category'].value_counts()"
      ],
      "metadata": {
        "id": "LKNeksyowx4O",
        "colab": {
          "base_uri": "https://localhost:8080/",
          "height": 0
        },
        "outputId": "0af5e84f-9203-4803-8245-674dc1e66788"
      },
      "execution_count": 582,
      "outputs": [
        {
          "output_type": "execute_result",
          "data": {
            "text/plain": [
              "Tu 6 thang den 1 nam    792\n",
              "Tu 1 den 1.5 nam        746\n",
              "Tu 1 den 6 thang        713\n",
              "Duoi 1 thang            228\n",
              "Tu 1.5 den 2 nam        118\n",
              "Tren 2 nam               95\n",
              "Name: Category, dtype: int64"
            ]
          },
          "metadata": {},
          "execution_count": 582
        }
      ]
    },
    {
      "cell_type": "code",
      "source": [
        "#@title\n",
        "plt.figure(figsize=(12,7))\n",
        "sns.countplot(x = 'Category', data = n_days_use_df, color=(39/255, 156/255, 245/255, 0.9), width=0.5, saturation=0.7)\n",
        "plt.show()"
      ],
      "metadata": {
        "colab": {
          "base_uri": "https://localhost:8080/",
          "height": 442
        },
        "id": "uIFOxEriv-UD",
        "outputId": "41481b51-f625-4b18-c9cc-743787f3b042"
      },
      "execution_count": 583,
      "outputs": [
        {
          "output_type": "display_data",
          "data": {
            "text/plain": [
              "<Figure size 864x504 with 1 Axes>"
            ],
            "image/png": "[encoded data removed]"
          },
          "metadata": {
            "needs_background": "light"
          }
        }
      ]
    },
    {
      "cell_type": "markdown",
      "source": [
        "> **Kết luận:**\n",
        "\n",
        ">> **50% khách hàng hủy dịch vụ chỉ sử dụng trong khoảng 9 tháng và 25% số khách hàng hủy dịch vụ chỉ sử dụng trong 6 tháng**\n"
      ],
      "metadata": {
        "id": "iasF-LeOUAKo"
      }
    },
    {
      "cell_type": "markdown",
      "source": [
        "#### **2. Hành vi sử dụng của các khách hàng hủy dịch vụ**"
      ],
      "metadata": {
        "id": "pgU40PcRQAWU"
      }
    },
    {
      "cell_type": "markdown",
      "source": [
        "##### **2.1 Khách hàng thường xem gì?**"
      ],
      "metadata": {
        "id": "O_MOxrzJZ-za"
      }
    },
    {
      "cell_type": "code",
      "source": [
        "#@title\n",
        "plt.figure(figsize=(10,8))\n",
        "most_view_item = df['ItemId'].value_counts()[1:11]\n",
        "most_view_item.plot.bar()\n",
        "plt.ylabel('Lượt xem')\n",
        "plt.xlabel('Item')\n",
        "plt.title('Top 10 Item được xem nhiều nhất')\n",
        "plt.show()"
      ],
      "metadata": {
        "colab": {
          "base_uri": "https://localhost:8080/",
          "height": 523
        },
        "id": "mX37s8xLGF2e",
        "outputId": "492ae75b-a9f0-4dd4-8065-934c41d2e3c1"
      },
      "execution_count": 584,
      "outputs": [
        {
          "output_type": "display_data",
          "data": {
            "text/plain": [
              "<Figure size 720x576 with 1 Axes>"
            ],
            "image/png": "[encoded data removed]"
          },
          "metadata": {
            "needs_background": "light"
          }
        }
      ]
    },
    {
      "cell_type": "markdown",
      "source": [
        "##### **2.2 Số lượt tương tác với dịch vụ của khách hàng giữa các tháng trong năm**"
      ],
      "metadata": {
        "id": "LN-dmzz38Gkf"
      }
    },
    {
      "cell_type": "code",
      "source": [
        "df['Month'] = df['SessionMainMenu'].dt.month\n",
        "df['Month'].value_counts()\n",
        "\n",
        "#@title\n",
        "plt.figure(figsize=(12,7))\n",
        "#df['Month'].plot.bar()\n",
        "sns.countplot(df, x= 'Month', color = 'lightblue', width=0.7)\n",
        "plt.title('Lượt tương tác giữa các tháng trong năm')\n",
        "plt.grid(axis='y', alpha=0.5)\n",
        "plt.show()"
      ],
      "metadata": {
        "colab": {
          "base_uri": "https://localhost:8080/",
          "height": 458
        },
        "id": "-AK5OXEN8S3q",
        "outputId": "8d52fbfe-d4f8-428c-ccd2-7e711997f4ab"
      },
      "execution_count": 635,
      "outputs": [
        {
          "output_type": "display_data",
          "data": {
            "text/plain": [
              "<Figure size 864x504 with 1 Axes>"
            ],
            "image/png": "[encoded data removed]"
          },
          "metadata": {
            "needs_background": "light"
          }
        }
      ]
    },
    {
      "cell_type": "markdown",
      "source": [
        "> **Nhận xét**:\n",
        "\n",
        ">> **Trong tập logs chỉ chưa thông tin của tháng 1, 2, 3, 8, 9, 10**\n",
        "\n",
        ">> **Khách hàng tương tác nhiều nhất với dịch vụ chủ yếu vào tháng 2 có thể rơi vào dịp lễ Tết** "
      ],
      "metadata": {
        "id": "tKZtKtlQ8aZR"
      }
    },
    {
      "cell_type": "markdown",
      "source": [
        "#### **2.2 Thời gian trung bình xem TV mỗi ngày của khách hàng qua thời gian**"
      ],
      "metadata": {
        "id": "_mHKBVNrXnk0"
      }
    },
    {
      "cell_type": "code",
      "source": [
        "#@title\n",
        "def get_date(x):\n",
        "  try:\n",
        "    return x.date()\n",
        "  except:\n",
        "    return None\n",
        "\n",
        "df['Date'] = df['SessionMainMenu'].apply(lambda x: get_date(x))"
      ],
      "metadata": {
        "id": "m_moRBMPg5zO"
      },
      "execution_count": 590,
      "outputs": []
    },
    {
      "cell_type": "code",
      "source": [
        "group = df.groupby(by=['Mac', 'Date']).agg({'RealTimePlaying':'sum'}).reset_index()\n",
        "group = group[group['RealTimePlaying'] < 2e+04]\n",
        "plt.figure(figsize=(15,8))\n",
        "sns.lineplot(data= group, x='Date', y = 'RealTimePlaying')\n",
        "plt.show()"
      ],
      "metadata": {
        "colab": {
          "base_uri": "https://localhost:8080/",
          "height": 497
        },
        "id": "63ZDOGQQXoBS",
        "outputId": "05d48dd1-74aa-436d-fb7e-7ecca24ca12d"
      },
      "execution_count": 592,
      "outputs": [
        {
          "output_type": "display_data",
          "data": {
            "text/plain": [
              "<Figure size 1080x576 with 1 Axes>"
            ],
            "image/png": "[encoded data removed]"
          },
          "metadata": {
            "needs_background": "light"
          }
        }
      ]
    },
    {
      "cell_type": "markdown",
      "source": [
        "> **Nhận xét:**\n",
        "\n",
        ">> **Mặc dù tháng 2 là tháng có nhiều lượt tương tác nhất trong năm. Nhưng giai đoạn tháng 8 và 9 mới là giai đoạn có thời gian khách hàng xem TV nhiều nhất.**"
      ],
      "metadata": {
        "id": "-_LToA1cYPRP"
      }
    },
    {
      "cell_type": "markdown",
      "source": [
        "##### **2.2 Khách hàng thường xem vào thời điểm nào trong tuần?**"
      ],
      "metadata": {
        "id": "lmdC7OiZUZ9v"
      }
    },
    {
      "cell_type": "code",
      "source": [
        "#@title\n",
        "def get_weekday_name(x):\n",
        "  try:\n",
        "    return x.strftime('%A')\n",
        "  except:\n",
        "    return None\n",
        "\n",
        "df['WeekdayName'] = df['SessionMainMenu'].apply(lambda x: get_weekday_name(x))"
      ],
      "metadata": {
        "id": "G67MOnhdII-O"
      },
      "execution_count": 593,
      "outputs": []
    },
    {
      "cell_type": "code",
      "source": [
        "#@title\n",
        "plt.figure(figsize=(15,7))\n",
        "freq = df['WeekdayName'].value_counts()\n",
        "freq.plot.barh()\n",
        "plt.xlabel('Lượt xem')\n",
        "plt.title('Lượt xem qua các ngày trong tuần')\n",
        "plt.show()"
      ],
      "metadata": {
        "colab": {
          "base_uri": "https://localhost:8080/",
          "height": 459
        },
        "id": "yZDaJJRtJXCe",
        "outputId": "55f62f20-6fdb-4e2f-cf12-8cdd9d84c0f0"
      },
      "execution_count": 594,
      "outputs": [
        {
          "output_type": "display_data",
          "data": {
            "text/plain": [
              "<Figure size 1080x504 with 1 Axes>"
            ],
            "image/png": "[encoded data removed]"
          },
          "metadata": {
            "needs_background": "light"
          }
        }
      ]
    },
    {
      "cell_type": "markdown",
      "source": [
        "> **Nhận xét:**\n",
        "\n",
        ">> **Khách hàng chủ yếu xem vào các ngày cuối tuần.**\n",
        "\n",
        "\n",
        ">> **Lượt xem thấp nhất là vào giữa tuần**"
      ],
      "metadata": {
        "id": "SycEMAR4MkUg"
      }
    },
    {
      "cell_type": "markdown",
      "source": [
        "##### **2.3 Khách hàng thường xem vào thời điểm nào trong ngày?**"
      ],
      "metadata": {
        "id": "ch3-iH78ZPL8"
      }
    },
    {
      "cell_type": "code",
      "source": [
        "#@title\n",
        "def extract_hour(x):\n",
        "  try:\n",
        "    return x.hour\n",
        "  except:\n",
        "    return None\n",
        "\n",
        "df['Hour'] = df['SessionMainMenu'].apply(lambda x: extract_hour(x))"
      ],
      "metadata": {
        "id": "hrHbbcPoNVzX"
      },
      "execution_count": 595,
      "outputs": []
    },
    {
      "cell_type": "code",
      "source": [
        "#@title\n",
        "plt.figure(figsize=(14,7))\n",
        "sns.countplot(df, x= 'Hour')\n",
        "plt.title('Thời điểm xem trong ngày')\n",
        "plt.grid(axis='y', alpha=0.5)\n",
        "plt.show()"
      ],
      "metadata": {
        "colab": {
          "base_uri": "https://localhost:8080/",
          "height": 459
        },
        "id": "iiTY9IjNNk0W",
        "outputId": "e67fb8ba-5ccd-40b4-95e7-095cbfb08bd1"
      },
      "execution_count": 596,
      "outputs": [
        {
          "output_type": "display_data",
          "data": {
            "text/plain": [
              "<Figure size 1008x504 with 1 Axes>"
            ],
            "image/png": "[encoded data removed]"
          },
          "metadata": {
            "needs_background": "light"
          }
        }
      ]
    },
    {
      "cell_type": "markdown",
      "source": [
        "> **Nhận xét:**\n",
        "\n",
        ">> **Ta thấy rằng biểu đồ có 2 đỉnh. Đỉnh thứ nhất rơi vào khung giờ trưa từ 11 - 12 giờ. Đỉnh thứ 2 rơi vào khung giờ tối từ 18 - 20 giờ.**\n",
        "\n",
        ">> **Ta cũng thấy rằng đỉnh thứ 2 cao hơn đỉnh 1 khoảng 1.5 lần. Cho thấy tập quán xem tivi vào buổi tối của các gia đình**"
      ],
      "metadata": {
        "id": "A9bvAxiGOoa_"
      }
    },
    {
      "cell_type": "markdown",
      "source": [
        "##### **2.4 Khách hàng thường xem bao lâu mỗi ngày?** "
      ],
      "metadata": {
        "id": "hhcBX1CrZYaT"
      }
    },
    {
      "cell_type": "code",
      "source": [
        "#@title\n",
        "watching_time = df[(np.isnan(df['RealTimePlaying']) == False)]\n",
        "watching_time = watching_time.groupby(by = ['Mac', 'Date']).agg({'RealTimePlaying':'sum'}).reset_index().rename(columns={'RealTimePlaying':'Duration'})\n",
        "watching_time =  watching_time['Duration']                                                       \n",
        "watching_time.describe()"
      ],
      "metadata": {
        "colab": {
          "base_uri": "https://localhost:8080/",
          "height": 0
        },
        "id": "fG9_N9GUQ0G3",
        "outputId": "cda01519-ea26-4f48-b498-c28fcde08b71"
      },
      "execution_count": 598,
      "outputs": [
        {
          "output_type": "execute_result",
          "data": {
            "text/plain": [
              "count    2.254900e+04\n",
              "mean     1.616739e+04\n",
              "std      2.656339e+05\n",
              "min      3.920000e-01\n",
              "25%      1.774055e+03\n",
              "50%      6.337615e+03\n",
              "75%      1.469622e+04\n",
              "max      3.121355e+07\n",
              "Name: Duration, dtype: float64"
            ]
          },
          "metadata": {},
          "execution_count": 598
        }
      ]
    },
    {
      "cell_type": "markdown",
      "source": [
        "> **Có một vài giá trị ngoại lai. Để thấy rõ phân bố thời gian xem trên biểu đồ ta sẽ loại bỏ các giá trị ngoại lai này**"
      ],
      "metadata": {
        "id": "FwuaoRzhUAnV"
      }
    },
    {
      "cell_type": "code",
      "source": [
        "#@title\n",
        "watching_time = watching_time[watching_time < 2e+04]\n",
        "plt.figure(figsize=(8,6))\n",
        "plt.boxplot(watching_time, showmeans=True, showcaps=True)\n",
        "plt.grid(axis='y', alpha=0.5)\n",
        "plt.show()"
      ],
      "metadata": {
        "colab": {
          "base_uri": "https://localhost:8080/",
          "height": 374
        },
        "id": "mIGv7uesSXMi",
        "outputId": "1f1d8a9b-36ea-440e-de42-9c138eb30897"
      },
      "execution_count": 599,
      "outputs": [
        {
          "output_type": "display_data",
          "data": {
            "text/plain": [
              "<Figure size 576x432 with 1 Axes>"
            ],
            "image/png": "[encoded data removed]"
          },
          "metadata": {
            "needs_background": "light"
          }
        }
      ]
    },
    {
      "cell_type": "markdown",
      "source": [
        "> **Nhận xét:**\n",
        "\n",
        ">> **Có sự chênh lệch lớn về thời gian xem chương trình giữa các người dùng**\n",
        "\n",
        ">> **Thời gian xem trung bình 1 ngày là 6300 đơn vị thời gian**"
      ],
      "metadata": {
        "id": "WsUv8weDWw9-"
      }
    },
    {
      "cell_type": "markdown",
      "source": [
        "##### **2.5 Tần suất tương tác với dịch vụ của khách hàng mỗi ngày**"
      ],
      "metadata": {
        "id": "Qj4amFQyY6rh"
      }
    },
    {
      "cell_type": "code",
      "source": [
        "#@title\n",
        "interact_freq = df.groupby(by = ['Mac', 'Date']).agg({'Event':'count'}).reset_index()\n",
        "interact_freq.describe()"
      ],
      "metadata": {
        "colab": {
          "base_uri": "https://localhost:8080/",
          "height": 300
        },
        "id": "mvXB56zFZz5T",
        "outputId": "e508e388-edcb-4f9b-dc47-df224a92b8d0"
      },
      "execution_count": 600,
      "outputs": [
        {
          "output_type": "execute_result",
          "data": {
            "text/plain": [
              "              Event\n",
              "count  24077.000000\n",
              "mean      32.731611\n",
              "std       42.973854\n",
              "min        1.000000\n",
              "25%        9.000000\n",
              "50%       22.000000\n",
              "75%       42.000000\n",
              "max     2356.000000"
            ],
            "text/html": [
              "\n",
              "  <div id=\"df-26d4d0a5-f755-406f-9691-7bfde1e95bce\">\n",
              "    <div class=\"colab-df-container\">\n",
              "      <div>\n",
              "<style scoped>\n",
              "    .dataframe tbody tr th:only-of-type {\n",
              "        vertical-align: middle;\n",
              "    }\n",
              "\n",
              "    .dataframe tbody tr th {\n",
              "        vertical-align: top;\n",
              "    }\n",
              "\n",
              "    .dataframe thead th {\n",
              "        text-align: right;\n",
              "    }\n",
              "</style>\n",
              "<table border=\"1\" class=\"dataframe\">\n",
              "  <thead>\n",
              "    <tr style=\"text-align: right;\">\n",
              "      <th></th>\n",
              "      <th>Event</th>\n",
              "    </tr>\n",
              "  </thead>\n",
              "  <tbody>\n",
              "    <tr>\n",
              "      <th>count</th>\n",
              "      <td>24077.000000</td>\n",
              "    </tr>\n",
              "    <tr>\n",
              "      <th>mean</th>\n",
              "      <td>32.731611</td>\n",
              "    </tr>\n",
              "    <tr>\n",
              "      <th>std</th>\n",
              "      <td>42.973854</td>\n",
              "    </tr>\n",
              "    <tr>\n",
              "      <th>min</th>\n",
              "      <td>1.000000</td>\n",
              "    </tr>\n",
              "    <tr>\n",
              "      <th>25%</th>\n",
              "      <td>9.000000</td>\n",
              "    </tr>\n",
              "    <tr>\n",
              "      <th>50%</th>\n",
              "      <td>22.000000</td>\n",
              "    </tr>\n",
              "    <tr>\n",
              "      <th>75%</th>\n",
              "      <td>42.000000</td>\n",
              "    </tr>\n",
              "    <tr>\n",
              "      <th>max</th>\n",
              "      <td>2356.000000</td>\n",
              "    </tr>\n",
              "  </tbody>\n",
              "</table>\n",
              "</div>\n",
              "      <button class=\"colab-df-convert\" onclick=\"convertToInteractive('df-26d4d0a5-f755-406f-9691-7bfde1e95bce')\"\n",
              "              title=\"Convert this dataframe to an interactive table.\"\n",
              "              style=\"display:none;\">\n",
              "        \n",
              "  <svg xmlns=\"http://www.w3.org/2000/svg\" height=\"24px\"viewBox=\"0 0 24 24\"\n",
              "       width=\"24px\">\n",
              "    <path d=\"M0 0h24v24H0V0z\" fill=\"none\"/>\n",
              "    <path d=\"M18.56 5.44l.94 2.06.94-2.06 2.06-.94-2.06-.94-.94-2.06-.94 2.06-2.06.94zm-11 1L8.5 8.5l.94-2.06 2.06-.94-2.06-.94L8.5 2.5l-.94 2.06-2.06.94zm10 10l.94 2.06.94-2.06 2.06-.94-2.06-.94-.94-2.06-.94 2.06-2.06.94z\"/><path d=\"M17.41 7.96l-1.37-1.37c-.4-.4-.92-.59-1.43-.59-.52 0-1.04.2-1.43.59L10.3 9.45l-7.72 7.72c-.78.78-.78 2.05 0 2.83L4 21.41c.39.39.9.59 1.41.59.51 0 1.02-.2 1.41-.59l7.78-7.78 2.81-2.81c.8-.78.8-2.07 0-2.86zM5.41 20L4 18.59l7.72-7.72 1.47 1.35L5.41 20z\"/>\n",
              "  </svg>\n",
              "      </button>\n",
              "      \n",
              "  <style>\n",
              "    .colab-df-container {\n",
              "      display:flex;\n",
              "      flex-wrap:wrap;\n",
              "      gap: 12px;\n",
              "    }\n",
              "\n",
              "    .colab-df-convert {\n",
              "      background-color: #E8F0FE;\n",
              "      border: none;\n",
              "      border-radius: 50%;\n",
              "      cursor: pointer;\n",
              "      display: none;\n",
              "      fill: #1967D2;\n",
              "      height: 32px;\n",
              "      padding: 0 0 0 0;\n",
              "      width: 32px;\n",
              "    }\n",
              "\n",
              "    .colab-df-convert:hover {\n",
              "      background-color: #E2EBFA;\n",
              "      box-shadow: 0px 1px 2px rgba(60, 64, 67, 0.3), 0px 1px 3px 1px rgba(60, 64, 67, 0.15);\n",
              "      fill: #174EA6;\n",
              "    }\n",
              "\n",
              "    [theme=dark] .colab-df-convert {\n",
              "      background-color: #3B4455;\n",
              "      fill: #D2E3FC;\n",
              "    }\n",
              "\n",
              "    [theme=dark] .colab-df-convert:hover {\n",
              "      background-color: #434B5C;\n",
              "      box-shadow: 0px 1px 3px 1px rgba(0, 0, 0, 0.15);\n",
              "      filter: drop-shadow(0px 1px 2px rgba(0, 0, 0, 0.3));\n",
              "      fill: #FFFFFF;\n",
              "    }\n",
              "  </style>\n",
              "\n",
              "      <script>\n",
              "        const buttonEl =\n",
              "          document.querySelector('#df-26d4d0a5-f755-406f-9691-7bfde1e95bce button.colab-df-convert');\n",
              "        buttonEl.style.display =\n",
              "          google.colab.kernel.accessAllowed ? 'block' : 'none';\n",
              "\n",
              "        async function convertToInteractive(key) {\n",
              "          const element = document.querySelector('#df-26d4d0a5-f755-406f-9691-7bfde1e95bce');\n",
              "          const dataTable =\n",
              "            await google.colab.kernel.invokeFunction('convertToInteractive',\n",
              "                                                     [key], {});\n",
              "          if (!dataTable) return;\n",
              "\n",
              "          const docLinkHtml = 'Like what you see? Visit the ' +\n",
              "            '<a target=\"_blank\" href=https://colab.research.google.com/notebooks/data_table.ipynb>data table notebook</a>'\n",
              "            + ' to learn more about interactive tables.';\n",
              "          element.innerHTML = '';\n",
              "          dataTable['output_type'] = 'display_data';\n",
              "          await google.colab.output.renderOutput(dataTable, element);\n",
              "          const docLink = document.createElement('div');\n",
              "          docLink.innerHTML = docLinkHtml;\n",
              "          element.appendChild(docLink);\n",
              "        }\n",
              "      </script>\n",
              "    </div>\n",
              "  </div>\n",
              "  "
            ]
          },
          "metadata": {},
          "execution_count": 600
        }
      ]
    },
    {
      "cell_type": "code",
      "source": [
        "#@title\n",
        "# Loai bo outlier:\n",
        "\n",
        "interact_freq = interact_freq[interact_freq['Event'] < 100]['Event']\n",
        "plt.figure(figsize=(8,6))\n",
        "plt.boxplot(interact_freq, showmeans=True, showcaps=True)\n",
        "plt.grid(axis='y', alpha=0.5)\n",
        "plt.show()"
      ],
      "metadata": {
        "colab": {
          "base_uri": "https://localhost:8080/",
          "height": 374
        },
        "id": "bdAOfeytcr2w",
        "outputId": "97ef44b1-703d-4f13-9b35-da6bf9d37a0d"
      },
      "execution_count": 601,
      "outputs": [
        {
          "output_type": "display_data",
          "data": {
            "text/plain": [
              "<Figure size 576x432 with 1 Axes>"
            ],
            "image/png": "[encoded data removed]"
          },
          "metadata": {
            "needs_background": "light"
          }
        }
      ]
    },
    {
      "cell_type": "markdown",
      "source": [
        "> **Trung bình một ngày một khách hàng sẽ có 23 tương tác**"
      ],
      "metadata": {
        "id": "4QcbDW_fdYLy"
      }
    },
    {
      "cell_type": "markdown",
      "source": [
        "#### **3. Hành vi của khách hàng trước khi hủy dịch vụ**"
      ],
      "metadata": {
        "id": "UU_OhhhJaLiQ"
      }
    },
    {
      "cell_type": "markdown",
      "source": [
        "> **Để nhìn được những điểm khác biệt về hành vi giữa 2 thời điểm:**\n",
        "\n",
        ">> Thời điểm ngay trước lúc khách hàng hủy dịch vụ\n",
        "\n",
        ">> Thời điểm khách hàng xem dịch vụ ổn định (tạm gọi là hài lòng)\n",
        "\n",
        "> **Ta cắt dữ liệu ở 2 mốc đối với những khách hàng đăng kí lâu dài:**\n",
        "\n",
        ">> 1 tháng trước khi khách hàng hủy dịch vụ\n",
        "\n",
        ">> Các tháng trước mốc 1 tháng khách hàng hủy dịch vụ\n",
        "\n",
        "> **Ta cũng phân tích hành vi những đối tượng đăng kí dưới 1 tháng**"
      ],
      "metadata": {
        "id": "XXxMAlGFd4Ye"
      }
    },
    {
      "cell_type": "markdown",
      "source": [
        "> **Tuy nhiên dữ liệu log không đầy đủ từ thời điểm bắt đầu và kết thúc hợp đồng của các khách hàng gây khó khăn cho việc phân tích sự khác biệt**"
      ],
      "metadata": {
        "id": "PENm3RlHb-KR"
      }
    },
    {
      "cell_type": "markdown",
      "source": [
        "> **Giả sử thời điểm log cuối cùng là thời điểm kết thúc hợp đồng**"
      ],
      "metadata": {
        "id": "ksGETZBfccDI"
      }
    },
    {
      "cell_type": "code",
      "source": [
        "#@title\n",
        "log_first_last_date_use = df.groupby(by = ['Mac']).agg({'Date':['min', 'max']}).reset_index()#.rename(columns={'RealTimePlaying':'Duration'})\n",
        "log_first_last_date_use['Diff'] = ((log_first_last_date_use[('Date', 'max')] - log_first_last_date_use[('Date', 'min')]))/ np.timedelta64(1, 'D')\n",
        "log_first_last_date_use['FirstDate'] = log_first_last_date_use[('Date', 'min')]\n",
        "log_first_last_date_use['LastDate'] = log_first_last_date_use[('Date', 'max')]\n",
        "log_first_last_date_use.drop(columns='Date', inplace=True)\n",
        "log_first_last_date_use.columns = [''.join(x) for x in log_first_last_date_use.columns]"
      ],
      "metadata": {
        "id": "A37XuhHUVjCj",
        "colab": {
          "base_uri": "https://localhost:8080/",
          "height": 0
        },
        "outputId": "e2bbd215-59a4-4acc-a403-c8f8c17f123a"
      },
      "execution_count": 602,
      "outputs": [
        {
          "output_type": "stream",
          "name": "stderr",
          "text": [
            "<ipython-input-602-62e42ae10226>:6: PerformanceWarning: dropping on a non-lexsorted multi-index without a level parameter may impact performance.\n",
            "  log_first_last_date_use.drop(columns='Date', inplace=True)\n"
          ]
        }
      ]
    },
    {
      "cell_type": "code",
      "source": [
        "#@title\n",
        "log_first_last_date_use['Diff'].describe()"
      ],
      "metadata": {
        "colab": {
          "base_uri": "https://localhost:8080/",
          "height": 0
        },
        "id": "2p4-b0qFvHZz",
        "outputId": "47d11f2c-9cbe-4510-8586-b2ab9c440591"
      },
      "execution_count": 603,
      "outputs": [
        {
          "output_type": "execute_result",
          "data": {
            "text/plain": [
              "count    1693.000000\n",
              "mean       35.906084\n",
              "std        59.424864\n",
              "min         0.000000\n",
              "25%         9.000000\n",
              "50%        21.000000\n",
              "75%        29.000000\n",
              "max       417.000000\n",
              "Name: Diff, dtype: float64"
            ]
          },
          "metadata": {},
          "execution_count": 603
        }
      ]
    },
    {
      "cell_type": "markdown",
      "source": [
        "> **Trong dữ liệu logs: Trung bình một người sử dụng dịch vụ 36 ngày.**"
      ],
      "metadata": {
        "id": "XTTfIb5Vo5Kd"
      }
    },
    {
      "cell_type": "code",
      "source": [
        "#@title\n",
        "df = df.merge(log_first_last_date_use, how = 'inner',right_on = 'Mac',left_on = 'Mac')\n",
        "def classify(row):\n",
        "    if row['Diff'] <= 30:\n",
        "      return 0\n",
        "    elif row['Diff'] >= 60:\n",
        "      if (row['LastDate'] - row['Date']).days > 30:\n",
        "        return 1\n",
        "      else:\n",
        "        return 2\n",
        "    else:\n",
        "      return None\n",
        "\n",
        "df['Category'] = df.apply(lambda row: classify(row), axis=1)"
      ],
      "metadata": {
        "id": "TaSPkUpDv-8W"
      },
      "execution_count": 604,
      "outputs": []
    },
    {
      "cell_type": "code",
      "source": [
        "#@title\n",
        "def classify(row):\n",
        "    if row['n_days_use'] <= 30:\n",
        "      return 0\n",
        "    elif row['n_days_use'] >= 60:\n",
        "      if (row['LastDate'] - row['Date']).days > 30:\n",
        "        return 1\n",
        "      else:\n",
        "        return 2\n",
        "    else:\n",
        "      return None\n",
        "\n",
        "df['Category'] = df.apply(lambda row: classify(row), axis=1)"
      ],
      "metadata": {
        "id": "7nd02L_iVsAP"
      },
      "execution_count": 607,
      "outputs": []
    },
    {
      "cell_type": "markdown",
      "source": [
        "##### **3.1 Khác biệt về thời gian xem mỗi ngày**"
      ],
      "metadata": {
        "id": "Nd27yReYsrJk"
      }
    },
    {
      "cell_type": "code",
      "source": [
        "#@title\n",
        "tmp = df[(np.isnan(df['RealTimePlaying']) == False)]\n",
        "tmp = tmp.groupby(by = ['Mac', 'Date', 'Category']).agg({'RealTimePlaying':'sum'}).reset_index().rename(columns={'RealTimePlaying':'Duration'})\n"
      ],
      "metadata": {
        "colab": {
          "base_uri": "https://localhost:8080/",
          "height": 0
        },
        "id": "UkmNtlOzsv6G",
        "outputId": "cf7a8f8d-c4cc-4d6f-ead1-eff9749ff40e"
      },
      "execution_count": 612,
      "outputs": [
        {
          "output_type": "execute_result",
          "data": {
            "text/plain": [
              "count    2.043300e+04\n",
              "mean     1.639958e+04\n",
              "std      2.784929e+05\n",
              "min      3.920000e-01\n",
              "25%      1.792334e+03\n",
              "50%      6.336253e+03\n",
              "75%      1.469533e+04\n",
              "max      3.121355e+07\n",
              "Name: Duration, dtype: float64"
            ]
          },
          "metadata": {},
          "execution_count": 612
        }
      ]
    },
    {
      "cell_type": "code",
      "source": [
        "#@title\n",
        "tmp = tmp[watching_time < 20e+03]\n",
        "plt.figure(figsize=(10,8))\n",
        "sns.boxplot(data=tmp, x='Category', y='Duration',showmeans=True, showcaps=True, meanprops={\"marker\":\"s\",\"markerfacecolor\":\"white\", \"markeredgecolor\":\"blue\"})\n",
        "red_patch = mpatches.Patch(color='blue', label='Người đăng kí dưới 1 tháng')\n",
        "a = mpatches.Patch(color='orange', label='Giai đoạn ổn định người đăng kí trên 2 tháng')\n",
        "b = mpatches.Patch(color='green', label='Tháng cuối của người đăng kí trên 2 tháng')\n",
        "plt.legend(handles=[red_patch, a, b], loc='upper right', fontsize=10)\n",
        "plt.show()"
      ],
      "metadata": {
        "colab": {
          "base_uri": "https://localhost:8080/",
          "height": 532
        },
        "id": "zPucy8Pp1dk-",
        "outputId": "699a196a-eab4-419e-e2fe-16c2a0ba3831"
      },
      "execution_count": 616,
      "outputs": [
        {
          "output_type": "stream",
          "name": "stderr",
          "text": [
            "<ipython-input-616-b160e9a73661>:2: UserWarning: Boolean Series key will be reindexed to match DataFrame index.\n",
            "  tmp = tmp[watching_time < 20e+03]\n"
          ]
        },
        {
          "output_type": "display_data",
          "data": {
            "text/plain": [
              "<Figure size 720x576 with 1 Axes>"
            ],
            "image/png": "[encoded data removed]"
          },
          "metadata": {
            "needs_background": "light"
          }
        }
      ]
    },
    {
      "cell_type": "code",
      "source": [
        "plt.figure(figsize=(15,7))\n",
        "sns.lineplot(x='Date', \n",
        "             y='Duration',\n",
        "             hue='Category', \n",
        "             palette=['b','r','g'],\n",
        "             data=tmp)\n",
        "plt.grid(axis='y', alpha=0.5)\n",
        "red_patch = mpatches.Patch(color='blue', label='Người đăng kí dưới 1 tháng')\n",
        "a = mpatches.Patch(color='red', label='Giai đoạn ổn định người đăng kí trên 2 tháng')\n",
        "b = mpatches.Patch(color='green', label='Tháng cuối của người đăng kí trên 2 tháng')\n",
        "plt.legend(handles=[red_patch, a, b], loc='upper right', fontsize=10)\n",
        "plt.show()"
      ],
      "metadata": {
        "colab": {
          "base_uri": "https://localhost:8080/",
          "height": 442
        },
        "id": "ZLGF2bdpi6BI",
        "outputId": "8575d3c2-3469-4516-e183-1b38e6563385"
      },
      "execution_count": 624,
      "outputs": [
        {
          "output_type": "display_data",
          "data": {
            "text/plain": [
              "<Figure size 1080x504 with 1 Axes>"
            ],
            "image/png": "[encoded data removed]"
          },
          "metadata": {
            "needs_background": "light"
          }
        }
      ]
    },
    {
      "cell_type": "markdown",
      "source": [
        "> **Nhận xét:**\n",
        "\n",
        ">> Tháng cuối cùng của nhóm người đăng kí trên 2 tháng có xu hướng xem nhiều hơn bình thường. \n",
        "\n",
        ">> Nhóm người đăng kí dưới 1 tháng có thể thấy rõ là thời gian xem qua các ngày tăng đột biến vào tháng 2  sau đó giảm mạnh và tăng dần vào thời kì hè. "
      ],
      "metadata": {
        "id": "tdMEEQZQ6EQY"
      }
    },
    {
      "cell_type": "markdown",
      "source": [
        "##### **3.2 Khác biệt về tháng sử dụng**"
      ],
      "metadata": {
        "id": "N-Wx4RGM-OAy"
      }
    },
    {
      "cell_type": "code",
      "source": [
        "df['Category'].value_counts()"
      ],
      "metadata": {
        "colab": {
          "base_uri": "https://localhost:8080/",
          "height": 0
        },
        "id": "Bj41qRqgmd99",
        "outputId": "41085d78-9a1f-4698-acb0-7f08888e8f40"
      },
      "execution_count": 627,
      "outputs": [
        {
          "output_type": "execute_result",
          "data": {
            "text/plain": [
              "2.0    536685\n",
              "0.0    100327\n",
              "1.0     76329\n",
              "Name: Category, dtype: int64"
            ]
          },
          "metadata": {},
          "execution_count": 627
        }
      ]
    },
    {
      "cell_type": "code",
      "source": [
        "#@title\n",
        "plt.figure(figsize=(14,7))\n",
        "sns.countplot(df, x= 'Month', hue='Category')\n",
        "plt.title('Lượt xem giữa các tháng trong năm')\n",
        "# red_patch = mpatches.Patch(color='blue', label='Người đăng kí dưới 1 tháng')\n",
        "# a = mpatches.Patch(color='orange', label='Giai đoạn ổn định người đăng kí trên 2 tháng')\n",
        "# b = mpatches.Patch(color='green', label='Tháng cuối của người đăng kí trên 2 tháng')\n",
        "# plt.legend(handles=[red_patch, a, b], loc='upper right', fontsize=10)\n",
        "plt.grid(axis='y', alpha=0.5)\n",
        "plt.show()"
      ],
      "metadata": {
        "colab": {
          "base_uri": "https://localhost:8080/",
          "height": 458
        },
        "id": "k3WIfGLO7lis",
        "outputId": "59e7d837-7e75-4980-db2f-64d1294c4d2d"
      },
      "execution_count": 625,
      "outputs": [
        {
          "output_type": "display_data",
          "data": {
            "text/plain": [
              "<Figure size 1008x504 with 1 Axes>"
            ],
            "image/png": "[encoded data removed]"
          },
          "metadata": {
            "needs_background": "light"
          }
        }
      ]
    },
    {
      "cell_type": "markdown",
      "source": [
        "> **Nhận xét:**\n",
        "\n",
        ">> Các khách hàng có thời gian đăng kí dưới 1 tháng thì lượng tương tác tập trung hoàn toàn vào tháng 2 và 3 (đây là tháng đối tượng này đăng kí sử dụng)\n",
        "\n",
        ">> Tháng cuối cùng trước khi hủy dịch vụ có lượng tương tác cao nhất."
      ],
      "metadata": {
        "id": "3zTnZP8a92om"
      }
    },
    {
      "cell_type": "markdown",
      "source": [
        "##### **3.3 Khác biệt về nội dung xem**"
      ],
      "metadata": {
        "id": "sPA0LcDOEQ7y"
      }
    },
    {
      "cell_type": "code",
      "source": [
        "#@title\n",
        "fig, (ax1, ax2) = plt.subplots(1, 2, figsize=(15,8))\n",
        "\n",
        "most_view_item = df[df['Category']==0]['ItemId'].value_counts()[1:11]\n",
        "ax1.bar(most_view_item.index, most_view_item.values)\n",
        "most_view_item = df[df['Category']==1]['ItemId'].value_counts()[1:11]\n",
        "ax2.bar(most_view_item.index, most_view_item.values)\n",
        "\n",
        "ax1.title.set_text('Top nội dung xem của nhóm đăng kí dưới 1 tháng')\n",
        "ax2.title.set_text('Top nội dung xem của nhóm đăng kí trên 2 tháng')"
      ],
      "metadata": {
        "colab": {
          "base_uri": "https://localhost:8080/",
          "height": 499
        },
        "id": "RY-4ZbygE4SD",
        "outputId": "be57a38c-445d-4ddc-c1c0-f391eb9a1d53"
      },
      "execution_count": 628,
      "outputs": [
        {
          "output_type": "display_data",
          "data": {
            "text/plain": [
              "<Figure size 1080x576 with 2 Axes>"
            ],
            "image/png": "[encoded data removed]"
          },
          "metadata": {
            "needs_background": "light"
          }
        }
      ]
    },
    {
      "cell_type": "markdown",
      "source": [
        "> **Nhận xét:**\n",
        "\n",
        ">> Ta thấy có sự khác biệt về nội dung xem giữa 2 nhóm. Có 2 nội dung là 161 nằm trong top nôi dung của nhóm người đăng kí dưới 1 tháng nhưng lại không xuất hiện trong top nội dung xem của nhóm người đăng kí trên 2 tháng. Và 147 ngược lại.\n",
        "\n",
        ">> Có thể suy ra rằng nhóm người đăng kí dưới 1 tháng có thể đăng kí để xem một số chương trình được phát sóng trong thời gian nhất định"
      ],
      "metadata": {
        "id": "Uhf-k1g-IjkG"
      }
    }
  ]
}